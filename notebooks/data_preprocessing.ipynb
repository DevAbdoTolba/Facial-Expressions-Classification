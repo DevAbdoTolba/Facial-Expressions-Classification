{
 "cells": [
  {
   "cell_type": "code",
   "execution_count": 14,
   "metadata": {},
   "outputs": [
    {
     "name": "stdout",
     "output_type": "stream",
     "text": [
      "Training Input Directory: ../Data/processed/dataset2/train/\n",
      "Training Output Directory: ../Data/processed/dataset2_processed/train/\n",
      "Testing Input Directory: ../Data/processed/dataset2/test/\n",
      "Testing Output Directory: ../Data/processed/dataset2_processed/test/\n",
      "Processing Dataset 2 - Training Set...\n",
      "No files found in directory: ../Data/processed/dataset2/train/\n"
     ]
    },
    {
     "name": "stderr",
     "output_type": "stream",
     "text": [
      "Processing files in ../Data/processed/dataset2/train/happy:   0%|          | 1/552 [00:00<01:20,  6.88it/s]"
     ]
    },
    {
     "name": "stdout",
     "output_type": "stream",
     "text": [
      "Copied image with face to ../Data/processed/dataset2_processed/train/happy/-survey-rating-concept-business-people-employee-with-smile-happy-face-vector.jpg\n"
     ]
    },
    {
     "name": "stderr",
     "output_type": "stream",
     "text": [
      "Processing files in ../Data/processed/dataset2/train/happy:   1%|          | 3/552 [00:00<01:36,  5.66it/s]"
     ]
    },
    {
     "name": "stdout",
     "output_type": "stream",
     "text": [
      "Copied image with face to ../Data/processed/dataset2_processed/train/happy/03B9E248-3CCB-4DCA-AD35-2502DC3692CF.jpg\n",
      "Copied image with face to ../Data/processed/dataset2_processed/train/happy/05-12-21-happy-people.jpg\n"
     ]
    },
    {
     "name": "stderr",
     "output_type": "stream",
     "text": [
      "Processing files in ../Data/processed/dataset2/train/happy:   1%|          | 4/552 [00:00<02:28,  3.68it/s]"
     ]
    },
    {
     "name": "stdout",
     "output_type": "stream",
     "text": [
      "Copied image with face to ../Data/processed/dataset2_processed/train/happy/1.png\n"
     ]
    },
    {
     "name": "stderr",
     "output_type": "stream",
     "text": [
      "Processing files in ../Data/processed/dataset2/train/happy:   1%|          | 6/552 [00:01<03:17,  2.77it/s]"
     ]
    },
    {
     "name": "stdout",
     "output_type": "stream",
     "text": [
      "Copied image with face to ../Data/processed/dataset2_processed/train/happy/108012039-1721939293222-GettyImages-1284684092.jpg\n",
      "Copied image with face to ../Data/processed/dataset2_processed/train/happy/111322640.jpg\n"
     ]
    },
    {
     "name": "stderr",
     "output_type": "stream",
     "text": [
      "Processing files in ../Data/processed/dataset2/train/happy:   1%|▏         | 7/552 [00:02<02:40,  3.39it/s]"
     ]
    },
    {
     "name": "stdout",
     "output_type": "stream",
     "text": [
      "Copied image with face to ../Data/processed/dataset2_processed/train/happy/112176888.jpg\n",
      "Copied image with face to ../Data/processed/dataset2_processed/train/happy/136226-Amit-Agrawal_COO_CFO1.jpg\n"
     ]
    },
    {
     "name": "stderr",
     "output_type": "stream",
     "text": [
      "Processing files in ../Data/processed/dataset2/train/happy:   2%|▏         | 10/552 [00:02<01:46,  5.08it/s]"
     ]
    },
    {
     "name": "stdout",
     "output_type": "stream",
     "text": [
      "Copied image with face to ../Data/processed/dataset2_processed/train/happy/170404-happy-workers-feature.jpg\n",
      "Copied image with face to ../Data/processed/dataset2_processed/train/happy/17995334-happy-little-girl-jumping-in-air.jpg\n"
     ]
    },
    {
     "name": "stderr",
     "output_type": "stream",
     "text": [
      "Processing files in ../Data/processed/dataset2/train/happy:   2%|▏         | 12/552 [00:02<01:35,  5.66it/s]"
     ]
    },
    {
     "name": "stdout",
     "output_type": "stream",
     "text": [
      "Copied image with face to ../Data/processed/dataset2_processed/train/happy/1S9XQu_sTPzwVWXVM9qb-yA.png\n",
      "Copied image with face to ../Data/processed/dataset2_processed/train/happy/343515-worldhappinessreport1440.jpg\n"
     ]
    },
    {
     "name": "stderr",
     "output_type": "stream",
     "text": [
      "Processing files in ../Data/processed/dataset2/train/happy:   3%|▎         | 14/552 [00:03<01:15,  7.09it/s]"
     ]
    },
    {
     "name": "stdout",
     "output_type": "stream",
     "text": [
      "Copied image with face to ../Data/processed/dataset2_processed/train/happy/360_F_313450534_bHkt5SoetREYpgWO5uOpceVnaDCngOX7.jpg\n",
      "Copied image with face to ../Data/processed/dataset2_processed/train/happy/360_F_484873483_hg1ofIdXbMha5lKEDG3hJBrwKh1oikTq.jpg\n"
     ]
    },
    {
     "name": "stderr",
     "output_type": "stream",
     "text": [
      "Processing files in ../Data/processed/dataset2/train/happy:   3%|▎         | 16/552 [00:03<01:15,  7.11it/s]"
     ]
    },
    {
     "name": "stdout",
     "output_type": "stream",
     "text": [
      "Copied image with face to ../Data/processed/dataset2_processed/train/happy/360_F_709672486_C7eaa5uLXe7qjYwuX0BvPeaUSemlVzpZ.jpg\n",
      "Copied image with face to ../Data/processed/dataset2_processed/train/happy/441233345.jpg\n"
     ]
    },
    {
     "name": "stderr",
     "output_type": "stream",
     "text": [
      "Processing files in ../Data/processed/dataset2/train/happy:   3%|▎         | 19/552 [00:03<00:55,  9.59it/s]"
     ]
    },
    {
     "name": "stdout",
     "output_type": "stream",
     "text": [
      "Copied image with face to ../Data/processed/dataset2_processed/train/happy/447719-untitled-design-42.png\n",
      "Copied image with face to ../Data/processed/dataset2_processed/train/happy/51gKeyZBUOL._AC_UF10001000_QL80_.jpg\n",
      "No faces found in image: ../Data/processed/dataset2/train/happy/53c0f3ee54f37727d1ac6fda50f7a59d.jpg\n"
     ]
    },
    {
     "name": "stderr",
     "output_type": "stream",
     "text": [
      "Processing files in ../Data/processed/dataset2/train/happy:   4%|▍         | 21/552 [00:03<01:06,  7.98it/s]"
     ]
    },
    {
     "name": "stdout",
     "output_type": "stream",
     "text": [
      "Copied image with face to ../Data/processed/dataset2_processed/train/happy/708900-tiger-shroff-05.jpg\n",
      "Copied image with face to ../Data/processed/dataset2_processed/train/happy/8cEbMbgxi.jpg\n"
     ]
    },
    {
     "name": "stderr",
     "output_type": "stream",
     "text": [
      "Processing files in ../Data/processed/dataset2/train/happy:   4%|▍         | 23/552 [00:04<01:04,  8.17it/s]"
     ]
    },
    {
     "name": "stdout",
     "output_type": "stream",
     "text": [
      "Copied image with face to ../Data/processed/dataset2_processed/train/happy/8e06de1bf2171da2312b6de61c61e4bc.jpg\n",
      "Copied image with face to ../Data/processed/dataset2_processed/train/happy/8_af5ccc48-0d9b-4829-99b7-acf652c1b8eb.jpg\n"
     ]
    },
    {
     "name": "stderr",
     "output_type": "stream",
     "text": [
      "Processing files in ../Data/processed/dataset2/train/happy:   5%|▍         | 25/552 [00:04<00:59,  8.79it/s]"
     ]
    },
    {
     "name": "stdout",
     "output_type": "stream",
     "text": [
      "Copied image with face to ../Data/processed/dataset2_processed/train/happy/960x0.jpg\n",
      "Copied image with face to ../Data/processed/dataset2_processed/train/happy/988689_Wallpaper2.jpg\n",
      "No faces found in image: ../Data/processed/dataset2/train/happy/activists-people-movement-isolated-icon-vector.jpg\n"
     ]
    },
    {
     "name": "stderr",
     "output_type": "stream",
     "text": [
      "Processing files in ../Data/processed/dataset2/train/happy:   5%|▍         | 27/552 [00:04<00:57,  9.16it/s]"
     ]
    },
    {
     "name": "stdout",
     "output_type": "stream",
     "text": [
      "Copied image with face to ../Data/processed/dataset2_processed/train/happy/afaqs2F2024-082Fc5c9f023-1ad1-46ef-9574-96bca3c029bf2FMICA.png\n"
     ]
    },
    {
     "name": "stderr",
     "output_type": "stream",
     "text": [
      "Processing files in ../Data/processed/dataset2/train/happy:   5%|▌         | 30/552 [00:04<00:55,  9.43it/s]"
     ]
    },
    {
     "name": "stdout",
     "output_type": "stream",
     "text": [
      "Copied image with face to ../Data/processed/dataset2_processed/train/happy/Area-51.jpg\n",
      "Copied image with face to ../Data/processed/dataset2_processed/train/happy/A_Sep20_14_1189155141.jpg\n",
      "No faces found in image: ../Data/processed/dataset2/train/happy/business-people-succesful-celebrating-group-successful-39416686-800x500.jpg\n"
     ]
    },
    {
     "name": "stderr",
     "output_type": "stream",
     "text": [
      "Processing files in ../Data/processed/dataset2/train/happy:   6%|▌         | 32/552 [00:04<00:52,  9.91it/s]"
     ]
    },
    {
     "name": "stdout",
     "output_type": "stream",
     "text": [
      "Copied image with face to ../Data/processed/dataset2_processed/train/happy/cats-1008.jpg\n",
      "Copied image with face to ../Data/processed/dataset2_processed/train/happy/community-young-people-happy-together_23-2148431416.jpg\n",
      "No faces found in image: ../Data/processed/dataset2/train/happy/dizzy-people-set-sad-woman-260nw-2495065911.jpg\n",
      "No faces found in image: ../Data/processed/dataset2/train/happy/Dr-Odutola1.jpg\n"
     ]
    },
    {
     "name": "stderr",
     "output_type": "stream",
     "text": [
      "Processing files in ../Data/processed/dataset2/train/happy:   6%|▋         | 35/552 [00:05<00:44, 11.50it/s]"
     ]
    },
    {
     "name": "stdout",
     "output_type": "stream",
     "text": [
      "Copied image with face to ../Data/processed/dataset2_processed/train/happy/dr-ruth-1145556805jpg.jpg\n"
     ]
    },
    {
     "name": "stderr",
     "output_type": "stream",
     "text": [
      "Processing files in ../Data/processed/dataset2/train/happy:   7%|▋         | 37/552 [00:05<01:30,  5.71it/s]"
     ]
    },
    {
     "name": "stdout",
     "output_type": "stream",
     "text": [
      "Copied image with face to ../Data/processed/dataset2_processed/train/happy/dv2051009.jpg\n",
      "Copied image with face to ../Data/processed/dataset2_processed/train/happy/e6c8d72d91141c6659b6cff32c3462a6.jpg\n",
      "Copied image with face to ../Data/processed/dataset2_processed/train/happy/ement-people-concept-happy-little-children-jumpi-generative-ai_1259709-17766.jpg\n"
     ]
    },
    {
     "name": "stderr",
     "output_type": "stream",
     "text": [
      "Processing files in ../Data/processed/dataset2/train/happy:   7%|▋         | 40/552 [00:06<01:17,  6.60it/s]"
     ]
    },
    {
     "name": "stdout",
     "output_type": "stream",
     "text": [
      "Copied image with face to ../Data/processed/dataset2_processed/train/happy/eople-forehead-date-and-support-of-woman-and-man-together-with-trust-2XGMHPT.jpg\n",
      "Copied image with face to ../Data/processed/dataset2_processed/train/happy/file-22.jpg\n",
      "No faces found in image: ../Data/processed/dataset2/train/happy/freedom-serenity-concept-female-model-ecstatic-enjoyment-mixed-race-34800382.jpg\n",
      "No faces found in image: ../Data/processed/dataset2/train/happy/FreeVector-Happy-People-Silhouettes.jpg\n"
     ]
    },
    {
     "name": "stderr",
     "output_type": "stream",
     "text": [
      "Processing files in ../Data/processed/dataset2/train/happy:   8%|▊         | 43/552 [00:06<00:58,  8.74it/s]"
     ]
    },
    {
     "name": "stdout",
     "output_type": "stream",
     "text": [
      "Copied image with face to ../Data/processed/dataset2_processed/train/happy/FY24_corewriters-1200x868.jpg\n",
      "Copied image with face to ../Data/processed/dataset2_processed/train/happy/GettyImages-871518740.jpg\n"
     ]
    },
    {
     "name": "stderr",
     "output_type": "stream",
     "text": [
      "Processing files in ../Data/processed/dataset2/train/happy:   8%|▊         | 45/552 [00:06<00:58,  8.60it/s]"
     ]
    },
    {
     "name": "stdout",
     "output_type": "stream",
     "text": [
      "No faces found in image: ../Data/processed/dataset2/train/happy/getty_143919450_9706479704500104_51510.jpg\n",
      "Copied image with face to ../Data/processed/dataset2_processed/train/happy/getty_152414899_97046097045006_68075.jpg\n"
     ]
    },
    {
     "name": "stderr",
     "output_type": "stream",
     "text": [
      "Processing files in ../Data/processed/dataset2/train/happy:   9%|▊         | 48/552 [00:07<01:05,  7.74it/s]"
     ]
    },
    {
     "name": "stdout",
     "output_type": "stream",
     "text": [
      "No faces found in image: ../Data/processed/dataset2/train/happy/getty_478389113_970647970450091_99776.jpg\n",
      "Copied image with face to ../Data/processed/dataset2_processed/train/happy/getty_505175324_2000131020009280246_158016.jpg\n"
     ]
    },
    {
     "name": "stderr",
     "output_type": "stream",
     "text": [
      "Processing files in ../Data/processed/dataset2/train/happy:   9%|▉         | 51/552 [00:07<00:56,  8.93it/s]"
     ]
    },
    {
     "name": "stdout",
     "output_type": "stream",
     "text": [
      "Copied image with face to ../Data/processed/dataset2_processed/train/happy/group-happy-kids-enjoying-music-600nw-2477138321.jpg\n",
      "Copied image with face to ../Data/processed/dataset2_processed/train/happy/group-happy-people-isolated-over-600w-102307264.jpg\n",
      "Copied image with face to ../Data/processed/dataset2_processed/train/happy/group-happy-people-party-isolated-white-background-31666248.jpg\n"
     ]
    },
    {
     "name": "stderr",
     "output_type": "stream",
     "text": [
      "Processing files in ../Data/processed/dataset2/train/happy:   9%|▉         | 52/552 [00:07<01:06,  7.57it/s]"
     ]
    },
    {
     "name": "stdout",
     "output_type": "stream",
     "text": [
      "Copied image with face to ../Data/processed/dataset2_processed/train/happy/group-of-happy-people-2.jpg\n",
      "Copied image with face to ../Data/processed/dataset2_processed/train/happy/guilherme-stecanella-375176-unsplash.jpg\n"
     ]
    },
    {
     "name": "stderr",
     "output_type": "stream",
     "text": [
      "Processing files in ../Data/processed/dataset2/train/happy:  10%|▉         | 55/552 [00:08<01:03,  7.83it/s]"
     ]
    },
    {
     "name": "stdout",
     "output_type": "stream",
     "text": [
      "Copied image with face to ../Data/processed/dataset2_processed/train/happy/GUP942qWwAA8752.jpg\n",
      "Copied image with face to ../Data/processed/dataset2_processed/train/happy/habits-of-happy-people-jpg.jpg\n",
      "No faces found in image: ../Data/processed/dataset2/train/happy/hand-drawn-happy-people-jumping_23-2149092878.jpg\n"
     ]
    },
    {
     "name": "stderr",
     "output_type": "stream",
     "text": [
      "Processing files in ../Data/processed/dataset2/train/happy:  11%|█         | 58/552 [00:08<00:49,  9.93it/s]"
     ]
    },
    {
     "name": "stdout",
     "output_type": "stream",
     "text": [
      "No faces found in image: ../Data/processed/dataset2/train/happy/Happiness-Habits-10-Things-Happy-People-Do-Before-Bed-800x450.jpg\n",
      "Copied image with face to ../Data/processed/dataset2_processed/train/happy/happiness-happens-day-august-8.png\n"
     ]
    },
    {
     "name": "stderr",
     "output_type": "stream",
     "text": [
      "Processing files in ../Data/processed/dataset2/train/happy:  11%|█         | 61/552 [00:08<00:57,  8.56it/s]"
     ]
    },
    {
     "name": "stdout",
     "output_type": "stream",
     "text": [
      "Copied image with face to ../Data/processed/dataset2_processed/train/happy/happiness-quotes-6467f68f9cd3c.jpeg\n",
      "No faces found in image: ../Data/processed/dataset2/train/happy/happiness_thumbnail.jpg\n",
      "Copied image with face to ../Data/processed/dataset2_processed/train/happy/Happy-Guy.jpg\n"
     ]
    },
    {
     "name": "stderr",
     "output_type": "stream",
     "text": [
      "Processing files in ../Data/processed/dataset2/train/happy:  11%|█▏        | 63/552 [00:08<00:53,  9.22it/s]"
     ]
    },
    {
     "name": "stdout",
     "output_type": "stream",
     "text": [
      "Copied image with face to ../Data/processed/dataset2_processed/train/happy/Happy-people-800x533.jpg\n",
      "Copied image with face to ../Data/processed/dataset2_processed/train/happy/happy-people-dancing-together-isolated_23-2151728294.jpg\n"
     ]
    },
    {
     "name": "stderr",
     "output_type": "stream",
     "text": [
      "Processing files in ../Data/processed/dataset2/train/happy:  12%|█▏        | 65/552 [00:09<00:55,  8.73it/s]"
     ]
    },
    {
     "name": "stdout",
     "output_type": "stream",
     "text": [
      "Copied image with face to ../Data/processed/dataset2_processed/train/happy/happy-people-group-fb.jpg\n",
      "Copied image with face to ../Data/processed/dataset2_processed/train/happy/happy-people.jpg\n"
     ]
    },
    {
     "name": "stderr",
     "output_type": "stream",
     "text": [
      "Processing files in ../Data/processed/dataset2/train/happy:  12%|█▏        | 67/552 [00:09<00:47, 10.29it/s]"
     ]
    },
    {
     "name": "stdout",
     "output_type": "stream",
     "text": [
      "Copied image with face to ../Data/processed/dataset2_processed/train/happy/happy-people12.jpg\n",
      "No faces found in image: ../Data/processed/dataset2/train/happy/happy-people21.jpg\n",
      "Copied image with face to ../Data/processed/dataset2_processed/train/happy/happy-people3.jpg\n"
     ]
    },
    {
     "name": "stderr",
     "output_type": "stream",
     "text": [
      "Processing files in ../Data/processed/dataset2/train/happy:  12%|█▎        | 69/552 [00:09<00:48,  9.93it/s]"
     ]
    },
    {
     "name": "stdout",
     "output_type": "stream",
     "text": [
      "Copied image with face to ../Data/processed/dataset2_processed/train/happy/Happy-Person-Free-Download-PNG.png\n",
      "Copied image with face to ../Data/processed/dataset2_processed/train/happy/happy-person.jpeg\n"
     ]
    },
    {
     "name": "stderr",
     "output_type": "stream",
     "text": [
      "Processing files in ../Data/processed/dataset2/train/happy:  13%|█▎        | 73/552 [00:09<00:46, 10.27it/s]"
     ]
    },
    {
     "name": "stdout",
     "output_type": "stream",
     "text": [
      "Copied image with face to ../Data/processed/dataset2_processed/train/happy/happy-senior-asian-people-two-couples-sitting-on-family-couch-taking-a-group-photo-2XN8T4B.jpg\n",
      "No faces found in image: ../Data/processed/dataset2/train/happy/Happy.jpg\n",
      "No faces found in image: ../Data/processed/dataset2/train/happy/happy_face_emoji_plastic_large_surrounded_by_people.png\n",
      "Copied image with face to ../Data/processed/dataset2_processed/train/happy/Happy_guy.jpg\n"
     ]
    },
    {
     "name": "stderr",
     "output_type": "stream",
     "text": [
      "Processing files in ../Data/processed/dataset2/train/happy:  14%|█▍        | 76/552 [00:11<02:19,  3.41it/s]"
     ]
    },
    {
     "name": "stdout",
     "output_type": "stream",
     "text": [
      "Copied image with face to ../Data/processed/dataset2_processed/train/happy/hesham_bawrydsc_0094_-_resized_2024-08-12_09-55-31.jpg\n",
      "Copied image with face to ../Data/processed/dataset2_processed/train/happy/hq720_2.jpg\n"
     ]
    },
    {
     "name": "stderr",
     "output_type": "stream",
     "text": [
      "Processing files in ../Data/processed/dataset2/train/happy:  14%|█▍        | 78/552 [00:12<01:56,  4.06it/s]"
     ]
    },
    {
     "name": "stdout",
     "output_type": "stream",
     "text": [
      "Copied image with face to ../Data/processed/dataset2_processed/train/happy/ican-american-young-woman-girl-men-blokes-illustration-watercolour-329636587.jpg\n",
      "Copied image with face to ../Data/processed/dataset2_processed/train/happy/image-38.jpeg\n",
      "No faces found in image: ../Data/processed/dataset2/train/happy/image10.jpeg\n"
     ]
    },
    {
     "name": "stderr",
     "output_type": "stream",
     "text": [
      "Processing files in ../Data/processed/dataset2/train/happy:  15%|█▌        | 83/552 [00:12<00:56,  8.26it/s]"
     ]
    },
    {
     "name": "stdout",
     "output_type": "stream",
     "text": [
      "Copied image with face to ../Data/processed/dataset2_processed/train/happy/image12.jpeg\n",
      "Copied image with face to ../Data/processed/dataset2_processed/train/happy/image13.jpeg\n",
      "No faces found in image: ../Data/processed/dataset2/train/happy/image14.jpeg\n",
      "Copied image with face to ../Data/processed/dataset2_processed/train/happy/image16.jpeg\n"
     ]
    },
    {
     "name": "stderr",
     "output_type": "stream",
     "text": [
      "Processing files in ../Data/processed/dataset2/train/happy:  16%|█▌        | 88/552 [00:12<00:34, 13.38it/s]"
     ]
    },
    {
     "name": "stdout",
     "output_type": "stream",
     "text": [
      "No faces found in image: ../Data/processed/dataset2/train/happy/image18.jpeg\n",
      "Copied image with face to ../Data/processed/dataset2_processed/train/happy/image21.jpeg\n",
      "Copied image with face to ../Data/processed/dataset2_processed/train/happy/image22.jpeg\n",
      "No faces found in image: ../Data/processed/dataset2/train/happy/image23.jpeg\n",
      "No faces found in image: ../Data/processed/dataset2/train/happy/image24.jpeg\n"
     ]
    },
    {
     "name": "stderr",
     "output_type": "stream",
     "text": [
      "Processing files in ../Data/processed/dataset2/train/happy:  17%|█▋        | 93/552 [00:12<00:28, 16.03it/s]"
     ]
    },
    {
     "name": "stdout",
     "output_type": "stream",
     "text": [
      "Copied image with face to ../Data/processed/dataset2_processed/train/happy/image27.jpeg\n",
      "Copied image with face to ../Data/processed/dataset2_processed/train/happy/image29.jpeg\n",
      "No faces found in image: ../Data/processed/dataset2/train/happy/image30.jpeg\n",
      "Copied image with face to ../Data/processed/dataset2_processed/train/happy/image33.jpeg\n",
      "No faces found in image: ../Data/processed/dataset2/train/happy/image34.jpeg\n"
     ]
    },
    {
     "name": "stderr",
     "output_type": "stream",
     "text": [
      "Processing files in ../Data/processed/dataset2/train/happy:  17%|█▋        | 96/552 [00:13<00:27, 16.62it/s]"
     ]
    },
    {
     "name": "stdout",
     "output_type": "stream",
     "text": [
      "Copied image with face to ../Data/processed/dataset2_processed/train/happy/image39.jpeg\n",
      "No faces found in image: ../Data/processed/dataset2/train/happy/image4.jpeg\n",
      "Copied image with face to ../Data/processed/dataset2_processed/train/happy/image42.jpeg\n",
      "Copied image with face to ../Data/processed/dataset2_processed/train/happy/image9.jpeg\n"
     ]
    },
    {
     "name": "stderr",
     "output_type": "stream",
     "text": [
      "Processing files in ../Data/processed/dataset2/train/happy:  18%|█▊        | 101/552 [00:13<00:25, 17.73it/s]"
     ]
    },
    {
     "name": "stdout",
     "output_type": "stream",
     "text": [
      "Copied image with face to ../Data/processed/dataset2_processed/train/happy/images101.jpg\n",
      "No faces found in image: ../Data/processed/dataset2/train/happy/images105.jpg\n",
      "No faces found in image: ../Data/processed/dataset2/train/happy/images106.jpg\n",
      "Copied image with face to ../Data/processed/dataset2_processed/train/happy/images107.jpg\n",
      "No faces found in image: ../Data/processed/dataset2/train/happy/images108.jpg\n",
      "No faces found in image: ../Data/processed/dataset2/train/happy/images109.jpg\n",
      "No faces found in image: ../Data/processed/dataset2/train/happy/images11.jpg\n"
     ]
    },
    {
     "name": "stderr",
     "output_type": "stream",
     "text": [
      "Processing files in ../Data/processed/dataset2/train/happy:  20%|█▉        | 108/552 [00:13<00:22, 19.87it/s]"
     ]
    },
    {
     "name": "stdout",
     "output_type": "stream",
     "text": [
      "Copied image with face to ../Data/processed/dataset2_processed/train/happy/images112.jpg\n",
      "No faces found in image: ../Data/processed/dataset2/train/happy/images113.jpg\n",
      "Copied image with face to ../Data/processed/dataset2_processed/train/happy/images114.jpg\n",
      "Copied image with face to ../Data/processed/dataset2_processed/train/happy/images115.jpg\n"
     ]
    },
    {
     "name": "stderr",
     "output_type": "stream",
     "text": [
      "Processing files in ../Data/processed/dataset2/train/happy:  20%|██        | 111/552 [00:13<00:21, 20.94it/s]"
     ]
    },
    {
     "name": "stdout",
     "output_type": "stream",
     "text": [
      "Copied image with face to ../Data/processed/dataset2_processed/train/happy/images119.jpg\n",
      "No faces found in image: ../Data/processed/dataset2/train/happy/images12.jpg\n",
      "No faces found in image: ../Data/processed/dataset2/train/happy/images120.jpg\n",
      "Copied image with face to ../Data/processed/dataset2_processed/train/happy/images121.jpg\n",
      "Copied image with face to ../Data/processed/dataset2_processed/train/happy/images122.jpg\n"
     ]
    },
    {
     "name": "stderr",
     "output_type": "stream",
     "text": [
      "Processing files in ../Data/processed/dataset2/train/happy:  21%|██        | 117/552 [00:14<00:20, 20.98it/s]"
     ]
    },
    {
     "name": "stdout",
     "output_type": "stream",
     "text": [
      "No faces found in image: ../Data/processed/dataset2/train/happy/images124.jpg\n",
      "No faces found in image: ../Data/processed/dataset2/train/happy/images125.jpg\n",
      "Copied image with face to ../Data/processed/dataset2_processed/train/happy/images126.jpg\n",
      "No faces found in image: ../Data/processed/dataset2/train/happy/images127.jpg\n",
      "Copied image with face to ../Data/processed/dataset2_processed/train/happy/images131.jpg\n"
     ]
    },
    {
     "name": "stderr",
     "output_type": "stream",
     "text": [
      "Processing files in ../Data/processed/dataset2/train/happy:  22%|██▏       | 120/552 [00:14<00:22, 19.60it/s]"
     ]
    },
    {
     "name": "stdout",
     "output_type": "stream",
     "text": [
      "No faces found in image: ../Data/processed/dataset2/train/happy/images133.jpg\n",
      "Copied image with face to ../Data/processed/dataset2_processed/train/happy/images137.jpg\n",
      "Copied image with face to ../Data/processed/dataset2_processed/train/happy/images138.jpg\n"
     ]
    },
    {
     "name": "stderr",
     "output_type": "stream",
     "text": [
      "Processing files in ../Data/processed/dataset2/train/happy:  22%|██▏       | 123/552 [00:14<00:25, 16.90it/s]"
     ]
    },
    {
     "name": "stdout",
     "output_type": "stream",
     "text": [
      "Copied image with face to ../Data/processed/dataset2_processed/train/happy/images139.jpg\n",
      "Copied image with face to ../Data/processed/dataset2_processed/train/happy/images14.jpg\n",
      "Copied image with face to ../Data/processed/dataset2_processed/train/happy/images142.jpg\n",
      "No faces found in image: ../Data/processed/dataset2/train/happy/images144.jpg\n"
     ]
    },
    {
     "name": "stderr",
     "output_type": "stream",
     "text": [
      "Processing files in ../Data/processed/dataset2/train/happy:  23%|██▎       | 129/552 [00:14<00:22, 18.94it/s]"
     ]
    },
    {
     "name": "stdout",
     "output_type": "stream",
     "text": [
      "Copied image with face to ../Data/processed/dataset2_processed/train/happy/images146.jpg\n",
      "No faces found in image: ../Data/processed/dataset2/train/happy/images147.jpg\n",
      "No faces found in image: ../Data/processed/dataset2/train/happy/images148.jpg\n",
      "Copied image with face to ../Data/processed/dataset2_processed/train/happy/images151.jpg\n",
      "No faces found in image: ../Data/processed/dataset2/train/happy/images155.jpg\n",
      "No faces found in image: ../Data/processed/dataset2/train/happy/images156.jpg\n",
      "No faces found in image: ../Data/processed/dataset2/train/happy/images157.jpg\n",
      "No faces found in image: ../Data/processed/dataset2/train/happy/images158.jpg\n"
     ]
    },
    {
     "name": "stderr",
     "output_type": "stream",
     "text": [
      "Processing files in ../Data/processed/dataset2/train/happy:  25%|██▍       | 137/552 [00:15<00:19, 21.40it/s]"
     ]
    },
    {
     "name": "stdout",
     "output_type": "stream",
     "text": [
      "Copied image with face to ../Data/processed/dataset2_processed/train/happy/images159.jpg\n",
      "No faces found in image: ../Data/processed/dataset2/train/happy/images161.jpg\n",
      "Copied image with face to ../Data/processed/dataset2_processed/train/happy/images162.jpg\n",
      "Copied image with face to ../Data/processed/dataset2_processed/train/happy/images163.jpg\n"
     ]
    },
    {
     "name": "stderr",
     "output_type": "stream",
     "text": [
      "Processing files in ../Data/processed/dataset2/train/happy:  25%|██▌       | 140/552 [00:15<00:20, 19.88it/s]"
     ]
    },
    {
     "name": "stdout",
     "output_type": "stream",
     "text": [
      "Copied image with face to ../Data/processed/dataset2_processed/train/happy/images165.jpg\n",
      "No faces found in image: ../Data/processed/dataset2/train/happy/images166.jpg\n",
      "Copied image with face to ../Data/processed/dataset2_processed/train/happy/images167.jpg\n",
      "Copied image with face to ../Data/processed/dataset2_processed/train/happy/images168.jpg\n"
     ]
    },
    {
     "name": "stderr",
     "output_type": "stream",
     "text": [
      "Processing files in ../Data/processed/dataset2/train/happy:  26%|██▌       | 143/552 [00:15<00:23, 17.26it/s]"
     ]
    },
    {
     "name": "stdout",
     "output_type": "stream",
     "text": [
      "Copied image with face to ../Data/processed/dataset2_processed/train/happy/images169.jpg\n",
      "Copied image with face to ../Data/processed/dataset2_processed/train/happy/images17.jpg\n",
      "Copied image with face to ../Data/processed/dataset2_processed/train/happy/images172.jpg\n"
     ]
    },
    {
     "name": "stderr",
     "output_type": "stream",
     "text": [
      "Processing files in ../Data/processed/dataset2/train/happy:  27%|██▋       | 147/552 [00:15<00:26, 15.47it/s]"
     ]
    },
    {
     "name": "stdout",
     "output_type": "stream",
     "text": [
      "Copied image with face to ../Data/processed/dataset2_processed/train/happy/images174.jpg\n",
      "Copied image with face to ../Data/processed/dataset2_processed/train/happy/images176.jpg\n",
      "Copied image with face to ../Data/processed/dataset2_processed/train/happy/images179.jpg\n",
      "No faces found in image: ../Data/processed/dataset2/train/happy/images183.jpg\n",
      "No faces found in image: ../Data/processed/dataset2/train/happy/images184.jpg\n"
     ]
    },
    {
     "name": "stderr",
     "output_type": "stream",
     "text": [
      "Processing files in ../Data/processed/dataset2/train/happy:  28%|██▊       | 153/552 [00:16<00:21, 18.86it/s]"
     ]
    },
    {
     "name": "stdout",
     "output_type": "stream",
     "text": [
      "No faces found in image: ../Data/processed/dataset2/train/happy/images185.jpg\n",
      "Copied image with face to ../Data/processed/dataset2_processed/train/happy/images189.jpg\n",
      "No faces found in image: ../Data/processed/dataset2/train/happy/images19.jpg\n",
      "Copied image with face to ../Data/processed/dataset2_processed/train/happy/images192.jpg\n"
     ]
    },
    {
     "name": "stderr",
     "output_type": "stream",
     "text": [
      "Processing files in ../Data/processed/dataset2/train/happy:  28%|██▊       | 156/552 [00:16<00:19, 20.74it/s]"
     ]
    },
    {
     "name": "stdout",
     "output_type": "stream",
     "text": [
      "No faces found in image: ../Data/processed/dataset2/train/happy/images195.jpg\n",
      "Copied image with face to ../Data/processed/dataset2_processed/train/happy/images196.jpg\n",
      "No faces found in image: ../Data/processed/dataset2/train/happy/images198.jpg\n",
      "No faces found in image: ../Data/processed/dataset2/train/happy/images203.jpg\n",
      "Copied image with face to ../Data/processed/dataset2_processed/train/happy/images205.jpg\n"
     ]
    },
    {
     "name": "stderr",
     "output_type": "stream",
     "text": [
      "Processing files in ../Data/processed/dataset2/train/happy:  29%|██▉       | 162/552 [00:16<00:21, 18.54it/s]"
     ]
    },
    {
     "name": "stdout",
     "output_type": "stream",
     "text": [
      "Copied image with face to ../Data/processed/dataset2_processed/train/happy/images206.jpg\n",
      "No faces found in image: ../Data/processed/dataset2/train/happy/images208.jpg\n",
      "Copied image with face to ../Data/processed/dataset2_processed/train/happy/images210.jpg\n",
      "Copied image with face to ../Data/processed/dataset2_processed/train/happy/images211.jpg\n"
     ]
    },
    {
     "name": "stderr",
     "output_type": "stream",
     "text": [
      "Processing files in ../Data/processed/dataset2/train/happy:  30%|██▉       | 164/552 [00:16<00:23, 16.77it/s]"
     ]
    },
    {
     "name": "stdout",
     "output_type": "stream",
     "text": [
      "Copied image with face to ../Data/processed/dataset2_processed/train/happy/images213.jpg\n",
      "Copied image with face to ../Data/processed/dataset2_processed/train/happy/images214.jpg\n",
      "No faces found in image: ../Data/processed/dataset2/train/happy/images216.jpg\n",
      "Copied image with face to ../Data/processed/dataset2_processed/train/happy/images217.jpg\n"
     ]
    },
    {
     "name": "stderr",
     "output_type": "stream",
     "text": [
      "Processing files in ../Data/processed/dataset2/train/happy:  31%|███       | 169/552 [00:16<00:22, 17.36it/s]"
     ]
    },
    {
     "name": "stdout",
     "output_type": "stream",
     "text": [
      "Copied image with face to ../Data/processed/dataset2_processed/train/happy/images219.jpg\n",
      "Copied image with face to ../Data/processed/dataset2_processed/train/happy/images22.jpg\n",
      "No faces found in image: ../Data/processed/dataset2/train/happy/images221.jpg\n",
      "Copied image with face to ../Data/processed/dataset2_processed/train/happy/images222.jpg\n"
     ]
    },
    {
     "name": "stderr",
     "output_type": "stream",
     "text": [
      "Processing files in ../Data/processed/dataset2/train/happy:  32%|███▏      | 175/552 [00:17<00:19, 19.83it/s]"
     ]
    },
    {
     "name": "stdout",
     "output_type": "stream",
     "text": [
      "Copied image with face to ../Data/processed/dataset2_processed/train/happy/images223.jpg\n",
      "No faces found in image: ../Data/processed/dataset2/train/happy/images224.jpg\n",
      "No faces found in image: ../Data/processed/dataset2/train/happy/images225.jpg\n",
      "No faces found in image: ../Data/processed/dataset2/train/happy/images226.jpg\n",
      "Copied image with face to ../Data/processed/dataset2_processed/train/happy/images227.jpg\n",
      "No faces found in image: ../Data/processed/dataset2/train/happy/images229.jpg\n"
     ]
    },
    {
     "name": "stderr",
     "output_type": "stream",
     "text": [
      "Processing files in ../Data/processed/dataset2/train/happy:  33%|███▎      | 180/552 [00:17<00:19, 19.16it/s]"
     ]
    },
    {
     "name": "stdout",
     "output_type": "stream",
     "text": [
      "Copied image with face to ../Data/processed/dataset2_processed/train/happy/images230.jpg\n",
      "Copied image with face to ../Data/processed/dataset2_processed/train/happy/images232.jpg\n",
      "Copied image with face to ../Data/processed/dataset2_processed/train/happy/images233.jpg\n",
      "No faces found in image: ../Data/processed/dataset2/train/happy/images236.jpg\n",
      "No faces found in image: ../Data/processed/dataset2/train/happy/images237.jpg\n"
     ]
    },
    {
     "name": "stderr",
     "output_type": "stream",
     "text": [
      "Processing files in ../Data/processed/dataset2/train/happy:  33%|███▎      | 183/552 [00:17<00:17, 20.80it/s]"
     ]
    },
    {
     "name": "stdout",
     "output_type": "stream",
     "text": [
      "No faces found in image: ../Data/processed/dataset2/train/happy/images241.jpg\n",
      "Copied image with face to ../Data/processed/dataset2_processed/train/happy/images243.jpg\n",
      "Copied image with face to ../Data/processed/dataset2_processed/train/happy/images244.jpg\n"
     ]
    },
    {
     "name": "stderr",
     "output_type": "stream",
     "text": [
      "Processing files in ../Data/processed/dataset2/train/happy:  34%|███▍      | 189/552 [00:17<00:17, 21.29it/s]"
     ]
    },
    {
     "name": "stdout",
     "output_type": "stream",
     "text": [
      "Copied image with face to ../Data/processed/dataset2_processed/train/happy/images246.jpg\n",
      "No faces found in image: ../Data/processed/dataset2/train/happy/images248.jpg\n",
      "No faces found in image: ../Data/processed/dataset2/train/happy/images25.jpg\n",
      "No faces found in image: ../Data/processed/dataset2/train/happy/images251.jpg\n",
      "Copied image with face to ../Data/processed/dataset2_processed/train/happy/images252.jpg\n",
      "No faces found in image: ../Data/processed/dataset2/train/happy/images255.jpg\n",
      "No faces found in image: ../Data/processed/dataset2/train/happy/images256.jpg\n",
      "No faces found in image: ../Data/processed/dataset2/train/happy/images26.jpg\n"
     ]
    },
    {
     "name": "stderr",
     "output_type": "stream",
     "text": [
      "Processing files in ../Data/processed/dataset2/train/happy:  35%|███▌      | 195/552 [00:18<00:13, 26.51it/s]"
     ]
    },
    {
     "name": "stdout",
     "output_type": "stream",
     "text": [
      "No faces found in image: ../Data/processed/dataset2/train/happy/images260.jpg\n",
      "No faces found in image: ../Data/processed/dataset2/train/happy/images262.jpg\n",
      "Copied image with face to ../Data/processed/dataset2_processed/train/happy/images263.jpg\n",
      "Copied image with face to ../Data/processed/dataset2_processed/train/happy/images264.jpg\n"
     ]
    },
    {
     "name": "stderr",
     "output_type": "stream",
     "text": [
      "Processing files in ../Data/processed/dataset2/train/happy:  36%|███▋      | 201/552 [00:18<00:15, 22.28it/s]"
     ]
    },
    {
     "name": "stdout",
     "output_type": "stream",
     "text": [
      "Copied image with face to ../Data/processed/dataset2_processed/train/happy/images267.jpg\n",
      "Copied image with face to ../Data/processed/dataset2_processed/train/happy/images268.jpg\n",
      "No faces found in image: ../Data/processed/dataset2/train/happy/images27.jpg\n",
      "Copied image with face to ../Data/processed/dataset2_processed/train/happy/images271.jpg\n",
      "No faces found in image: ../Data/processed/dataset2/train/happy/images276.jpg\n"
     ]
    },
    {
     "name": "stderr",
     "output_type": "stream",
     "text": [
      "Processing files in ../Data/processed/dataset2/train/happy:  37%|███▋      | 205/552 [00:18<00:14, 24.58it/s]"
     ]
    },
    {
     "name": "stdout",
     "output_type": "stream",
     "text": [
      "No faces found in image: ../Data/processed/dataset2/train/happy/images277.jpg\n",
      "No faces found in image: ../Data/processed/dataset2/train/happy/images278.jpg\n",
      "No faces found in image: ../Data/processed/dataset2/train/happy/images280.jpg\n",
      "Copied image with face to ../Data/processed/dataset2_processed/train/happy/images282.jpg\n",
      "No faces found in image: ../Data/processed/dataset2/train/happy/images283.jpg\n",
      "No faces found in image: ../Data/processed/dataset2/train/happy/images284.jpg\n",
      "No faces found in image: ../Data/processed/dataset2/train/happy/images288.jpg\n"
     ]
    },
    {
     "name": "stderr",
     "output_type": "stream",
     "text": [
      "Processing files in ../Data/processed/dataset2/train/happy:  38%|███▊      | 212/552 [00:18<00:13, 25.98it/s]"
     ]
    },
    {
     "name": "stdout",
     "output_type": "stream",
     "text": [
      "Copied image with face to ../Data/processed/dataset2_processed/train/happy/images290.jpg\n",
      "No faces found in image: ../Data/processed/dataset2/train/happy/images292.jpg\n",
      "No faces found in image: ../Data/processed/dataset2/train/happy/images296.jpg\n",
      "Copied image with face to ../Data/processed/dataset2_processed/train/happy/images298.jpg\n",
      "Copied image with face to ../Data/processed/dataset2_processed/train/happy/images299.jpg\n"
     ]
    },
    {
     "name": "stderr",
     "output_type": "stream",
     "text": [
      "Processing files in ../Data/processed/dataset2/train/happy:  39%|███▉      | 215/552 [00:18<00:14, 23.42it/s]"
     ]
    },
    {
     "name": "stdout",
     "output_type": "stream",
     "text": [
      "No faces found in image: ../Data/processed/dataset2/train/happy/images3.jpg\n",
      "Copied image with face to ../Data/processed/dataset2_processed/train/happy/images303.jpg\n",
      "No faces found in image: ../Data/processed/dataset2/train/happy/images304.jpg\n",
      "No faces found in image: ../Data/processed/dataset2/train/happy/images305.jpg\n",
      "No faces found in image: ../Data/processed/dataset2/train/happy/images306.jpg\n"
     ]
    },
    {
     "name": "stderr",
     "output_type": "stream",
     "text": [
      "Processing files in ../Data/processed/dataset2/train/happy:  40%|████      | 222/552 [00:19<00:13, 25.14it/s]"
     ]
    },
    {
     "name": "stdout",
     "output_type": "stream",
     "text": [
      "Copied image with face to ../Data/processed/dataset2_processed/train/happy/images31.jpg\n",
      "No faces found in image: ../Data/processed/dataset2/train/happy/images316.jpg\n",
      "Copied image with face to ../Data/processed/dataset2_processed/train/happy/images317.jpg\n",
      "No faces found in image: ../Data/processed/dataset2/train/happy/images318.jpg\n",
      "Copied image with face to ../Data/processed/dataset2_processed/train/happy/images32.jpg\n"
     ]
    },
    {
     "name": "stderr",
     "output_type": "stream",
     "text": [
      "Processing files in ../Data/processed/dataset2/train/happy:  42%|████▏     | 230/552 [00:19<00:12, 25.82it/s]"
     ]
    },
    {
     "name": "stdout",
     "output_type": "stream",
     "text": [
      "Copied image with face to ../Data/processed/dataset2_processed/train/happy/images321.jpg\n",
      "No faces found in image: ../Data/processed/dataset2/train/happy/images325.jpg\n",
      "No faces found in image: ../Data/processed/dataset2/train/happy/images327.jpg\n",
      "No faces found in image: ../Data/processed/dataset2/train/happy/images329.jpg\n",
      "No faces found in image: ../Data/processed/dataset2/train/happy/images33.jpg\n",
      "No faces found in image: ../Data/processed/dataset2/train/happy/images331.jpg\n",
      "Copied image with face to ../Data/processed/dataset2_processed/train/happy/images332.jpg\n",
      "No faces found in image: ../Data/processed/dataset2/train/happy/images333.jpg\n"
     ]
    },
    {
     "name": "stderr",
     "output_type": "stream",
     "text": [
      "Processing files in ../Data/processed/dataset2/train/happy:  42%|████▏     | 233/552 [00:19<00:14, 22.48it/s]"
     ]
    },
    {
     "name": "stdout",
     "output_type": "stream",
     "text": [
      "Copied image with face to ../Data/processed/dataset2_processed/train/happy/images336.jpg\n",
      "Copied image with face to ../Data/processed/dataset2_processed/train/happy/images337.jpg\n",
      "No faces found in image: ../Data/processed/dataset2/train/happy/images338.jpg\n",
      "No faces found in image: ../Data/processed/dataset2/train/happy/images34.jpg\n",
      "No faces found in image: ../Data/processed/dataset2/train/happy/images340.jpg\n"
     ]
    },
    {
     "name": "stderr",
     "output_type": "stream",
     "text": [
      "Processing files in ../Data/processed/dataset2/train/happy:  43%|████▎     | 240/552 [00:19<00:12, 24.76it/s]"
     ]
    },
    {
     "name": "stdout",
     "output_type": "stream",
     "text": [
      "Copied image with face to ../Data/processed/dataset2_processed/train/happy/images341.jpg\n",
      "Copied image with face to ../Data/processed/dataset2_processed/train/happy/images342.jpg\n",
      "No faces found in image: ../Data/processed/dataset2/train/happy/images343.jpg\n",
      "No faces found in image: ../Data/processed/dataset2/train/happy/images344.jpg\n",
      "Copied image with face to ../Data/processed/dataset2_processed/train/happy/images346.jpg\n"
     ]
    },
    {
     "name": "stderr",
     "output_type": "stream",
     "text": [
      "Processing files in ../Data/processed/dataset2/train/happy:  45%|████▍     | 246/552 [00:20<00:13, 23.12it/s]"
     ]
    },
    {
     "name": "stdout",
     "output_type": "stream",
     "text": [
      "No faces found in image: ../Data/processed/dataset2/train/happy/images350.jpg\n",
      "Copied image with face to ../Data/processed/dataset2_processed/train/happy/images351.jpg\n",
      "Copied image with face to ../Data/processed/dataset2_processed/train/happy/images352.jpg\n",
      "No faces found in image: ../Data/processed/dataset2/train/happy/images355.jpg\n",
      "No faces found in image: ../Data/processed/dataset2/train/happy/images359.jpg\n"
     ]
    },
    {
     "name": "stderr",
     "output_type": "stream",
     "text": [
      "Processing files in ../Data/processed/dataset2/train/happy:  45%|████▌     | 249/552 [00:20<00:14, 20.61it/s]"
     ]
    },
    {
     "name": "stdout",
     "output_type": "stream",
     "text": [
      "Copied image with face to ../Data/processed/dataset2_processed/train/happy/images360.jpg\n",
      "Copied image with face to ../Data/processed/dataset2_processed/train/happy/images361.jpg\n",
      "No faces found in image: ../Data/processed/dataset2/train/happy/images363.jpg\n",
      "Copied image with face to ../Data/processed/dataset2_processed/train/happy/images364.jpg\n",
      "No faces found in image: ../Data/processed/dataset2/train/happy/images365.jpg\n"
     ]
    },
    {
     "name": "stderr",
     "output_type": "stream",
     "text": [
      "Processing files in ../Data/processed/dataset2/train/happy:  46%|████▌     | 255/552 [00:20<00:15, 18.84it/s]"
     ]
    },
    {
     "name": "stdout",
     "output_type": "stream",
     "text": [
      "Copied image with face to ../Data/processed/dataset2_processed/train/happy/images37.jpg\n",
      "Copied image with face to ../Data/processed/dataset2_processed/train/happy/images372.jpg\n",
      "Copied image with face to ../Data/processed/dataset2_processed/train/happy/images373.jpg\n",
      "No faces found in image: ../Data/processed/dataset2/train/happy/images374.jpg\n",
      "No faces found in image: ../Data/processed/dataset2/train/happy/images378.jpg\n"
     ]
    },
    {
     "name": "stderr",
     "output_type": "stream",
     "text": [
      "Processing files in ../Data/processed/dataset2/train/happy:  47%|████▋     | 258/552 [00:20<00:14, 20.35it/s]"
     ]
    },
    {
     "name": "stdout",
     "output_type": "stream",
     "text": [
      "No faces found in image: ../Data/processed/dataset2/train/happy/images380.jpg\n",
      "Copied image with face to ../Data/processed/dataset2_processed/train/happy/images385.jpg\n",
      "Copied image with face to ../Data/processed/dataset2_processed/train/happy/images392.jpg\n"
     ]
    },
    {
     "name": "stderr",
     "output_type": "stream",
     "text": [
      "Processing files in ../Data/processed/dataset2/train/happy:  48%|████▊     | 264/552 [00:21<00:15, 18.48it/s]"
     ]
    },
    {
     "name": "stdout",
     "output_type": "stream",
     "text": [
      "Copied image with face to ../Data/processed/dataset2_processed/train/happy/images393.jpg\n",
      "No faces found in image: ../Data/processed/dataset2/train/happy/images399.jpg\n",
      "Copied image with face to ../Data/processed/dataset2_processed/train/happy/images4.jpg\n",
      "No faces found in image: ../Data/processed/dataset2/train/happy/images40.jpg\n",
      "Copied image with face to ../Data/processed/dataset2_processed/train/happy/images400.jpg\n"
     ]
    },
    {
     "name": "stderr",
     "output_type": "stream",
     "text": [
      "Processing files in ../Data/processed/dataset2/train/happy:  48%|████▊     | 267/552 [00:21<00:14, 20.00it/s]"
     ]
    },
    {
     "name": "stdout",
     "output_type": "stream",
     "text": [
      "No faces found in image: ../Data/processed/dataset2/train/happy/images401.jpg\n",
      "No faces found in image: ../Data/processed/dataset2/train/happy/images402.jpg\n",
      "Copied image with face to ../Data/processed/dataset2_processed/train/happy/images404.jpg\n",
      "Copied image with face to ../Data/processed/dataset2_processed/train/happy/images405.jpg\n"
     ]
    },
    {
     "name": "stderr",
     "output_type": "stream",
     "text": [
      "Processing files in ../Data/processed/dataset2/train/happy:  49%|████▉     | 270/552 [00:21<00:16, 16.86it/s]"
     ]
    },
    {
     "name": "stdout",
     "output_type": "stream",
     "text": [
      "Copied image with face to ../Data/processed/dataset2_processed/train/happy/images407.jpg\n",
      "Copied image with face to ../Data/processed/dataset2_processed/train/happy/images408.jpg\n",
      "Copied image with face to ../Data/processed/dataset2_processed/train/happy/images409.jpg\n",
      "No faces found in image: ../Data/processed/dataset2/train/happy/images41.jpg\n"
     ]
    },
    {
     "name": "stderr",
     "output_type": "stream",
     "text": [
      "Processing files in ../Data/processed/dataset2/train/happy:  50%|█████     | 276/552 [00:21<00:14, 18.99it/s]"
     ]
    },
    {
     "name": "stdout",
     "output_type": "stream",
     "text": [
      "Copied image with face to ../Data/processed/dataset2_processed/train/happy/images411.jpg\n",
      "No faces found in image: ../Data/processed/dataset2/train/happy/images413.jpg\n",
      "No faces found in image: ../Data/processed/dataset2/train/happy/images416.jpg\n",
      "Copied image with face to ../Data/processed/dataset2_processed/train/happy/images418.jpg\n",
      "No faces found in image: ../Data/processed/dataset2/train/happy/images421.jpg\n",
      "No faces found in image: ../Data/processed/dataset2/train/happy/images422.jpg\n"
     ]
    },
    {
     "name": "stderr",
     "output_type": "stream",
     "text": [
      "Processing files in ../Data/processed/dataset2/train/happy:  51%|█████     | 282/552 [00:22<00:13, 20.07it/s]"
     ]
    },
    {
     "name": "stdout",
     "output_type": "stream",
     "text": [
      "Copied image with face to ../Data/processed/dataset2_processed/train/happy/images429.jpg\n",
      "No faces found in image: ../Data/processed/dataset2/train/happy/images43.jpg\n",
      "Copied image with face to ../Data/processed/dataset2_processed/train/happy/images430.jpg\n",
      "Copied image with face to ../Data/processed/dataset2_processed/train/happy/images432.jpg\n"
     ]
    },
    {
     "name": "stderr",
     "output_type": "stream",
     "text": [
      "Processing files in ../Data/processed/dataset2/train/happy:  52%|█████▏    | 285/552 [00:22<00:13, 19.32it/s]"
     ]
    },
    {
     "name": "stdout",
     "output_type": "stream",
     "text": [
      "Copied image with face to ../Data/processed/dataset2_processed/train/happy/images434.jpg\n",
      "No faces found in image: ../Data/processed/dataset2/train/happy/images436.jpg\n",
      "Copied image with face to ../Data/processed/dataset2_processed/train/happy/images439.jpg\n",
      "No faces found in image: ../Data/processed/dataset2/train/happy/images442.jpg\n",
      "No faces found in image: ../Data/processed/dataset2/train/happy/images443.jpg\n"
     ]
    },
    {
     "name": "stderr",
     "output_type": "stream",
     "text": [
      "Processing files in ../Data/processed/dataset2/train/happy:  53%|█████▎    | 291/552 [00:22<00:13, 19.48it/s]"
     ]
    },
    {
     "name": "stdout",
     "output_type": "stream",
     "text": [
      "Copied image with face to ../Data/processed/dataset2_processed/train/happy/images445.jpg\n",
      "No faces found in image: ../Data/processed/dataset2/train/happy/images449.jpg\n",
      "Copied image with face to ../Data/processed/dataset2_processed/train/happy/images45.jpg\n",
      "Copied image with face to ../Data/processed/dataset2_processed/train/happy/images452.jpg\n",
      "No faces found in image: ../Data/processed/dataset2/train/happy/images453.jpg\n"
     ]
    },
    {
     "name": "stderr",
     "output_type": "stream",
     "text": [
      "Processing files in ../Data/processed/dataset2/train/happy:  54%|█████▍    | 298/552 [00:22<00:10, 24.07it/s]"
     ]
    },
    {
     "name": "stdout",
     "output_type": "stream",
     "text": [
      "Copied image with face to ../Data/processed/dataset2_processed/train/happy/images456.jpg\n",
      "No faces found in image: ../Data/processed/dataset2/train/happy/images459.jpg\n",
      "No faces found in image: ../Data/processed/dataset2/train/happy/images46.jpg\n",
      "No faces found in image: ../Data/processed/dataset2/train/happy/images460.jpg\n",
      "No faces found in image: ../Data/processed/dataset2/train/happy/images463.jpg\n",
      "Copied image with face to ../Data/processed/dataset2_processed/train/happy/images464.jpg\n"
     ]
    },
    {
     "name": "stderr",
     "output_type": "stream",
     "text": [
      "Processing files in ../Data/processed/dataset2/train/happy:  55%|█████▍    | 301/552 [00:23<00:11, 21.42it/s]"
     ]
    },
    {
     "name": "stdout",
     "output_type": "stream",
     "text": [
      "Copied image with face to ../Data/processed/dataset2_processed/train/happy/images468.jpg\n",
      "No faces found in image: ../Data/processed/dataset2/train/happy/images470.jpg\n",
      "Copied image with face to ../Data/processed/dataset2_processed/train/happy/images472.jpg\n",
      "Copied image with face to ../Data/processed/dataset2_processed/train/happy/images474.jpg\n"
     ]
    },
    {
     "name": "stderr",
     "output_type": "stream",
     "text": [
      "Processing files in ../Data/processed/dataset2/train/happy:  55%|█████▌    | 304/552 [00:23<00:13, 18.10it/s]"
     ]
    },
    {
     "name": "stdout",
     "output_type": "stream",
     "text": [
      "Copied image with face to ../Data/processed/dataset2_processed/train/happy/images475.jpg\n",
      "Copied image with face to ../Data/processed/dataset2_processed/train/happy/images476.jpg\n",
      "Copied image with face to ../Data/processed/dataset2_processed/train/happy/images479.jpg\n"
     ]
    },
    {
     "name": "stderr",
     "output_type": "stream",
     "text": [
      "Processing files in ../Data/processed/dataset2/train/happy:  56%|█████▌    | 309/552 [00:23<00:12, 18.92it/s]"
     ]
    },
    {
     "name": "stdout",
     "output_type": "stream",
     "text": [
      "Copied image with face to ../Data/processed/dataset2_processed/train/happy/images480.jpg\n",
      "No faces found in image: ../Data/processed/dataset2/train/happy/images483.jpg\n",
      "No faces found in image: ../Data/processed/dataset2/train/happy/images486.jpg\n",
      "Copied image with face to ../Data/processed/dataset2_processed/train/happy/images489.jpg\n",
      "Copied image with face to ../Data/processed/dataset2_processed/train/happy/images494.jpg\n"
     ]
    },
    {
     "name": "stderr",
     "output_type": "stream",
     "text": [
      "Processing files in ../Data/processed/dataset2/train/happy:  57%|█████▋    | 312/552 [00:23<00:14, 16.63it/s]"
     ]
    },
    {
     "name": "stdout",
     "output_type": "stream",
     "text": [
      "Copied image with face to ../Data/processed/dataset2_processed/train/happy/images496.jpg\n",
      "Copied image with face to ../Data/processed/dataset2_processed/train/happy/images5.jpg\n",
      "Copied image with face to ../Data/processed/dataset2_processed/train/happy/images502.jpg\n"
     ]
    },
    {
     "name": "stderr",
     "output_type": "stream",
     "text": [
      "Processing files in ../Data/processed/dataset2/train/happy:  57%|█████▋    | 316/552 [00:24<00:14, 16.67it/s]"
     ]
    },
    {
     "name": "stdout",
     "output_type": "stream",
     "text": [
      "Copied image with face to ../Data/processed/dataset2_processed/train/happy/images508.jpg\n",
      "No faces found in image: ../Data/processed/dataset2/train/happy/images509.jpg\n",
      "Copied image with face to ../Data/processed/dataset2_processed/train/happy/images51.jpg\n",
      "Copied image with face to ../Data/processed/dataset2_processed/train/happy/images510.jpg\n"
     ]
    },
    {
     "name": "stderr",
     "output_type": "stream",
     "text": [
      "Processing files in ../Data/processed/dataset2/train/happy:  58%|█████▊    | 320/552 [00:24<00:15, 15.13it/s]"
     ]
    },
    {
     "name": "stdout",
     "output_type": "stream",
     "text": [
      "Copied image with face to ../Data/processed/dataset2_processed/train/happy/images511.jpg\n",
      "Copied image with face to ../Data/processed/dataset2_processed/train/happy/images514.jpg\n",
      "Copied image with face to ../Data/processed/dataset2_processed/train/happy/images516.jpg\n",
      "No faces found in image: ../Data/processed/dataset2/train/happy/images517.jpg\n"
     ]
    },
    {
     "name": "stderr",
     "output_type": "stream",
     "text": [
      "Processing files in ../Data/processed/dataset2/train/happy:  59%|█████▉    | 326/552 [00:24<00:12, 18.17it/s]"
     ]
    },
    {
     "name": "stdout",
     "output_type": "stream",
     "text": [
      "Copied image with face to ../Data/processed/dataset2_processed/train/happy/images518.jpg\n",
      "Copied image with face to ../Data/processed/dataset2_processed/train/happy/images52.jpg\n",
      "No faces found in image: ../Data/processed/dataset2/train/happy/images521.jpg\n",
      "Copied image with face to ../Data/processed/dataset2_processed/train/happy/images523.jpg\n",
      "No faces found in image: ../Data/processed/dataset2/train/happy/images524.jpg\n"
     ]
    },
    {
     "name": "stderr",
     "output_type": "stream",
     "text": [
      "Processing files in ../Data/processed/dataset2/train/happy:  59%|█████▉    | 328/552 [00:24<00:13, 16.41it/s]"
     ]
    },
    {
     "name": "stdout",
     "output_type": "stream",
     "text": [
      "Copied image with face to ../Data/processed/dataset2_processed/train/happy/images525.jpg\n",
      "Copied image with face to ../Data/processed/dataset2_processed/train/happy/images528.jpg\n",
      "No faces found in image: ../Data/processed/dataset2/train/happy/images53.jpg\n",
      "Copied image with face to ../Data/processed/dataset2_processed/train/happy/images530.jpg\n"
     ]
    },
    {
     "name": "stderr",
     "output_type": "stream",
     "text": [
      "Processing files in ../Data/processed/dataset2/train/happy:  61%|██████    | 334/552 [00:25<00:11, 18.81it/s]"
     ]
    },
    {
     "name": "stdout",
     "output_type": "stream",
     "text": [
      "Copied image with face to ../Data/processed/dataset2_processed/train/happy/images533.jpg\n",
      "No faces found in image: ../Data/processed/dataset2/train/happy/images534.jpg\n",
      "No faces found in image: ../Data/processed/dataset2/train/happy/images537.jpg\n",
      "Copied image with face to ../Data/processed/dataset2_processed/train/happy/images538.jpg\n",
      "No faces found in image: ../Data/processed/dataset2/train/happy/images539.jpg\n",
      "No faces found in image: ../Data/processed/dataset2/train/happy/images540.jpg\n",
      "No faces found in image: ../Data/processed/dataset2/train/happy/images541.jpg\n"
     ]
    },
    {
     "name": "stderr",
     "output_type": "stream",
     "text": [
      "Processing files in ../Data/processed/dataset2/train/happy:  62%|██████▏   | 341/552 [00:25<00:10, 20.99it/s]"
     ]
    },
    {
     "name": "stdout",
     "output_type": "stream",
     "text": [
      "Copied image with face to ../Data/processed/dataset2_processed/train/happy/images542.jpg\n",
      "No faces found in image: ../Data/processed/dataset2/train/happy/images546.jpg\n",
      "Copied image with face to ../Data/processed/dataset2_processed/train/happy/images549.jpg\n",
      "Copied image with face to ../Data/processed/dataset2_processed/train/happy/images55.jpg\n",
      "No faces found in image: ../Data/processed/dataset2/train/happy/images551.jpg\n"
     ]
    },
    {
     "name": "stderr",
     "output_type": "stream",
     "text": [
      "Processing files in ../Data/processed/dataset2/train/happy:  63%|██████▎   | 347/552 [00:25<00:10, 20.37it/s]"
     ]
    },
    {
     "name": "stdout",
     "output_type": "stream",
     "text": [
      "Copied image with face to ../Data/processed/dataset2_processed/train/happy/images553.jpg\n",
      "No faces found in image: ../Data/processed/dataset2/train/happy/images554.jpg\n",
      "Copied image with face to ../Data/processed/dataset2_processed/train/happy/images56.jpg\n",
      "Copied image with face to ../Data/processed/dataset2_processed/train/happy/images561.jpg\n",
      "No faces found in image: ../Data/processed/dataset2/train/happy/images562.jpg\n"
     ]
    },
    {
     "name": "stderr",
     "output_type": "stream",
     "text": [
      "Processing files in ../Data/processed/dataset2/train/happy:  63%|██████▎   | 350/552 [00:25<00:09, 21.52it/s]"
     ]
    },
    {
     "name": "stdout",
     "output_type": "stream",
     "text": [
      "No faces found in image: ../Data/processed/dataset2/train/happy/images563.jpg\n",
      "Copied image with face to ../Data/processed/dataset2_processed/train/happy/images565.jpg\n",
      "No faces found in image: ../Data/processed/dataset2/train/happy/images567.jpg\n",
      "No faces found in image: ../Data/processed/dataset2/train/happy/images571.jpg\n"
     ]
    },
    {
     "name": "stderr",
     "output_type": "stream",
     "text": [
      "Processing files in ../Data/processed/dataset2/train/happy:  64%|██████▍   | 356/552 [00:26<00:09, 21.24it/s]"
     ]
    },
    {
     "name": "stdout",
     "output_type": "stream",
     "text": [
      "Copied image with face to ../Data/processed/dataset2_processed/train/happy/images574.jpg\n",
      "Copied image with face to ../Data/processed/dataset2_processed/train/happy/images576.jpg\n",
      "No faces found in image: ../Data/processed/dataset2/train/happy/images578.jpg\n",
      "Copied image with face to ../Data/processed/dataset2_processed/train/happy/images579.jpg\n",
      "No faces found in image: ../Data/processed/dataset2/train/happy/images580.jpg\n"
     ]
    },
    {
     "name": "stderr",
     "output_type": "stream",
     "text": [
      "Processing files in ../Data/processed/dataset2/train/happy:  65%|██████▌   | 359/552 [00:26<00:09, 19.75it/s]"
     ]
    },
    {
     "name": "stdout",
     "output_type": "stream",
     "text": [
      "Copied image with face to ../Data/processed/dataset2_processed/train/happy/images581.jpg\n",
      "No faces found in image: ../Data/processed/dataset2/train/happy/images583.jpg\n",
      "Copied image with face to ../Data/processed/dataset2_processed/train/happy/images584.jpg\n",
      "Copied image with face to ../Data/processed/dataset2_processed/train/happy/images585.jpg\n",
      "No faces found in image: ../Data/processed/dataset2/train/happy/images589.jpg\n"
     ]
    },
    {
     "name": "stderr",
     "output_type": "stream",
     "text": [
      "Processing files in ../Data/processed/dataset2/train/happy:  66%|██████▌   | 365/552 [00:26<00:08, 22.61it/s]"
     ]
    },
    {
     "name": "stdout",
     "output_type": "stream",
     "text": [
      "No faces found in image: ../Data/processed/dataset2/train/happy/images59.jpg\n",
      "No faces found in image: ../Data/processed/dataset2/train/happy/images592.jpg\n",
      "No faces found in image: ../Data/processed/dataset2/train/happy/images593.jpg\n",
      "Copied image with face to ../Data/processed/dataset2_processed/train/happy/images595.jpg\n",
      "No faces found in image: ../Data/processed/dataset2/train/happy/images596.jpg\n"
     ]
    },
    {
     "name": "stderr",
     "output_type": "stream",
     "text": [
      "Processing files in ../Data/processed/dataset2/train/happy:  67%|██████▋   | 368/552 [00:26<00:08, 20.81it/s]"
     ]
    },
    {
     "name": "stdout",
     "output_type": "stream",
     "text": [
      "Copied image with face to ../Data/processed/dataset2_processed/train/happy/images597.jpg\n",
      "Copied image with face to ../Data/processed/dataset2_processed/train/happy/images598.jpg\n",
      "Copied image with face to ../Data/processed/dataset2_processed/train/happy/images600.jpg\n"
     ]
    },
    {
     "name": "stderr",
     "output_type": "stream",
     "text": [
      "Processing files in ../Data/processed/dataset2/train/happy:  67%|██████▋   | 371/552 [00:26<00:10, 17.35it/s]"
     ]
    },
    {
     "name": "stdout",
     "output_type": "stream",
     "text": [
      "Copied image with face to ../Data/processed/dataset2_processed/train/happy/images602.jpg\n",
      "Copied image with face to ../Data/processed/dataset2_processed/train/happy/images604.jpg\n",
      "No faces found in image: ../Data/processed/dataset2/train/happy/images605.jpg\n",
      "No faces found in image: ../Data/processed/dataset2/train/happy/images606.jpg\n"
     ]
    },
    {
     "name": "stderr",
     "output_type": "stream",
     "text": [
      "Processing files in ../Data/processed/dataset2/train/happy:  68%|██████▊   | 374/552 [00:27<00:09, 19.05it/s]"
     ]
    },
    {
     "name": "stdout",
     "output_type": "stream",
     "text": [
      "Copied image with face to ../Data/processed/dataset2_processed/train/happy/images607.jpg\n",
      "Copied image with face to ../Data/processed/dataset2_processed/train/happy/images608.jpg\n",
      "Copied image with face to ../Data/processed/dataset2_processed/train/happy/images613.jpg\n"
     ]
    },
    {
     "name": "stderr",
     "output_type": "stream",
     "text": [
      "Processing files in ../Data/processed/dataset2/train/happy:  69%|██████▉   | 380/552 [00:27<00:09, 18.22it/s]"
     ]
    },
    {
     "name": "stdout",
     "output_type": "stream",
     "text": [
      "Copied image with face to ../Data/processed/dataset2_processed/train/happy/images614.jpg\n",
      "Copied image with face to ../Data/processed/dataset2_processed/train/happy/images62.jpg\n",
      "No faces found in image: ../Data/processed/dataset2/train/happy/images620.jpg\n",
      "No faces found in image: ../Data/processed/dataset2/train/happy/images621.jpg\n",
      "Copied image with face to ../Data/processed/dataset2_processed/train/happy/images625.jpg\n"
     ]
    },
    {
     "name": "stderr",
     "output_type": "stream",
     "text": [
      "Processing files in ../Data/processed/dataset2/train/happy:  69%|██████▉   | 383/552 [00:27<00:10, 16.19it/s]"
     ]
    },
    {
     "name": "stdout",
     "output_type": "stream",
     "text": [
      "Copied image with face to ../Data/processed/dataset2_processed/train/happy/images626.jpg\n",
      "Copied image with face to ../Data/processed/dataset2_processed/train/happy/images627.jpg\n",
      "Copied image with face to ../Data/processed/dataset2_processed/train/happy/images628.jpg\n"
     ]
    },
    {
     "name": "stderr",
     "output_type": "stream",
     "text": [
      "Processing files in ../Data/processed/dataset2/train/happy:  70%|███████   | 387/552 [00:27<00:11, 13.87it/s]"
     ]
    },
    {
     "name": "stdout",
     "output_type": "stream",
     "text": [
      "Copied image with face to ../Data/processed/dataset2_processed/train/happy/images63.jpg\n",
      "Copied image with face to ../Data/processed/dataset2_processed/train/happy/images630.jpg\n",
      "Copied image with face to ../Data/processed/dataset2_processed/train/happy/images631.jpg\n",
      "No faces found in image: ../Data/processed/dataset2/train/happy/images632.jpg\n"
     ]
    },
    {
     "name": "stderr",
     "output_type": "stream",
     "text": [
      "Processing files in ../Data/processed/dataset2/train/happy:  71%|███████   | 391/552 [00:28<00:11, 13.71it/s]"
     ]
    },
    {
     "name": "stdout",
     "output_type": "stream",
     "text": [
      "Copied image with face to ../Data/processed/dataset2_processed/train/happy/images634.jpg\n",
      "Copied image with face to ../Data/processed/dataset2_processed/train/happy/images64.jpg\n",
      "Copied image with face to ../Data/processed/dataset2_processed/train/happy/images642.jpg\n",
      "No faces found in image: ../Data/processed/dataset2/train/happy/images643.jpg\n"
     ]
    },
    {
     "name": "stderr",
     "output_type": "stream",
     "text": [
      "Processing files in ../Data/processed/dataset2/train/happy:  71%|███████▏  | 394/552 [00:28<00:09, 15.89it/s]"
     ]
    },
    {
     "name": "stdout",
     "output_type": "stream",
     "text": [
      "No faces found in image: ../Data/processed/dataset2/train/happy/images644.jpg\n",
      "Copied image with face to ../Data/processed/dataset2_processed/train/happy/images646.jpg\n",
      "Copied image with face to ../Data/processed/dataset2_processed/train/happy/images65.jpg\n"
     ]
    },
    {
     "name": "stderr",
     "output_type": "stream",
     "text": [
      "Processing files in ../Data/processed/dataset2/train/happy:  72%|███████▏  | 398/552 [00:28<00:11, 13.22it/s]"
     ]
    },
    {
     "name": "stdout",
     "output_type": "stream",
     "text": [
      "Copied image with face to ../Data/processed/dataset2_processed/train/happy/images650.jpg\n",
      "Copied image with face to ../Data/processed/dataset2_processed/train/happy/images652.jpg\n",
      "Copied image with face to ../Data/processed/dataset2_processed/train/happy/images655.jpg\n"
     ]
    },
    {
     "name": "stderr",
     "output_type": "stream",
     "text": [
      "Processing files in ../Data/processed/dataset2/train/happy:  72%|███████▏  | 400/552 [00:28<00:11, 12.69it/s]"
     ]
    },
    {
     "name": "stdout",
     "output_type": "stream",
     "text": [
      "Copied image with face to ../Data/processed/dataset2_processed/train/happy/images656.jpg\n",
      "Copied image with face to ../Data/processed/dataset2_processed/train/happy/images657.jpg\n",
      "No faces found in image: ../Data/processed/dataset2/train/happy/images66.jpg\n",
      "No faces found in image: ../Data/processed/dataset2/train/happy/images662.jpg\n"
     ]
    },
    {
     "name": "stderr",
     "output_type": "stream",
     "text": [
      "Processing files in ../Data/processed/dataset2/train/happy:  74%|███████▎  | 406/552 [00:29<00:08, 17.15it/s]"
     ]
    },
    {
     "name": "stdout",
     "output_type": "stream",
     "text": [
      "Copied image with face to ../Data/processed/dataset2_processed/train/happy/images665.jpg\n",
      "No faces found in image: ../Data/processed/dataset2/train/happy/images668.jpg\n",
      "No faces found in image: ../Data/processed/dataset2/train/happy/images67.jpg\n",
      "Copied image with face to ../Data/processed/dataset2_processed/train/happy/images671.jpg\n",
      "No faces found in image: ../Data/processed/dataset2/train/happy/images676.jpg\n"
     ]
    },
    {
     "name": "stderr",
     "output_type": "stream",
     "text": [
      "Processing files in ../Data/processed/dataset2/train/happy:  74%|███████▍  | 410/552 [00:29<00:09, 15.23it/s]"
     ]
    },
    {
     "name": "stdout",
     "output_type": "stream",
     "text": [
      "Copied image with face to ../Data/processed/dataset2_processed/train/happy/images678.jpg\n",
      "Copied image with face to ../Data/processed/dataset2_processed/train/happy/images68.jpg\n",
      "Copied image with face to ../Data/processed/dataset2_processed/train/happy/images680.jpg\n"
     ]
    },
    {
     "name": "stderr",
     "output_type": "stream",
     "text": [
      "Processing files in ../Data/processed/dataset2/train/happy:  75%|███████▍  | 412/552 [00:29<00:10, 13.79it/s]"
     ]
    },
    {
     "name": "stdout",
     "output_type": "stream",
     "text": [
      "Copied image with face to ../Data/processed/dataset2_processed/train/happy/images681.jpg\n",
      "Copied image with face to ../Data/processed/dataset2_processed/train/happy/images682.jpg\n",
      "Copied image with face to ../Data/processed/dataset2_processed/train/happy/images687.jpg\n"
     ]
    },
    {
     "name": "stderr",
     "output_type": "stream",
     "text": [
      "Processing files in ../Data/processed/dataset2/train/happy:  75%|███████▌  | 416/552 [00:29<00:09, 14.17it/s]"
     ]
    },
    {
     "name": "stdout",
     "output_type": "stream",
     "text": [
      "Copied image with face to ../Data/processed/dataset2_processed/train/happy/images696.jpg\n",
      "No faces found in image: ../Data/processed/dataset2/train/happy/images697.jpg\n",
      "Copied image with face to ../Data/processed/dataset2_processed/train/happy/images698.jpg\n",
      "No faces found in image: ../Data/processed/dataset2/train/happy/images7.jpg\n"
     ]
    },
    {
     "name": "stderr",
     "output_type": "stream",
     "text": [
      "Processing files in ../Data/processed/dataset2/train/happy:  76%|███████▌  | 420/552 [00:30<00:09, 13.98it/s]"
     ]
    },
    {
     "name": "stdout",
     "output_type": "stream",
     "text": [
      "Copied image with face to ../Data/processed/dataset2_processed/train/happy/images70.jpg\n",
      "Copied image with face to ../Data/processed/dataset2_processed/train/happy/images701.jpg\n",
      "Copied image with face to ../Data/processed/dataset2_processed/train/happy/images702.jpg\n"
     ]
    },
    {
     "name": "stderr",
     "output_type": "stream",
     "text": [
      "Processing files in ../Data/processed/dataset2/train/happy:  76%|███████▋  | 422/552 [00:30<00:10, 12.92it/s]"
     ]
    },
    {
     "name": "stdout",
     "output_type": "stream",
     "text": [
      "Copied image with face to ../Data/processed/dataset2_processed/train/happy/images703.jpg\n",
      "Copied image with face to ../Data/processed/dataset2_processed/train/happy/images704.jpg\n",
      "Copied image with face to ../Data/processed/dataset2_processed/train/happy/images709.jpg\n",
      "No faces found in image: ../Data/processed/dataset2/train/happy/images71.jpg\n"
     ]
    },
    {
     "name": "stderr",
     "output_type": "stream",
     "text": [
      "Processing files in ../Data/processed/dataset2/train/happy:  77%|███████▋  | 426/552 [00:30<00:08, 15.09it/s]"
     ]
    },
    {
     "name": "stdout",
     "output_type": "stream",
     "text": [
      "Copied image with face to ../Data/processed/dataset2_processed/train/happy/images710.jpg\n",
      "No faces found in image: ../Data/processed/dataset2/train/happy/images715.jpg\n",
      "Copied image with face to ../Data/processed/dataset2_processed/train/happy/images716.jpg\n"
     ]
    },
    {
     "name": "stderr",
     "output_type": "stream",
     "text": [
      "Processing files in ../Data/processed/dataset2/train/happy:  78%|███████▊  | 430/552 [00:31<00:09, 12.57it/s]"
     ]
    },
    {
     "name": "stdout",
     "output_type": "stream",
     "text": [
      "Copied image with face to ../Data/processed/dataset2_processed/train/happy/images718.jpg\n",
      "Copied image with face to ../Data/processed/dataset2_processed/train/happy/images720.jpg\n",
      "Copied image with face to ../Data/processed/dataset2_processed/train/happy/images722.jpg\n"
     ]
    },
    {
     "name": "stderr",
     "output_type": "stream",
     "text": [
      "Processing files in ../Data/processed/dataset2/train/happy:  78%|███████▊  | 432/552 [00:31<00:09, 12.02it/s]"
     ]
    },
    {
     "name": "stdout",
     "output_type": "stream",
     "text": [
      "Copied image with face to ../Data/processed/dataset2_processed/train/happy/images723.jpg\n",
      "Copied image with face to ../Data/processed/dataset2_processed/train/happy/images726.jpg\n",
      "Copied image with face to ../Data/processed/dataset2_processed/train/happy/images728.jpg\n"
     ]
    },
    {
     "name": "stderr",
     "output_type": "stream",
     "text": [
      "Processing files in ../Data/processed/dataset2/train/happy:  79%|███████▉  | 436/552 [00:31<00:10, 11.49it/s]"
     ]
    },
    {
     "name": "stdout",
     "output_type": "stream",
     "text": [
      "Copied image with face to ../Data/processed/dataset2_processed/train/happy/images731.jpg\n",
      "Copied image with face to ../Data/processed/dataset2_processed/train/happy/images733.jpg\n",
      "Copied image with face to ../Data/processed/dataset2_processed/train/happy/images738.jpg\n"
     ]
    },
    {
     "name": "stderr",
     "output_type": "stream",
     "text": [
      "Processing files in ../Data/processed/dataset2/train/happy:  79%|███████▉  | 438/552 [00:31<00:08, 13.00it/s]"
     ]
    },
    {
     "name": "stdout",
     "output_type": "stream",
     "text": [
      "No faces found in image: ../Data/processed/dataset2/train/happy/images74.jpg\n",
      "Copied image with face to ../Data/processed/dataset2_processed/train/happy/images742.jpg\n",
      "Copied image with face to ../Data/processed/dataset2_processed/train/happy/images743.jpg\n"
     ]
    },
    {
     "name": "stderr",
     "output_type": "stream",
     "text": [
      "Processing files in ../Data/processed/dataset2/train/happy:  80%|████████  | 442/552 [00:32<00:08, 12.30it/s]"
     ]
    },
    {
     "name": "stdout",
     "output_type": "stream",
     "text": [
      "Copied image with face to ../Data/processed/dataset2_processed/train/happy/images744.jpg\n",
      "Copied image with face to ../Data/processed/dataset2_processed/train/happy/images75.jpg\n",
      "Copied image with face to ../Data/processed/dataset2_processed/train/happy/images750.jpg\n",
      "Copied image with face to ../Data/processed/dataset2_processed/train/happy/images752.jpg\n",
      "Copied image with face to ../Data/processed/dataset2_processed/train/happy/images754.jpg\n",
      "Copied image with face to ../Data/processed/dataset2_processed/train/happy/images755.jpg\n",
      "Copied image with face to ../Data/processed/dataset2_processed/train/happy/images756.jpg\n",
      "Copied image with face to ../Data/processed/dataset2_processed/train/happy/images757.jpg\n",
      "Copied image with face to ../Data/processed/dataset2_processed/train/happy/images76.jpg\n",
      "No faces found in image: ../Data/processed/dataset2/train/happy/images763.jpg\n",
      "Copied image with face to ../Data/processed/dataset2_processed/train/happy/images767.jpg\n",
      "Copied image with face to ../Data/processed/dataset2_processed/train/happy/images770.jpg\n",
      "No faces found in image: ../Data/processed/dataset2/train/happy/images774.jpg\n",
      "No faces found in image: ../Data/processed/dataset2/train/happy/images777.jpg\n",
      "Copied image with face to ../Data/processed/dataset2_processed/train/happy/images778.jpg\n",
      "Copied image with face to ../Data/processed/dataset2_processed/train/happy/images782.jpg\n",
      "Copied image with face to ../Data/processed/dataset2_processed/train/happy/images784.jpg\n",
      "Copied image with face to ../Data/processed/dataset2_processed/train/happy/images785.jpg\n",
      "Copied image with face to ../Data/processed/dataset2_processed/train/happy/images787.jpg\n",
      "No faces found in image: ../Data/processed/dataset2/train/happy/images789.jpg\n",
      "Copied image with face to ../Data/processed/dataset2_processed/train/happy/images795.jpg\n",
      "Copied image with face to ../Data/processed/dataset2_processed/train/happy/images800.jpg\n",
      "Copied image with face to ../Data/processed/dataset2_processed/train/happy/images802.jpg\n",
      "Copied image with face to ../Data/processed/dataset2_processed/train/happy/images804.jpg\n",
      "No faces found in image: ../Data/processed/dataset2/train/happy/images807.jpg\n",
      "Copied image with face to ../Data/processed/dataset2_processed/train/happy/images808.jpg\n",
      "Copied image with face to ../Data/processed/dataset2_processed/train/happy/images809.jpg\n",
      "Copied image with face to ../Data/processed/dataset2_processed/train/happy/images812.jpg\n",
      "No faces found in image: ../Data/processed/dataset2/train/happy/images814.jpg\n",
      "No faces found in image: ../Data/processed/dataset2/train/happy/images817.jpg\n",
      "Copied image with face to ../Data/processed/dataset2_processed/train/happy/images818.jpg\n",
      "No faces found in image: ../Data/processed/dataset2/train/happy/images82.jpg\n",
      "Copied image with face to ../Data/processed/dataset2_processed/train/happy/images820.jpg\n",
      "No faces found in image: ../Data/processed/dataset2/train/happy/images824.jpg\n",
      "Copied image with face to ../Data/processed/dataset2_processed/train/happy/images825.jpg\n",
      "Copied image with face to ../Data/processed/dataset2_processed/train/happy/images826.jpg\n",
      "Copied image with face to ../Data/processed/dataset2_processed/train/happy/images827.jpg\n",
      "Copied image with face to ../Data/processed/dataset2_processed/train/happy/images829.jpg\n",
      "Copied image with face to ../Data/processed/dataset2_processed/train/happy/images831.jpg\n"
     ]
    },
    {
     "name": "stderr",
     "output_type": "stream",
     "text": [
      "Processing files in ../Data/processed/dataset2/train/happy:  87%|████████▋ | 482/552 [00:32<00:00, 91.53it/s]"
     ]
    },
    {
     "name": "stdout",
     "output_type": "stream",
     "text": [
      "Copied image with face to ../Data/processed/dataset2_processed/train/happy/images834.jpg\n",
      "Copied image with face to ../Data/processed/dataset2_processed/train/happy/images835.jpg\n",
      "Copied image with face to ../Data/processed/dataset2_processed/train/happy/images836.jpg\n",
      "No faces found in image: ../Data/processed/dataset2/train/happy/images837.jpg\n",
      "No faces found in image: ../Data/processed/dataset2/train/happy/images838.jpg\n",
      "No faces found in image: ../Data/processed/dataset2/train/happy/images841.jpg\n",
      "Copied image with face to ../Data/processed/dataset2_processed/train/happy/images842.jpg\n",
      "No faces found in image: ../Data/processed/dataset2/train/happy/images845.jpg\n",
      "Copied image with face to ../Data/processed/dataset2_processed/train/happy/images848.jpg\n",
      "No faces found in image: ../Data/processed/dataset2/train/happy/images849.jpg\n",
      "Copied image with face to ../Data/processed/dataset2_processed/train/happy/images85.jpg\n"
     ]
    },
    {
     "name": "stderr",
     "output_type": "stream",
     "text": [
      "Processing files in ../Data/processed/dataset2/train/happy:  89%|████████▉ | 494/552 [00:32<00:01, 49.90it/s]"
     ]
    },
    {
     "name": "stdout",
     "output_type": "stream",
     "text": [
      "Copied image with face to ../Data/processed/dataset2_processed/train/happy/images851.jpg\n",
      "No faces found in image: ../Data/processed/dataset2/train/happy/images86.jpg\n",
      "Copied image with face to ../Data/processed/dataset2_processed/train/happy/images87.jpg\n",
      "No faces found in image: ../Data/processed/dataset2/train/happy/images89.jpg\n",
      "Copied image with face to ../Data/processed/dataset2_processed/train/happy/images9.jpg\n",
      "Copied image with face to ../Data/processed/dataset2_processed/train/happy/images90.jpg\n",
      "No faces found in image: ../Data/processed/dataset2/train/happy/images91.jpg\n",
      "Copied image with face to ../Data/processed/dataset2_processed/train/happy/images92.jpg\n",
      "Copied image with face to ../Data/processed/dataset2_processed/train/happy/images94.jpg\n",
      "No faces found in image: ../Data/processed/dataset2/train/happy/images96.jpg\n",
      "Copied image with face to ../Data/processed/dataset2_processed/train/happy/images99.jpg\n",
      "No faces found in image: ../Data/processed/dataset2/train/happy/IMG_20210827_200655.jpg\n",
      "No faces found in image: ../Data/processed/dataset2/train/happy/individual-with-dreads-rastafari-movement_23-2151712147.jpg\n"
     ]
    },
    {
     "name": "stderr",
     "output_type": "stream",
     "text": [
      "Processing files in ../Data/processed/dataset2/train/happy:  91%|█████████▏| 504/552 [00:33<00:01, 29.28it/s]"
     ]
    },
    {
     "name": "stdout",
     "output_type": "stream",
     "text": [
      "Copied image with face to ../Data/processed/dataset2_processed/train/happy/IOCVisit1440.png\n",
      "Copied image with face to ../Data/processed/dataset2_processed/train/happy/ipsos-global-advisor-happiness-2022-opti.jpg\n",
      "Copied image with face to ../Data/processed/dataset2_processed/train/happy/Irish-Tech-Challenge-Top-7.png\n",
      "No faces found in image: ../Data/processed/dataset2/train/happy/jumper-laughs-from-happiness-celebrates-victory-isolated-yellow_273609-32594.jpg\n",
      "Copied image with face to ../Data/processed/dataset2_processed/train/happy/jumping-and-dancing-happy-people-positive-emotions-set-illustration-free-vector.jpg\n",
      "Copied image with face to ../Data/processed/dataset2_processed/train/happy/LIA-24-Branded-Content-and-Branded-Entertainment.jpg\n",
      "Copied image with face to ../Data/processed/dataset2_processed/train/happy/maxresdefault2.jpg\n",
      "No faces found in image: ../Data/processed/dataset2/train/happy/medium-shot-happy-people-dancing-together_23-2149452674.jpg\n"
     ]
    },
    {
     "name": "stderr",
     "output_type": "stream",
     "text": [
      "Processing files in ../Data/processed/dataset2/train/happy:  93%|█████████▎| 511/552 [00:34<00:02, 19.35it/s]"
     ]
    },
    {
     "name": "stdout",
     "output_type": "stream",
     "text": [
      "Copied image with face to ../Data/processed/dataset2_processed/train/happy/Meg-Whitman-and-Kibera-Soccer-FC.jpg\n",
      "Copied image with face to ../Data/processed/dataset2_processed/train/happy/nasp-596.jpg\n",
      "No faces found in image: ../Data/processed/dataset2/train/happy/ns-friends-socializing-gathering-festive-atmosphere-colorful-event-329066117.jpg\n",
      "Copied image with face to ../Data/processed/dataset2_processed/train/happy/nt-ethnics-standing-togehter-smiling-while-hands-up-peace-sign_985204-154922.jpg\n"
     ]
    },
    {
     "name": "stderr",
     "output_type": "stream",
     "text": [
      "Processing files in ../Data/processed/dataset2/train/happy:  93%|█████████▎| 516/552 [00:36<00:04,  8.90it/s]"
     ]
    },
    {
     "name": "stdout",
     "output_type": "stream",
     "text": [
      "Copied image with face to ../Data/processed/dataset2_processed/train/happy/o-smiling-face-group-people-giving-thumbs-up-to-smiling-face-image-327607075.jpg\n",
      "Copied image with face to ../Data/processed/dataset2_processed/train/happy/OFBXMUzR-Francis-deSouza-joins-4baseCare-board-1200x900.jpeg\n",
      "No faces found in image: ../Data/processed/dataset2/train/happy/Overtly-Cheerful-Primer-Editorials-min.png\n",
      "Copied image with face to ../Data/processed/dataset2_processed/train/happy/People-holding-signs-in-support-of-Republican-pres_1721068854276.jpg\n",
      "Copied image with face to ../Data/processed/dataset2_processed/train/happy/photo-1525222285365-d6bfe94ec598.jpg\n"
     ]
    },
    {
     "name": "stderr",
     "output_type": "stream",
     "text": [
      "Processing files in ../Data/processed/dataset2/train/happy:  94%|█████████▍| 520/552 [00:37<00:03,  8.10it/s]"
     ]
    },
    {
     "name": "stdout",
     "output_type": "stream",
     "text": [
      "Copied image with face to ../Data/processed/dataset2_processed/train/happy/photo-1525267219888-bb077b8792cc.jpg\n",
      "Copied image with face to ../Data/processed/dataset2_processed/train/happy/photo-1542303472-cfd3fa4eb337.jpg\n",
      "Copied image with face to ../Data/processed/dataset2_processed/train/happy/photo-1635863909116-5427cb7da155.jpg\n"
     ]
    },
    {
     "name": "stderr",
     "output_type": "stream",
     "text": [
      "Processing files in ../Data/processed/dataset2/train/happy:  95%|█████████▌| 525/552 [00:38<00:04,  6.29it/s]"
     ]
    },
    {
     "name": "stdout",
     "output_type": "stream",
     "text": [
      "Copied image with face to ../Data/processed/dataset2_processed/train/happy/photo-1723056417219-ce0628f6645a.jpg\n",
      "Copied image with face to ../Data/processed/dataset2_processed/train/happy/png-transparent-woman-happy-people-tshirt-blue-physical-fitness-thumbnail.png\n",
      "No faces found in image: ../Data/processed/dataset2/train/happy/pngtree-woman-and-music-player-fun-movementpeople-png-image_13006675.png\n"
     ]
    },
    {
     "name": "stderr",
     "output_type": "stream",
     "text": [
      "Processing files in ../Data/processed/dataset2/train/happy:  95%|█████████▌| 527/552 [00:39<00:04,  5.90it/s]"
     ]
    },
    {
     "name": "stdout",
     "output_type": "stream",
     "text": [
      "Copied image with face to ../Data/processed/dataset2_processed/train/happy/premium_photo-1664881659551-412faba3ee60.jpg\n",
      "Copied image with face to ../Data/processed/dataset2_processed/train/happy/premium_photo-1666264200751-f2fd98360800.jpg\n",
      "Copied image with face to ../Data/processed/dataset2_processed/train/happy/premium_photo-1669137759430-3a04cd1a7cd0.jpg\n"
     ]
    },
    {
     "name": "stderr",
     "output_type": "stream",
     "text": [
      "Processing files in ../Data/processed/dataset2/train/happy:  96%|█████████▌| 531/552 [00:39<00:03,  5.98it/s]"
     ]
    },
    {
     "name": "stdout",
     "output_type": "stream",
     "text": [
      "Copied image with face to ../Data/processed/dataset2_processed/train/happy/premium_photo-1682546068715-386bd3c676e8.jpg\n",
      "No faces found in image: ../Data/processed/dataset2/train/happy/rature-lovers-huge-textbook-happy-readers-leisure-vector-concept_176516-6392.jpg\n",
      "Copied image with face to ../Data/processed/dataset2_processed/train/happy/remote-work-movement-podcast-1723035600.jpg\n",
      "Copied image with face to ../Data/processed/dataset2_processed/train/happy/remote-workers-happier-708x400.jpg\n"
     ]
    },
    {
     "name": "stderr",
     "output_type": "stream",
     "text": [
      "Processing files in ../Data/processed/dataset2/train/happy:  97%|█████████▋| 533/552 [00:40<00:03,  6.13it/s]"
     ]
    },
    {
     "name": "stdout",
     "output_type": "stream",
     "text": [
      "Copied image with face to ../Data/processed/dataset2_processed/train/happy/road-mansa-devi-sector-5-panchkula-overseas-education-consultants-j2enk17fcf.jpg\n",
      "Copied image with face to ../Data/processed/dataset2_processed/train/happy/Rohit.png\n"
     ]
    },
    {
     "name": "stderr",
     "output_type": "stream",
     "text": [
      "Processing files in ../Data/processed/dataset2/train/happy:  97%|█████████▋| 537/552 [00:40<00:02,  7.06it/s]"
     ]
    },
    {
     "name": "stdout",
     "output_type": "stream",
     "text": [
      "Copied image with face to ../Data/processed/dataset2_processed/train/happy/rtment-cute-teenager-student-at-home-lifestyle-and-people-concept-free-video.jpg\n",
      "No faces found in image: ../Data/processed/dataset2/train/happy/s-bicyc-freedom-concept-silhouette-happy-person-raised-arms-bicycle-98973458.jpg\n",
      "Copied image with face to ../Data/processed/dataset2_processed/train/happy/s-looking-pleased-like-something-standing-against-blue-background_1258-65055.jpg\n"
     ]
    },
    {
     "name": "stderr",
     "output_type": "stream",
     "text": [
      "Processing files in ../Data/processed/dataset2/train/happy:  98%|█████████▊| 539/552 [00:40<00:01,  7.18it/s]"
     ]
    },
    {
     "name": "stdout",
     "output_type": "stream",
     "text": [
      "Copied image with face to ../Data/processed/dataset2_processed/train/happy/satvic-indian-food-book-original-imah22vknfhtwtz3.jpeg\n",
      "Copied image with face to ../Data/processed/dataset2_processed/train/happy/Screenshot-2023-12-29-at-6.32.32-PM.png\n",
      "Copied image with face to ../Data/processed/dataset2_processed/train/happy/Shubman-Gill-60-scaled.jpg\n"
     ]
    },
    {
     "name": "stderr",
     "output_type": "stream",
     "text": [
      "Processing files in ../Data/processed/dataset2/train/happy:  98%|█████████▊| 541/552 [00:42<00:02,  3.74it/s]"
     ]
    },
    {
     "name": "stdout",
     "output_type": "stream",
     "text": [
      "No faces found in image: ../Data/processed/dataset2/train/happy/sub-buzz-410-1719006487-8.jpg\n"
     ]
    },
    {
     "name": "stderr",
     "output_type": "stream",
     "text": [
      "Processing files in ../Data/processed/dataset2/train/happy:  98%|█████████▊| 543/552 [00:42<00:02,  4.31it/s]"
     ]
    },
    {
     "name": "stdout",
     "output_type": "stream",
     "text": [
      "Copied image with face to ../Data/processed/dataset2_processed/train/happy/Super-Happy-People-yay.jpg\n",
      "Copied image with face to ../Data/processed/dataset2_processed/train/happy/t-birthday-celebration-living-room-parents-kids-dance-happy-family-326587814.jpg\n"
     ]
    },
    {
     "name": "stderr",
     "output_type": "stream",
     "text": [
      "Processing files in ../Data/processed/dataset2/train/happy:  99%|█████████▊| 544/552 [00:43<00:02,  3.10it/s]"
     ]
    },
    {
     "name": "stdout",
     "output_type": "stream",
     "text": [
      "Copied image with face to ../Data/processed/dataset2_processed/train/happy/the_startup_super_squad_the_visionary_the_techie_the_marketing_guru_and_the_guardian_angel-.jpg\n"
     ]
    },
    {
     "name": "stderr",
     "output_type": "stream",
     "text": [
      "libpng warning: iCCP: known incorrect sRGB profile\n",
      "Processing files in ../Data/processed/dataset2/train/happy:  99%|█████████▉| 546/552 [00:43<00:01,  3.59it/s]"
     ]
    },
    {
     "name": "stdout",
     "output_type": "stream",
     "text": [
      "Copied image with face to ../Data/processed/dataset2_processed/train/happy/Thumbnails-Real-time-video-content-moderation.png\n",
      "Copied image with face to ../Data/processed/dataset2_processed/train/happy/traitshappypeople.jpg\n"
     ]
    },
    {
     "name": "stderr",
     "output_type": "stream",
     "text": [
      "Processing files in ../Data/processed/dataset2/train/happy:  99%|█████████▉| 547/552 [00:43<00:01,  4.19it/s]libpng warning: iCCP: known incorrect sRGB profile\n"
     ]
    },
    {
     "name": "stdout",
     "output_type": "stream",
     "text": [
      "Copied image with face to ../Data/processed/dataset2_processed/train/happy/web3-happy-people-outside-smile-sun-nature-eduardo-dutra-620857-unsplash.jpg\n",
      "Copied image with face to ../Data/processed/dataset2_processed/train/happy/wf-national-happiness-happens-day--august-8.png\n"
     ]
    },
    {
     "name": "stderr",
     "output_type": "stream",
     "text": [
      "Processing files in ../Data/processed/dataset2/train/happy:  99%|█████████▉| 549/552 [00:43<00:00,  4.55it/s]"
     ]
    },
    {
     "name": "stdout",
     "output_type": "stream",
     "text": [
      "Copied image with face to ../Data/processed/dataset2_processed/train/happy/wp3719969.jpg\n",
      "No faces found in image: ../Data/processed/dataset2/train/happy/X716255029_g.jpg\n",
      "No faces found in image: ../Data/processed/dataset2/train/happy/young-woman-curly-hair-laughing-260nw-1687578475.jpg\n"
     ]
    },
    {
     "name": "stderr",
     "output_type": "stream",
     "text": [
      "Processing files in ../Data/processed/dataset2/train/happy: 100%|██████████| 552/552 [00:44<00:00, 12.45it/s]\n"
     ]
    },
    {
     "name": "stdout",
     "output_type": "stream",
     "text": [
      "Copied image with face to ../Data/processed/dataset2_processed/train/happy/Zo_3qx5LeNNTxCl5_RENELUTTERUS-0958.JPG.jpg\n"
     ]
    },
    {
     "name": "stderr",
     "output_type": "stream",
     "text": [
      "Processing files in ../Data/processed/dataset2/train/sad:   0%|          | 1/744 [00:00<01:59,  6.19it/s]"
     ]
    },
    {
     "name": "stdout",
     "output_type": "stream",
     "text": [
      "Copied image with face to ../Data/processed/dataset2_processed/train/sad/-despair-sadness-woman-emotional-stress-pain-woman-sitting-alone-th-61663852.jpg\n"
     ]
    },
    {
     "name": "stderr",
     "output_type": "stream",
     "text": [
      "Processing files in ../Data/processed/dataset2/train/sad:   0%|          | 2/744 [00:00<02:00,  6.18it/s]"
     ]
    },
    {
     "name": "stdout",
     "output_type": "stream",
     "text": [
      "Copied image with face to ../Data/processed/dataset2_processed/train/sad/-face-indian-woman-outdoor-in-village-very-serious-sad-black-and-whit-RHAKMJ.jpg\n"
     ]
    },
    {
     "name": "stderr",
     "output_type": "stream",
     "text": [
      "Processing files in ../Data/processed/dataset2/train/sad:   0%|          | 3/744 [00:00<01:42,  7.26it/s]"
     ]
    },
    {
     "name": "stdout",
     "output_type": "stream",
     "text": [
      "No faces found in image: ../Data/processed/dataset2/train/sad/-frustrated-unhappy-young-indian-woman-crying-window-covering-face-264199660.jpg\n"
     ]
    },
    {
     "name": "stderr",
     "output_type": "stream",
     "text": [
      "Processing files in ../Data/processed/dataset2/train/sad:   1%|          | 4/744 [00:00<01:52,  6.61it/s]"
     ]
    },
    {
     "name": "stdout",
     "output_type": "stream",
     "text": [
      "Copied image with face to ../Data/processed/dataset2_processed/train/sad/-indian-man-face-portrait-white-background-old-side-way-black-hair-185460055.jpg\n"
     ]
    },
    {
     "name": "stderr",
     "output_type": "stream",
     "text": [
      "Processing files in ../Data/processed/dataset2/train/sad:   1%|          | 5/744 [00:00<01:51,  6.62it/s]"
     ]
    },
    {
     "name": "stdout",
     "output_type": "stream",
     "text": [
      "No faces found in image: ../Data/processed/dataset2/train/sad/-with-sad-face-againts-yellow-background-people-emotions-and-lifestyle-photo.jpg\n"
     ]
    },
    {
     "name": "stderr",
     "output_type": "stream",
     "text": [
      "Processing files in ../Data/processed/dataset2/train/sad:   1%|          | 6/744 [00:00<01:46,  6.92it/s]"
     ]
    },
    {
     "name": "stdout",
     "output_type": "stream",
     "text": [
      "Copied image with face to ../Data/processed/dataset2_processed/train/sad/-woman-crying-alone-sitting-on-couch-feeling-desperate-and-sad-upset-unhappy.jpg\n",
      "No faces found in image: ../Data/processed/dataset2/train/sad/040459bfe55c34f80d9270cb6b4fe0fb.jpg\n"
     ]
    },
    {
     "name": "stderr",
     "output_type": "stream",
     "text": [
      "Processing files in ../Data/processed/dataset2/train/sad:   1%|          | 8/744 [00:01<01:25,  8.63it/s]"
     ]
    },
    {
     "name": "stdout",
     "output_type": "stream",
     "text": [
      "Copied image with face to ../Data/processed/dataset2_processed/train/sad/1-indian-senior-adult-man-journalist-book-writing-crying-injury-face-FDDBP5.jpg\n"
     ]
    },
    {
     "name": "stderr",
     "output_type": "stream",
     "text": [
      "Processing files in ../Data/processed/dataset2/train/sad:   1%|          | 9/744 [00:01<01:32,  7.98it/s]"
     ]
    },
    {
     "name": "stdout",
     "output_type": "stream",
     "text": [
      "No faces found in image: ../Data/processed/dataset2/train/sad/1-indian-senior-adult-man-serious-problem-crying-FDDA20.jpg\n"
     ]
    },
    {
     "name": "stderr",
     "output_type": "stream",
     "text": [
      "Processing files in ../Data/processed/dataset2/train/sad:   1%|▏         | 10/744 [00:01<01:32,  7.94it/s]"
     ]
    },
    {
     "name": "stdout",
     "output_type": "stream",
     "text": [
      "Copied image with face to ../Data/processed/dataset2_processed/train/sad/1000_F_123068595_oguT5AANx36vMPP6sWcqBAs4aFurJXsy.jpg\n",
      "No faces found in image: ../Data/processed/dataset2/train/sad/1000_F_140862167_EffTiFE0MestJoGsvwUZ7QZoLd4XcCUg.jpg\n"
     ]
    },
    {
     "name": "stderr",
     "output_type": "stream",
     "text": [
      "Processing files in ../Data/processed/dataset2/train/sad:   2%|▏         | 13/744 [00:01<01:01, 11.82it/s]"
     ]
    },
    {
     "name": "stdout",
     "output_type": "stream",
     "text": [
      "No faces found in image: ../Data/processed/dataset2/train/sad/1000_F_144127184_frlo8JUYFjgOropdjqNkQwLZPobtuh3P.jpg\n",
      "No faces found in image: ../Data/processed/dataset2/train/sad/1000_F_154549295_EN4JNJgvFioJLchWPL7LwOInV4LhpTku.jpg\n",
      "No faces found in image: ../Data/processed/dataset2/train/sad/1000_F_159195690_vK1m64Bg1K0pWwWGHZjTSmQ5iQjuqMoc.jpg\n"
     ]
    },
    {
     "name": "stderr",
     "output_type": "stream",
     "text": [
      "Processing files in ../Data/processed/dataset2/train/sad:   2%|▏         | 18/744 [00:01<00:51, 14.12it/s]"
     ]
    },
    {
     "name": "stdout",
     "output_type": "stream",
     "text": [
      "Copied image with face to ../Data/processed/dataset2_processed/train/sad/1000_F_227874645_ON4cPifENbJ4ygAaJ1iqnjfEzpcHURAj.jpg\n",
      "No faces found in image: ../Data/processed/dataset2/train/sad/1000_F_242502317_ctd5zYXQL4DiPfWcqh64DbG5f5RRvTMO.jpg\n",
      "No faces found in image: ../Data/processed/dataset2/train/sad/1000_F_244468404_pQ2Vp3du6DOeUnhXMapUrp9LZnTYqepV.jpg\n",
      "No faces found in image: ../Data/processed/dataset2/train/sad/1000_F_264351752_Q6TMc1ToBhGMqG5yLuhXZ8ybyHlbBKPR.jpg\n",
      "No faces found in image: ../Data/processed/dataset2/train/sad/1000_F_280096548_qBEPpaoTUCM2EK4zuL6MHX8j0deNdybJ.jpg\n"
     ]
    },
    {
     "name": "stderr",
     "output_type": "stream",
     "text": [
      "Processing files in ../Data/processed/dataset2/train/sad:   3%|▎         | 21/744 [00:02<00:48, 14.78it/s]"
     ]
    },
    {
     "name": "stdout",
     "output_type": "stream",
     "text": [
      "No faces found in image: ../Data/processed/dataset2/train/sad/1000_F_318931173_hTVnaa2c7OXCZjoGqGs4h2OA72GZcu79.jpg\n",
      "Copied image with face to ../Data/processed/dataset2_processed/train/sad/1000_F_347114326_7Q9eu5DNivs8lNhoo5eGV1KGGl62mOdj.jpg\n",
      "No faces found in image: ../Data/processed/dataset2/train/sad/1000_F_373372481_wgzHkefODCQ8mWpo9k9lQ9M28bM1DaV0.jpg\n"
     ]
    },
    {
     "name": "stderr",
     "output_type": "stream",
     "text": [
      "Processing files in ../Data/processed/dataset2/train/sad:   3%|▎         | 23/744 [00:02<00:49, 14.64it/s]"
     ]
    },
    {
     "name": "stdout",
     "output_type": "stream",
     "text": [
      "Copied image with face to ../Data/processed/dataset2_processed/train/sad/1000_F_414274031_APswWWMhmbvWLS7L6UkKrPr05DtybMOc.jpg\n",
      "No faces found in image: ../Data/processed/dataset2/train/sad/1000_F_429926865_CzKqqLn6X2W48zQKxRXp38HACDBFb8ed.jpg\n"
     ]
    },
    {
     "name": "stderr",
     "output_type": "stream",
     "text": [
      "Processing files in ../Data/processed/dataset2/train/sad:   4%|▍         | 28/744 [00:02<00:52, 13.57it/s]"
     ]
    },
    {
     "name": "stdout",
     "output_type": "stream",
     "text": [
      "Copied image with face to ../Data/processed/dataset2_processed/train/sad/1000_F_455585795_idXOtE5j7detCjimAD3cctbAaLq7FXOQ.jpg\n",
      "No faces found in image: ../Data/processed/dataset2/train/sad/1000_F_490531481_j4qoIhSCfqT6WS6FK7Hicj88lLnBsqPo.jpg\n",
      "No faces found in image: ../Data/processed/dataset2/train/sad/1000_F_94071211_NXmfWbluS77t2AZDuKaeIXs45k5uwzA9.jpg\n",
      "Copied image with face to ../Data/processed/dataset2_processed/train/sad/105336482.jpg\n"
     ]
    },
    {
     "name": "stderr",
     "output_type": "stream",
     "text": [
      "Processing files in ../Data/processed/dataset2/train/sad:   4%|▍         | 30/744 [00:02<01:08, 10.46it/s]"
     ]
    },
    {
     "name": "stdout",
     "output_type": "stream",
     "text": [
      "Copied image with face to ../Data/processed/dataset2_processed/train/sad/10d3a4ce1cbdbcbc21041e56f2da4b9e.jpg\n",
      "Copied image with face to ../Data/processed/dataset2_processed/train/sad/10dc12ca.jpg\n"
     ]
    },
    {
     "name": "stderr",
     "output_type": "stream",
     "text": [
      "Processing files in ../Data/processed/dataset2/train/sad:   4%|▍         | 32/744 [00:03<01:10, 10.07it/s]"
     ]
    },
    {
     "name": "stdout",
     "output_type": "stream",
     "text": [
      "Copied image with face to ../Data/processed/dataset2_processed/train/sad/10efb3e6.jpg\n",
      "No faces found in image: ../Data/processed/dataset2/train/sad/11-112421_sad-mans-face-clip-arts-line-drawing-of.png\n",
      "No faces found in image: ../Data/processed/dataset2/train/sad/11tears.jpg\n"
     ]
    },
    {
     "name": "stderr",
     "output_type": "stream",
     "text": [
      "Processing files in ../Data/processed/dataset2/train/sad:   5%|▍         | 35/744 [00:03<01:23,  8.49it/s]"
     ]
    },
    {
     "name": "stdout",
     "output_type": "stream",
     "text": [
      "Copied image with face to ../Data/processed/dataset2_processed/train/sad/12165734.jpg\n",
      "Copied image with face to ../Data/processed/dataset2_processed/train/sad/13396641-an-handsome-indian-kid-looking-very-sad.jpg\n"
     ]
    },
    {
     "name": "stderr",
     "output_type": "stream",
     "text": [
      "Processing files in ../Data/processed/dataset2/train/sad:   5%|▍         | 37/744 [00:03<01:34,  7.44it/s]"
     ]
    },
    {
     "name": "stdout",
     "output_type": "stream",
     "text": [
      "Copied image with face to ../Data/processed/dataset2_processed/train/sad/1382186-sadendingsindianmovies.jpg\n",
      "Copied image with face to ../Data/processed/dataset2_processed/train/sad/153531236.jpg\n"
     ]
    },
    {
     "name": "stderr",
     "output_type": "stream",
     "text": [
      "Processing files in ../Data/processed/dataset2/train/sad:   5%|▌         | 39/744 [00:04<01:41,  6.97it/s]"
     ]
    },
    {
     "name": "stdout",
     "output_type": "stream",
     "text": [
      "Copied image with face to ../Data/processed/dataset2_processed/train/sad/170463965.jpg\n",
      "Copied image with face to ../Data/processed/dataset2_processed/train/sad/17148545-close-up-image-of-sad-man-face-against-white-background.jpg\n"
     ]
    },
    {
     "name": "stderr",
     "output_type": "stream",
     "text": [
      "Processing files in ../Data/processed/dataset2/train/sad:   6%|▌         | 41/744 [00:04<01:48,  6.48it/s]"
     ]
    },
    {
     "name": "stdout",
     "output_type": "stream",
     "text": [
      "Copied image with face to ../Data/processed/dataset2_processed/train/sad/180042454.jpg\n",
      "Copied image with face to ../Data/processed/dataset2_processed/train/sad/18dd8ec85d1d2c1c723ceedbe9ebae43.jpg\n"
     ]
    },
    {
     "name": "stderr",
     "output_type": "stream",
     "text": [
      "Processing files in ../Data/processed/dataset2/train/sad:   6%|▌         | 43/744 [00:04<01:43,  6.77it/s]"
     ]
    },
    {
     "name": "stdout",
     "output_type": "stream",
     "text": [
      "Copied image with face to ../Data/processed/dataset2_processed/train/sad/19-197585_best-sad-face-clip-art-man-face-black-and-white-drawing.png\n",
      "Copied image with face to ../Data/processed/dataset2_processed/train/sad/1910af7218a608d975a737f5b7cdc0bd.jpg\n"
     ]
    },
    {
     "name": "stderr",
     "output_type": "stream",
     "text": [
      "Processing files in ../Data/processed/dataset2/train/sad:   6%|▌         | 45/744 [00:05<01:48,  6.43it/s]"
     ]
    },
    {
     "name": "stdout",
     "output_type": "stream",
     "text": [
      "Copied image with face to ../Data/processed/dataset2_processed/train/sad/198372898-portrait-of-a-young-indian-boy-with-sad-expression-on-his-face.jpg\n",
      "No faces found in image: ../Data/processed/dataset2/train/sad/198372975-portrait-of-a-little-indian-boy-with-sad-expression-on-his-face.jpg\n"
     ]
    },
    {
     "name": "stderr",
     "output_type": "stream",
     "text": [
      "Processing files in ../Data/processed/dataset2/train/sad:   6%|▋         | 47/744 [00:05<01:38,  7.08it/s]"
     ]
    },
    {
     "name": "stdout",
     "output_type": "stream",
     "text": [
      "Copied image with face to ../Data/processed/dataset2_processed/train/sad/1af12447f066d41037a1c11515d76470.jpg\n",
      "Copied image with face to ../Data/processed/dataset2_processed/train/sad/1d4caaf74d280f2128388dfcb98ebf08.jpg\n"
     ]
    },
    {
     "name": "stderr",
     "output_type": "stream",
     "text": [
      "Processing files in ../Data/processed/dataset2/train/sad:   6%|▋         | 48/744 [00:05<01:34,  7.33it/s]"
     ]
    },
    {
     "name": "stdout",
     "output_type": "stream",
     "text": [
      "Copied image with face to ../Data/processed/dataset2_processed/train/sad/1f62d.png\n"
     ]
    },
    {
     "name": "stderr",
     "output_type": "stream",
     "text": [
      "Processing files in ../Data/processed/dataset2/train/sad:   7%|▋         | 50/744 [00:05<01:49,  6.33it/s]"
     ]
    },
    {
     "name": "stdout",
     "output_type": "stream",
     "text": [
      "Copied image with face to ../Data/processed/dataset2_processed/train/sad/2017_35_emoji_movie-scaled.jpg\n",
      "Copied image with face to ../Data/processed/dataset2_processed/train/sad/2020_5img11_May_2020_PTI11-05-2020_000224B-2-scaled-1.jpg\n"
     ]
    },
    {
     "name": "stderr",
     "output_type": "stream",
     "text": [
      "Processing files in ../Data/processed/dataset2/train/sad:   7%|▋         | 52/744 [00:06<01:56,  5.95it/s]"
     ]
    },
    {
     "name": "stdout",
     "output_type": "stream",
     "text": [
      "Copied image with face to ../Data/processed/dataset2_processed/train/sad/207db450e73157f48f7f2a35a240dc18.jpg\n",
      "Copied image with face to ../Data/processed/dataset2_processed/train/sad/208711785-portrait-of-a-sad-indian-woman-with-dirty-face-and-dirty-face.jpg\n"
     ]
    },
    {
     "name": "stderr",
     "output_type": "stream",
     "text": [
      "Processing files in ../Data/processed/dataset2/train/sad:   7%|▋         | 54/744 [00:06<01:56,  5.93it/s]"
     ]
    },
    {
     "name": "stdout",
     "output_type": "stream",
     "text": [
      "Copied image with face to ../Data/processed/dataset2_processed/train/sad/21-214455_sad-person-png-transparent-sad-person-png-png.png\n",
      "Copied image with face to ../Data/processed/dataset2_processed/train/sad/22a7cd4c9568d8376fb1f7566cfa1cf7.jpg\n"
     ]
    },
    {
     "name": "stderr",
     "output_type": "stream",
     "text": [
      "Processing files in ../Data/processed/dataset2/train/sad:   8%|▊         | 56/744 [00:06<01:20,  8.51it/s]"
     ]
    },
    {
     "name": "stdout",
     "output_type": "stream",
     "text": [
      "No faces found in image: ../Data/processed/dataset2/train/sad/231366-middle.png\n",
      "No faces found in image: ../Data/processed/dataset2/train/sad/235-2353011_man-people-bored-unhappy-cartoon-human-face-cartoon.png\n"
     ]
    },
    {
     "name": "stderr",
     "output_type": "stream",
     "text": [
      "Processing files in ../Data/processed/dataset2/train/sad:   8%|▊         | 57/744 [00:06<01:41,  6.79it/s]"
     ]
    },
    {
     "name": "stdout",
     "output_type": "stream",
     "text": [
      "Copied image with face to ../Data/processed/dataset2_processed/train/sad/235452976.jpg\n"
     ]
    },
    {
     "name": "stderr",
     "output_type": "stream",
     "text": [
      "Processing files in ../Data/processed/dataset2/train/sad:   8%|▊         | 60/744 [00:07<01:36,  7.08it/s]"
     ]
    },
    {
     "name": "stdout",
     "output_type": "stream",
     "text": [
      "Copied image with face to ../Data/processed/dataset2_processed/train/sad/235453015.jpg\n",
      "Copied image with face to ../Data/processed/dataset2_processed/train/sad/240_F_671059717_OAlmXdOfyZiunLuzQqCjZ4FBwa0NZCel.jpg\n",
      "No faces found in image: ../Data/processed/dataset2/train/sad/281349703.jpg\n"
     ]
    },
    {
     "name": "stderr",
     "output_type": "stream",
     "text": [
      "Processing files in ../Data/processed/dataset2/train/sad:   8%|▊         | 62/744 [00:07<01:50,  6.17it/s]"
     ]
    },
    {
     "name": "stdout",
     "output_type": "stream",
     "text": [
      "Copied image with face to ../Data/processed/dataset2_processed/train/sad/28356596-handsome-young-indian-man-with-a-sad-expression.jpg\n",
      "Copied image with face to ../Data/processed/dataset2_processed/train/sad/284948953.jpg\n"
     ]
    },
    {
     "name": "stderr",
     "output_type": "stream",
     "text": [
      "Processing files in ../Data/processed/dataset2/train/sad:   9%|▊         | 65/744 [00:08<02:04,  5.47it/s]"
     ]
    },
    {
     "name": "stdout",
     "output_type": "stream",
     "text": [
      "No faces found in image: ../Data/processed/dataset2/train/sad/2983120-Luis-Gonzalez-Quote-Face-to-me-is-a-metaphor-of-sadness-And-I-want.jpg\n",
      "Copied image with face to ../Data/processed/dataset2_processed/train/sad/2c9f13be8811b907200aa56718c366b1.jpg\n",
      "No faces found in image: ../Data/processed/dataset2/train/sad/311991007.jpg\n"
     ]
    },
    {
     "name": "stderr",
     "output_type": "stream",
     "text": [
      "Processing files in ../Data/processed/dataset2/train/sad:   9%|▉         | 66/744 [00:08<01:54,  5.91it/s]"
     ]
    },
    {
     "name": "stdout",
     "output_type": "stream",
     "text": [
      "No faces found in image: ../Data/processed/dataset2/train/sad/320369698.jpg\n",
      "No faces found in image: ../Data/processed/dataset2/train/sad/323802700.jpg\n"
     ]
    },
    {
     "name": "stderr",
     "output_type": "stream",
     "text": [
      "Processing files in ../Data/processed/dataset2/train/sad:  10%|▉         | 72/744 [00:08<01:01, 10.91it/s]"
     ]
    },
    {
     "name": "stdout",
     "output_type": "stream",
     "text": [
      "Copied image with face to ../Data/processed/dataset2_processed/train/sad/330726781.jpg\n",
      "No faces found in image: ../Data/processed/dataset2/train/sad/360_F_221449702_8eR7fQjlNw5OCeWlokF0LszDbERbbJAZ.jpg\n",
      "No faces found in image: ../Data/processed/dataset2/train/sad/360_F_240244667_311aKuFfSpzmmaXm4uKDk1O5szTvXSCR.jpg\n",
      "No faces found in image: ../Data/processed/dataset2/train/sad/360_F_289854126_EezhocX1YohAqt5Jm3msDybLGIAZ9q0D.jpg\n",
      "Copied image with face to ../Data/processed/dataset2_processed/train/sad/360_F_548848756_IlV9Y9HV8chb6mSuc3PBamYRT9gIn8Vo.jpg\n"
     ]
    },
    {
     "name": "stderr",
     "output_type": "stream",
     "text": [
      "Processing files in ../Data/processed/dataset2/train/sad:  10%|▉         | 74/744 [00:09<00:55, 12.07it/s]"
     ]
    },
    {
     "name": "stdout",
     "output_type": "stream",
     "text": [
      "Copied image with face to ../Data/processed/dataset2_processed/train/sad/360_F_573380015_l5YdjSZuJqET7UWOHBVMhzT7J63O8hPq.jpg\n",
      "No faces found in image: ../Data/processed/dataset2/train/sad/360_F_656932563_fVW6zvbCB23Iu5U1F2YjJRnG8SDyUTmm.jpg\n"
     ]
    },
    {
     "name": "stderr",
     "output_type": "stream",
     "text": [
      "Processing files in ../Data/processed/dataset2/train/sad:  10%|█         | 76/744 [00:09<01:09,  9.66it/s]"
     ]
    },
    {
     "name": "stdout",
     "output_type": "stream",
     "text": [
      "Copied image with face to ../Data/processed/dataset2_processed/train/sad/394616951.jpg\n",
      "No faces found in image: ../Data/processed/dataset2/train/sad/394617848.jpg\n"
     ]
    },
    {
     "name": "stderr",
     "output_type": "stream",
     "text": [
      "Processing files in ../Data/processed/dataset2/train/sad:  10%|█         | 78/744 [00:09<01:22,  8.08it/s]"
     ]
    },
    {
     "name": "stdout",
     "output_type": "stream",
     "text": [
      "Copied image with face to ../Data/processed/dataset2_processed/train/sad/394617911.jpg\n",
      "Copied image with face to ../Data/processed/dataset2_processed/train/sad/39843138-sad-man.jpg\n"
     ]
    },
    {
     "name": "stderr",
     "output_type": "stream",
     "text": [
      "Processing files in ../Data/processed/dataset2/train/sad:  11%|█         | 82/744 [00:10<01:03, 10.42it/s]"
     ]
    },
    {
     "name": "stdout",
     "output_type": "stream",
     "text": [
      "Copied image with face to ../Data/processed/dataset2_processed/train/sad/41C6FREK7L._AC_UF10001000_QL80_.jpg\n",
      "No faces found in image: ../Data/processed/dataset2/train/sad/41exSqY4XRL._AC_UF8941000_QL80_.jpg\n",
      "No faces found in image: ../Data/processed/dataset2/train/sad/4445558459_61ea26594d_b.jpg\n",
      "Copied image with face to ../Data/processed/dataset2_processed/train/sad/457_neha111.jpg\n"
     ]
    },
    {
     "name": "stderr",
     "output_type": "stream",
     "text": [
      "Processing files in ../Data/processed/dataset2/train/sad:  11%|█▏        | 84/744 [00:10<01:15,  8.69it/s]"
     ]
    },
    {
     "name": "stdout",
     "output_type": "stream",
     "text": [
      "Copied image with face to ../Data/processed/dataset2_processed/train/sad/46325c4e9b5d77880252324bb818f400.jpg\n",
      "Copied image with face to ../Data/processed/dataset2_processed/train/sad/465259015.jpg\n",
      "Copied image with face to ../Data/processed/dataset2_processed/train/sad/4nekvlo8_indian-fans-afp_625x300_20_November_23.jpg\n"
     ]
    },
    {
     "name": "stderr",
     "output_type": "stream",
     "text": [
      "Processing files in ../Data/processed/dataset2/train/sad:  12%|█▏        | 86/744 [00:12<03:48,  2.89it/s]"
     ]
    },
    {
     "name": "stdout",
     "output_type": "stream",
     "text": [
      "Copied image with face to ../Data/processed/dataset2_processed/train/sad/4v5oy6vja7x51.jpg\n"
     ]
    },
    {
     "name": "stderr",
     "output_type": "stream",
     "text": [
      "Processing files in ../Data/processed/dataset2/train/sad:  12%|█▏        | 88/744 [00:12<03:16,  3.34it/s]"
     ]
    },
    {
     "name": "stdout",
     "output_type": "stream",
     "text": [
      "Copied image with face to ../Data/processed/dataset2_processed/train/sad/5466870-Luis-Gonzalez-Quote-Face-to-me-is-a-metaphor-of-sadness-And-I-want.jpg\n",
      "Copied image with face to ../Data/processed/dataset2_processed/train/sad/5511c08551cf415d69e469bd7f177b78.jpg\n"
     ]
    },
    {
     "name": "stderr",
     "output_type": "stream",
     "text": [
      "Processing files in ../Data/processed/dataset2/train/sad:  12%|█▏        | 89/744 [00:12<02:50,  3.83it/s]"
     ]
    },
    {
     "name": "stdout",
     "output_type": "stream",
     "text": [
      "No faces found in image: ../Data/processed/dataset2/train/sad/568483d7866dc671121abba6321b0595.jpg\n",
      "Copied image with face to ../Data/processed/dataset2_processed/train/sad/5b83863fae4b93fa1636b46a4a50c9e8.jpg\n"
     ]
    },
    {
     "name": "stderr",
     "output_type": "stream",
     "text": [
      "Processing files in ../Data/processed/dataset2/train/sad:  12%|█▏        | 92/744 [00:13<02:06,  5.17it/s]"
     ]
    },
    {
     "name": "stdout",
     "output_type": "stream",
     "text": [
      "No faces found in image: ../Data/processed/dataset2/train/sad/5rhwctdq7tec1.png\n",
      "No faces found in image: ../Data/processed/dataset2/train/sad/63380415-sad-girl-crying-covering-her-face-monochrome.jpg\n",
      "No faces found in image: ../Data/processed/dataset2/train/sad/64-643290_face-of-sad-man-sad-man-cartoon.png\n"
     ]
    },
    {
     "name": "stderr",
     "output_type": "stream",
     "text": [
      "Processing files in ../Data/processed/dataset2/train/sad:  13%|█▎        | 95/744 [00:13<01:38,  6.62it/s]"
     ]
    },
    {
     "name": "stdout",
     "output_type": "stream",
     "text": [
      "No faces found in image: ../Data/processed/dataset2/train/sad/648627-lonely-mood-sad-alone-sadness-emotion-people-loneliness-solitude-sorrow-blonde-girl-face.jpg\n",
      "Copied image with face to ../Data/processed/dataset2_processed/train/sad/69fb3ca4-8835-458a-a9fe-572c2a1b89c6.jpg\n",
      "No faces found in image: ../Data/processed/dataset2/train/sad/6cp5abLgi.jpg\n"
     ]
    },
    {
     "name": "stderr",
     "output_type": "stream",
     "text": [
      "Processing files in ../Data/processed/dataset2/train/sad:  13%|█▎        | 97/744 [00:13<01:17,  8.35it/s]"
     ]
    },
    {
     "name": "stdout",
     "output_type": "stream",
     "text": [
      "No faces found in image: ../Data/processed/dataset2/train/sad/70448604-man-s-face-showing-happy-and-sad-emotions-against-grey-background.jpg\n",
      "No faces found in image: ../Data/processed/dataset2/train/sad/732x549_THUMBNAIL_Benefits_Of_Crying.jpg\n"
     ]
    },
    {
     "name": "stderr",
     "output_type": "stream",
     "text": [
      "Processing files in ../Data/processed/dataset2/train/sad:  14%|█▎        | 101/744 [00:13<01:07,  9.57it/s]"
     ]
    },
    {
     "name": "stdout",
     "output_type": "stream",
     "text": [
      "Copied image with face to ../Data/processed/dataset2_processed/train/sad/795691c8756baa297f16f55af7fe5933.jpg\n",
      "No faces found in image: ../Data/processed/dataset2/train/sad/7RNXwSxCAKL8vGtXG2ZkyD-1200-80.jpg\n",
      "Copied image with face to ../Data/processed/dataset2_processed/train/sad/800px-Crying-girl.jpg\n"
     ]
    },
    {
     "name": "stderr",
     "output_type": "stream",
     "text": [
      "Processing files in ../Data/processed/dataset2/train/sad:  14%|█▍        | 103/744 [00:14<01:27,  7.29it/s]"
     ]
    },
    {
     "name": "stdout",
     "output_type": "stream",
     "text": [
      "Copied image with face to ../Data/processed/dataset2_processed/train/sad/80343997-set-of-diversity-people-sad-face-expression-emotion-studio-collage.jpg\n",
      "Copied image with face to ../Data/processed/dataset2_processed/train/sad/80704436-set-of-diversity-people-sad-face-expression-emotion-studio-collage.jpg\n"
     ]
    },
    {
     "name": "stderr",
     "output_type": "stream",
     "text": [
      "Processing files in ../Data/processed/dataset2/train/sad:  14%|█▍        | 105/744 [00:14<01:31,  7.01it/s]"
     ]
    },
    {
     "name": "stdout",
     "output_type": "stream",
     "text": [
      "Copied image with face to ../Data/processed/dataset2_processed/train/sad/81839342-set-of-diversity-people-sad-face-expression-emotion-studio-collage.jpg\n",
      "Copied image with face to ../Data/processed/dataset2_processed/train/sad/84502259-sad-face-of-young-guy-close-up-of-man-crying-with-tears.jpg\n"
     ]
    },
    {
     "name": "stderr",
     "output_type": "stream",
     "text": [
      "Processing files in ../Data/processed/dataset2/train/sad:  14%|█▍        | 107/744 [00:14<01:29,  7.11it/s]"
     ]
    },
    {
     "name": "stdout",
     "output_type": "stream",
     "text": [
      "Copied image with face to ../Data/processed/dataset2_processed/train/sad/8573974735_23968338d1_b.jpg\n",
      "Copied image with face to ../Data/processed/dataset2_processed/train/sad/87b70-17196863910707-1920.jpg\n"
     ]
    },
    {
     "name": "stderr",
     "output_type": "stream",
     "text": [
      "Processing files in ../Data/processed/dataset2/train/sad:  15%|█▍        | 109/744 [00:15<01:21,  7.78it/s]"
     ]
    },
    {
     "name": "stdout",
     "output_type": "stream",
     "text": [
      "No faces found in image: ../Data/processed/dataset2/train/sad/8e846ebaeeca47c1bc520ac41bcf8a48.jpeg\n",
      "Copied image with face to ../Data/processed/dataset2_processed/train/sad/8fd15c3f09615bebd75f2b6f21b69884.jpg\n"
     ]
    },
    {
     "name": "stderr",
     "output_type": "stream",
     "text": [
      "Processing files in ../Data/processed/dataset2/train/sad:  15%|█▌        | 112/744 [00:15<01:09,  9.07it/s]"
     ]
    },
    {
     "name": "stdout",
     "output_type": "stream",
     "text": [
      "Copied image with face to ../Data/processed/dataset2_processed/train/sad/94348312-scared-sad-girl-cover-her-face-on-white-background.jpg\n",
      "Copied image with face to ../Data/processed/dataset2_processed/train/sad/960x0.jpg\n",
      "No faces found in image: ../Data/processed/dataset2/train/sad/97139852.jpg\n"
     ]
    },
    {
     "name": "stderr",
     "output_type": "stream",
     "text": [
      "Processing files in ../Data/processed/dataset2/train/sad:  15%|█▌        | 115/744 [00:15<01:08,  9.13it/s]"
     ]
    },
    {
     "name": "stdout",
     "output_type": "stream",
     "text": [
      "Copied image with face to ../Data/processed/dataset2_processed/train/sad/986145e302b8059dfecc4bbf3b3fbe7c.jpg\n",
      "No faces found in image: ../Data/processed/dataset2/train/sad/99770855-side-view-sad-man-having-many-freckles-on-face-copy-space-sorrowful-guy-concept.jpg\n",
      "Copied image with face to ../Data/processed/dataset2_processed/train/sad/9df61a.jpg\n"
     ]
    },
    {
     "name": "stderr",
     "output_type": "stream",
     "text": [
      "Processing files in ../Data/processed/dataset2/train/sad:  16%|█▌        | 117/744 [00:16<01:17,  8.12it/s]"
     ]
    },
    {
     "name": "stdout",
     "output_type": "stream",
     "text": [
      "Copied image with face to ../Data/processed/dataset2_processed/train/sad/a-pretty-cute-indian-girl-child-with-confused-or-sad-face-isolated-on-white-background-2G7R409.jpg\n",
      "Copied image with face to ../Data/processed/dataset2_processed/train/sad/a-vertical-shot-of-an-indian-lady-with-a-sad-and-disappointed-face-expression-2GJXH0B.jpg\n"
     ]
    },
    {
     "name": "stderr",
     "output_type": "stream",
     "text": [
      "Processing files in ../Data/processed/dataset2/train/sad:  16%|█▌        | 119/744 [00:16<01:29,  6.98it/s]"
     ]
    },
    {
     "name": "stdout",
     "output_type": "stream",
     "text": [
      "Copied image with face to ../Data/processed/dataset2_processed/train/sad/a700561f18f8da1a6336167c441b0cab.jpg\n",
      "Copied image with face to ../Data/processed/dataset2_processed/train/sad/ad-and-frustrated-with-trauma-broken-heart-or-challenge-of-brain-fog-zoom_90.jpg\n"
     ]
    },
    {
     "name": "stderr",
     "output_type": "stream",
     "text": [
      "Processing files in ../Data/processed/dataset2/train/sad:  16%|█▋        | 121/744 [00:16<01:36,  6.45it/s]"
     ]
    },
    {
     "name": "stdout",
     "output_type": "stream",
     "text": [
      "Copied image with face to ../Data/processed/dataset2_processed/train/sad/ad-expression-covering-face-with-hands-while-crying-depression-concept-photo.jpg\n",
      "No faces found in image: ../Data/processed/dataset2/train/sad/AdobeStock_250158647_MediumRes-scaled.jpg\n",
      "No faces found in image: ../Data/processed/dataset2/train/sad/af68c69e9476a5c595e342df0c7fd00f.jpg\n"
     ]
    },
    {
     "name": "stderr",
     "output_type": "stream",
     "text": [
      "Processing files in ../Data/processed/dataset2/train/sad:  17%|█▋        | 124/744 [00:17<01:25,  7.26it/s]"
     ]
    },
    {
     "name": "stdout",
     "output_type": "stream",
     "text": [
      "No faces found in image: ../Data/processed/dataset2/train/sad/ai-generated-8751454_1280.png\n",
      "No faces found in image: ../Data/processed/dataset2/train/sad/ai-generated-8757430_1280.jpg\n"
     ]
    },
    {
     "name": "stderr",
     "output_type": "stream",
     "text": [
      "Processing files in ../Data/processed/dataset2/train/sad:  17%|█▋        | 125/744 [00:17<01:25,  7.20it/s]"
     ]
    },
    {
     "name": "stdout",
     "output_type": "stream",
     "text": [
      "Copied image with face to ../Data/processed/dataset2_processed/train/sad/ait-of-handsome-young-man-crying-suffering-from-depression-looking-miserable.jpg\n",
      "No faces found in image: ../Data/processed/dataset2/train/sad/album_alb4307130.jpg\n"
     ]
    },
    {
     "name": "stderr",
     "output_type": "stream",
     "text": [
      "Processing files in ../Data/processed/dataset2/train/sad:  17%|█▋        | 128/744 [00:17<01:37,  6.35it/s]"
     ]
    },
    {
     "name": "stdout",
     "output_type": "stream",
     "text": [
      "Copied image with face to ../Data/processed/dataset2_processed/train/sad/an-positions-photo-shoot-art-model-organ-vulnerable-sorrow-depression-515491.jpg\n",
      "Copied image with face to ../Data/processed/dataset2_processed/train/sad/and-drops-flow-down-the-glass-face-of-a-sad-girl-close-up-ai-generated-photo.jpg\n"
     ]
    },
    {
     "name": "stderr",
     "output_type": "stream",
     "text": [
      "Processing files in ../Data/processed/dataset2/train/sad:  17%|█▋        | 129/744 [00:18<01:33,  6.60it/s]"
     ]
    },
    {
     "name": "stdout",
     "output_type": "stream",
     "text": [
      "Copied image with face to ../Data/processed/dataset2_processed/train/sad/angry-sad-or-worried-looking-senior-indian-man-face-portrait-on-white-background-2C7XXGF.jpg\n",
      "No faces found in image: ../Data/processed/dataset2/train/sad/appy-mood-mask-hiding-real-emotion-and-pretend-psychology-concept-1408329476.jpg\n",
      "No faces found in image: ../Data/processed/dataset2/train/sad/arries-too-much-an-unrecognisable-woman-feeling-depressed-and-crying-2JGB5YB.jpg\n",
      "Copied image with face to ../Data/processed/dataset2_processed/train/sad/art-phone-concept-of-personal-problems-financial-loses-business-fall-2PXB8CX.jpg\n",
      "No faces found in image: ../Data/processed/dataset2/train/sad/ashutosh7591.jpg\n",
      "Copied image with face to ../Data/processed/dataset2_processed/train/sad/baby-tears-small-child-sad-47090.jpeg\n",
      "Copied image with face to ../Data/processed/dataset2_processed/train/sad/beautiful-face-sad-woman-crying-600nw-1747414049.jpg\n",
      "Copied image with face to ../Data/processed/dataset2_processed/train/sad/beautiful-girl-sad-green-eyes-frowning-face-little-sad-girl-crying-201904233.jpg\n",
      "No faces found in image: ../Data/processed/dataset2/train/sad/beautiful-indian-woman-saree-isolated-white-background-crying-222889571.jpg\n",
      "No faces found in image: ../Data/processed/dataset2/train/sad/beauty-girl-cry-260nw-108916919.jpg\n",
      "Copied image with face to ../Data/processed/dataset2_processed/train/sad/c0c928bf20060b4249c612e8ef8bfbf1.jpg\n",
      "Copied image with face to ../Data/processed/dataset2_processed/train/sad/c709efa402bc4bc7a177df60a6a250b9.jpeg\n",
      "No faces found in image: ../Data/processed/dataset2/train/sad/ca3aa10081c62e02e2233931ace10cb7.jpg\n",
      "No faces found in image: ../Data/processed/dataset2/train/sad/cartoon-face-cry-sad-upset-emoji-people-vector-33127193.jpg\n",
      "Copied image with face to ../Data/processed/dataset2_processed/train/sad/ce-young-hides-eyes-hands-guy-alone-going-concept-depression-grief-105049938.jpg\n",
      "No faces found in image: ../Data/processed/dataset2/train/sad/chrome-portrait-african-american-upset-crying-woman-alone-shower_305419-6883.jpg\n",
      "Copied image with face to ../Data/processed/dataset2_processed/train/sad/closeup-portrait-of-girls-half-face-with-sad-bored-expression-S1XEBF.jpg\n",
      "Copied image with face to ../Data/processed/dataset2_processed/train/sad/crying-3-month-baby-boy-600nw-2387469615.jpg\n"
     ]
    },
    {
     "name": "stderr",
     "output_type": "stream",
     "text": [
      "Processing files in ../Data/processed/dataset2/train/sad:  20%|██        | 149/744 [00:18<00:13, 42.63it/s]"
     ]
    },
    {
     "name": "stdout",
     "output_type": "stream",
     "text": [
      "No faces found in image: ../Data/processed/dataset2/train/sad/crying-face-emoticon-W6XP1R.jpg\n",
      "No faces found in image: ../Data/processed/dataset2/train/sad/Crying.jpg\n",
      "No faces found in image: ../Data/processed/dataset2/train/sad/Crying2520girl2520makeup2520trend.jpg\n",
      "No faces found in image: ../Data/processed/dataset2/train/sad/cute-little-girl-with-sad-face-illustration-in-cartoon-style-vector.jpg\n",
      "No faces found in image: ../Data/processed/dataset2/train/sad/d-expression-covering-face-hands-crying-hispanic-man-beard-wearing-318978279.jpg\n",
      "No faces found in image: ../Data/processed/dataset2/train/sad/d-expression-covering-face-with-hands-while-crying-depression-concept-R5YN1X.jpg\n",
      "No faces found in image: ../Data/processed/dataset2/train/sad/d-sadness-man-holding-smile-face-pendulum-ball-to-hit-other-sad-faces-vector.jpg\n",
      "No faces found in image: ../Data/processed/dataset2/train/sad/d-sadness-man-holding-smile-face-pendulum-ball-to-hit-other-sad-faces-vector2.jpg\n"
     ]
    },
    {
     "name": "stderr",
     "output_type": "stream",
     "text": [
      "Processing files in ../Data/processed/dataset2/train/sad:  21%|██        | 155/744 [00:18<00:30, 19.49it/s]"
     ]
    },
    {
     "name": "stdout",
     "output_type": "stream",
     "text": [
      "Copied image with face to ../Data/processed/dataset2_processed/train/sad/d-skin-beauty-joy-laughter-emotion-portrait-photography-african-child-626571.jpg\n",
      "Copied image with face to ../Data/processed/dataset2_processed/train/sad/d-woman-crying-useful-to-illustrate-stress-depression-or-domestic-2333822385.jpg\n",
      "Copied image with face to ../Data/processed/dataset2_processed/train/sad/d-young-woman-resting-face-on-fist-feeling-depressed-about-something-2C74FAC.jpg\n",
      "No faces found in image: ../Data/processed/dataset2/train/sad/d4d6b9a676ba364c8976dd74d5f86616.jpg\n"
     ]
    },
    {
     "name": "stderr",
     "output_type": "stream",
     "text": [
      "Processing files in ../Data/processed/dataset2/train/sad:  22%|██▏       | 160/744 [00:19<00:42, 13.77it/s]"
     ]
    },
    {
     "name": "stdout",
     "output_type": "stream",
     "text": [
      "No faces found in image: ../Data/processed/dataset2/train/sad/dc9X5bodi.jpg\n",
      "Copied image with face to ../Data/processed/dataset2_processed/train/sad/depositphotos_135218856-stock-photo-editorial-illustrative-image-portrait-of.jpg\n",
      "Copied image with face to ../Data/processed/dataset2_processed/train/sad/depositphotos_275422920-stock-photo-closeup-shot-sad-expression-of.jpg\n",
      "Copied image with face to ../Data/processed/dataset2_processed/train/sad/depositphotos_291061284-stock-photo-beautiful-sad-girl-hands-face.jpg\n"
     ]
    },
    {
     "name": "stderr",
     "output_type": "stream",
     "text": [
      "Processing files in ../Data/processed/dataset2/train/sad:  22%|██▏       | 164/744 [00:20<00:51, 11.25it/s]"
     ]
    },
    {
     "name": "stdout",
     "output_type": "stream",
     "text": [
      "No faces found in image: ../Data/processed/dataset2/train/sad/depositphotos_321557500-stock-photo-young-indian-man-wearing-casual.jpg\n",
      "Copied image with face to ../Data/processed/dataset2_processed/train/sad/depositphotos_349939604-stock-photo-sad-face-depressed-elderly-african.jpg\n"
     ]
    },
    {
     "name": "stderr",
     "output_type": "stream",
     "text": [
      "Processing files in ../Data/processed/dataset2/train/sad:  22%|██▏       | 167/744 [00:20<00:48, 11.89it/s]"
     ]
    },
    {
     "name": "stdout",
     "output_type": "stream",
     "text": [
      "No faces found in image: ../Data/processed/dataset2/train/sad/depositphotos_546603118-stock-photo-sad-indian-woman-crying-white.jpg\n",
      "No faces found in image: ../Data/processed/dataset2/train/sad/depositphotos_60545285-stock-photo-profile-of-a-sad-man.jpg\n",
      "Copied image with face to ../Data/processed/dataset2_processed/train/sad/depressed-frustrated-young-indian-woman-260nw-2184679453.jpg\n",
      "No faces found in image: ../Data/processed/dataset2/train/sad/depressed-man-crying-side-view_23-2149699062.jpg\n"
     ]
    },
    {
     "name": "stderr",
     "output_type": "stream",
     "text": [
      "Processing files in ../Data/processed/dataset2/train/sad:  23%|██▎       | 170/744 [00:20<00:48, 11.93it/s]"
     ]
    },
    {
     "name": "stdout",
     "output_type": "stream",
     "text": [
      "Copied image with face to ../Data/processed/dataset2_processed/train/sad/depressed-man-with-problems-holding-hand-over-his-face-and-crying-EF7X3K.jpg\n",
      "No faces found in image: ../Data/processed/dataset2/train/sad/depressed-person-sitting-alone-bench_23-2150761466.jpg\n",
      "No faces found in image: ../Data/processed/dataset2/train/sad/depressed-person-standing-alone-bench_23-2150761438.jpg\n"
     ]
    },
    {
     "name": "stderr",
     "output_type": "stream",
     "text": [
      "Processing files in ../Data/processed/dataset2/train/sad:  24%|██▎       | 175/744 [00:20<00:42, 13.43it/s]"
     ]
    },
    {
     "name": "stdout",
     "output_type": "stream",
     "text": [
      "Copied image with face to ../Data/processed/dataset2_processed/train/sad/depressed-women-hand-cover-the-crying-face-human-rights-day-concept-2DH7FFN.jpg\n",
      "Copied image with face to ../Data/processed/dataset2_processed/train/sad/depression-759.jpg\n",
      "No faces found in image: ../Data/processed/dataset2/train/sad/depression-domestic-violence-concept-black-260nw-1937928517.jpg\n",
      "No faces found in image: ../Data/processed/dataset2/train/sad/dering-frustrated-man-expressing-no-idea-white-people-man-character-60484638.jpg\n"
     ]
    },
    {
     "name": "stderr",
     "output_type": "stream",
     "text": [
      "Processing files in ../Data/processed/dataset2/train/sad:  24%|██▍       | 177/744 [00:21<00:46, 12.18it/s]"
     ]
    },
    {
     "name": "stdout",
     "output_type": "stream",
     "text": [
      "Copied image with face to ../Data/processed/dataset2_processed/train/sad/desktop-wallpaper-depression-sad-mood-sorrow-dark-people-sad-man-in-the-dark-sad-men.jpg\n",
      "Copied image with face to ../Data/processed/dataset2_processed/train/sad/desktop-wallpaper-girl-shadow-sad-face-eyes-data-src.jpg\n",
      "No faces found in image: ../Data/processed/dataset2/train/sad/desktop-wallpaper-lonely-mood-sad-alone-sadness-emotion-people-loneliness-solitude-sad-alone-man.jpg\n"
     ]
    },
    {
     "name": "stderr",
     "output_type": "stream",
     "text": [
      "Processing files in ../Data/processed/dataset2/train/sad:  24%|██▍       | 179/744 [00:21<00:44, 12.60it/s]"
     ]
    },
    {
     "name": "stdout",
     "output_type": "stream",
     "text": [
      "No faces found in image: ../Data/processed/dataset2/train/sad/df5d534e4e4972adc7e2ca8cde04c79b.jpg\n",
      "Copied image with face to ../Data/processed/dataset2_processed/train/sad/dramatic-black-and-white-portrait-of-an-adult-man-with-sad-expression-EMC4FM.jpg\n"
     ]
    },
    {
     "name": "stderr",
     "output_type": "stream",
     "text": [
      "Processing files in ../Data/processed/dataset2/train/sad:  25%|██▍       | 183/744 [00:21<00:48, 11.66it/s]"
     ]
    },
    {
     "name": "stdout",
     "output_type": "stream",
     "text": [
      "No faces found in image: ../Data/processed/dataset2/train/sad/drawings-for-sad-people-failureshop-fb7.png\n",
      "No faces found in image: ../Data/processed/dataset2/train/sad/e-girl-face-with-tear-on-the-cheek-concept-of-child-rights-and-abuse-2BXPD55.jpg\n",
      "No faces found in image: ../Data/processed/dataset2/train/sad/e-mood-emotion-status-depression-george-sense-monochrome-photography-1023365.jpg\n"
     ]
    },
    {
     "name": "stderr",
     "output_type": "stream",
     "text": [
      "Processing files in ../Data/processed/dataset2/train/sad:  25%|██▍       | 185/744 [00:21<00:48, 11.60it/s]"
     ]
    },
    {
     "name": "stdout",
     "output_type": "stream",
     "text": [
      "Copied image with face to ../Data/processed/dataset2_processed/train/sad/e4ca00aa1ecd38faf011555cd75d6628.jpg\n",
      "Copied image with face to ../Data/processed/dataset2_processed/train/sad/ed-emoji-depression-mental-health-crisis-emotional-background-male-321305926.jpg\n"
     ]
    },
    {
     "name": "stderr",
     "output_type": "stream",
     "text": [
      "Processing files in ../Data/processed/dataset2/train/sad:  25%|██▌       | 187/744 [00:22<00:57,  9.67it/s]"
     ]
    },
    {
     "name": "stdout",
     "output_type": "stream",
     "text": [
      "Copied image with face to ../Data/processed/dataset2_processed/train/sad/emotions-young-sad-man-looking-at-camera-sad-face-KCWAXP.jpg\n",
      "Copied image with face to ../Data/processed/dataset2_processed/train/sad/ession-face-close-up-in-outdoor-park-one-adult-mature-male-people-2366698027.jpg\n"
     ]
    },
    {
     "name": "stderr",
     "output_type": "stream",
     "text": [
      "Processing files in ../Data/processed/dataset2/train/sad:  25%|██▌       | 189/744 [00:22<01:00,  9.12it/s]"
     ]
    },
    {
     "name": "stdout",
     "output_type": "stream",
     "text": [
      "No faces found in image: ../Data/processed/dataset2/train/sad/ession-on-a-toddler-face-cute-little-woman-collection-with-brown-eyes-vector.jpg\n",
      "Copied image with face to ../Data/processed/dataset2_processed/train/sad/essions-young-adult-man-pain-depression-sad-exhausted-face-looking-152139399.jpg\n"
     ]
    },
    {
     "name": "stderr",
     "output_type": "stream",
     "text": [
      "Processing files in ../Data/processed/dataset2/train/sad:  26%|██▌       | 191/744 [00:22<01:00,  9.12it/s]"
     ]
    },
    {
     "name": "stdout",
     "output_type": "stream",
     "text": [
      "No faces found in image: ../Data/processed/dataset2/train/sad/eye-crying-two-tears.jpg\n",
      "Copied image with face to ../Data/processed/dataset2_processed/train/sad/f-poor-sad-depressed-young-woman-begging-for-help-and-going-to-cry-342002954.jpg\n"
     ]
    },
    {
     "name": "stderr",
     "output_type": "stream",
     "text": [
      "Processing files in ../Data/processed/dataset2/train/sad:  26%|██▌       | 193/744 [00:22<01:09,  7.89it/s]"
     ]
    },
    {
     "name": "stdout",
     "output_type": "stream",
     "text": [
      "No faces found in image: ../Data/processed/dataset2/train/sad/f7ca50655686816d2f93997de1ea90f1.jpg\n",
      "Copied image with face to ../Data/processed/dataset2_processed/train/sad/fa-look-out-window-thinking-personal-troubles-does-not-see-way-out-199262301.jpg\n"
     ]
    },
    {
     "name": "stderr",
     "output_type": "stream",
     "text": [
      "Processing files in ../Data/processed/dataset2/train/sad:  26%|██▌       | 195/744 [00:23<01:07,  8.10it/s]"
     ]
    },
    {
     "name": "stdout",
     "output_type": "stream",
     "text": [
      "Copied image with face to ../Data/processed/dataset2_processed/train/sad/face-and-normal-content-expression-black-and-white-simple-cartoon-1466566184.jpg\n",
      "Copied image with face to ../Data/processed/dataset2_processed/train/sad/face-expression-of-a-woman-sad-unhappy-female-vector-18544547.jpg\n"
     ]
    },
    {
     "name": "stderr",
     "output_type": "stream",
     "text": [
      "Processing files in ../Data/processed/dataset2/train/sad:  26%|██▋       | 196/744 [00:23<01:15,  7.27it/s]"
     ]
    },
    {
     "name": "stdout",
     "output_type": "stream",
     "text": [
      "Copied image with face to ../Data/processed/dataset2_processed/train/sad/face-sad-man-13544024.jpg\n"
     ]
    },
    {
     "name": "stderr",
     "output_type": "stream",
     "text": [
      "Processing files in ../Data/processed/dataset2/train/sad:  27%|██▋       | 198/744 [00:23<01:28,  6.19it/s]"
     ]
    },
    {
     "name": "stdout",
     "output_type": "stream",
     "text": [
      "Copied image with face to ../Data/processed/dataset2_processed/train/sad/face-stressed-young-indian-businesswoman-looking-sad-crying-portrait-beautiful-indoors-188857152.jpg\n",
      "Copied image with face to ../Data/processed/dataset2_processed/train/sad/face-young-sad-man-isolated-white-background-95444033.jpg\n"
     ]
    },
    {
     "name": "stderr",
     "output_type": "stream",
     "text": [
      "Processing files in ../Data/processed/dataset2/train/sad:  27%|██▋       | 201/744 [00:25<03:41,  2.45it/s]"
     ]
    },
    {
     "name": "stdout",
     "output_type": "stream",
     "text": [
      "Copied image with face to ../Data/processed/dataset2_processed/train/sad/free-photo-of-portrait-of-a-sad-elderly-woman.jpeg\n",
      "No faces found in image: ../Data/processed/dataset2/train/sad/front-view-sad-arfo-american-man_23-2148398423.jpg\n",
      "Copied image with face to ../Data/processed/dataset2_processed/train/sad/g-official-style-suit-indoor-studio-shot-isolated-on-gray-background-2JCW9E9.jpg\n"
     ]
    },
    {
     "name": "stderr",
     "output_type": "stream",
     "text": [
      "Processing files in ../Data/processed/dataset2/train/sad:  27%|██▋       | 204/744 [00:26<02:12,  4.08it/s]"
     ]
    },
    {
     "name": "stdout",
     "output_type": "stream",
     "text": [
      "No faces found in image: ../Data/processed/dataset2/train/sad/g-over-isolated-pink-background-sad-expression-covering-face-hands-228194171.jpg\n",
      "No faces found in image: ../Data/processed/dataset2/train/sad/getty_91745128_333755.jpg\n",
      "Copied image with face to ../Data/processed/dataset2_processed/train/sad/girl-297400_1280.png\n"
     ]
    },
    {
     "name": "stderr",
     "output_type": "stream",
     "text": [
      "Processing files in ../Data/processed/dataset2/train/sad:  28%|██▊       | 206/744 [00:26<01:36,  5.59it/s]"
     ]
    },
    {
     "name": "stdout",
     "output_type": "stream",
     "text": [
      "No faces found in image: ../Data/processed/dataset2/train/sad/girl-308981_1280.png\n",
      "No faces found in image: ../Data/processed/dataset2/train/sad/girl-7735588_1280.jpg\n"
     ]
    },
    {
     "name": "stderr",
     "output_type": "stream",
     "text": [
      "Processing files in ../Data/processed/dataset2/train/sad:  28%|██▊       | 208/744 [00:26<01:25,  6.29it/s]"
     ]
    },
    {
     "name": "stdout",
     "output_type": "stream",
     "text": [
      "Copied image with face to ../Data/processed/dataset2_processed/train/sad/girl-sad-face-cartoon-cute-png.png\n",
      "No faces found in image: ../Data/processed/dataset2/train/sad/girl-woman-indian-covering-face-depression-hand-her-head-supported-120597967.jpg\n"
     ]
    },
    {
     "name": "stderr",
     "output_type": "stream",
     "text": [
      "Processing files in ../Data/processed/dataset2/train/sad:  28%|██▊       | 209/744 [00:26<01:21,  6.55it/s]"
     ]
    },
    {
     "name": "stdout",
     "output_type": "stream",
     "text": [
      "Copied image with face to ../Data/processed/dataset2_processed/train/sad/gratis-png-cara-de-hombre-con-la-boca-abierta-dolor-testicular-cara-gritando-tristeza-cara.png\n"
     ]
    },
    {
     "name": "stderr",
     "output_type": "stream",
     "text": [
      "Processing files in ../Data/processed/dataset2/train/sad:  28%|██▊       | 212/744 [00:27<01:18,  6.80it/s]"
     ]
    },
    {
     "name": "stdout",
     "output_type": "stream",
     "text": [
      "Copied image with face to ../Data/processed/dataset2_processed/train/sad/grief-adult-depression-unhappy-depressed-worried-headache-vision-care-863146.jpg\n",
      "Copied image with face to ../Data/processed/dataset2_processed/train/sad/group-sad-people-men-women-different-nationalities-stress-panic_542399-1897.jpg\n",
      "Copied image with face to ../Data/processed/dataset2_processed/train/sad/group-stressful-university-students-waiting-260nw-481536121.jpg\n"
     ]
    },
    {
     "name": "stderr",
     "output_type": "stream",
     "text": [
      "Processing files in ../Data/processed/dataset2/train/sad:  29%|██▉       | 214/744 [00:27<01:24,  6.27it/s]"
     ]
    },
    {
     "name": "stdout",
     "output_type": "stream",
     "text": [
      "Copied image with face to ../Data/processed/dataset2_processed/train/sad/HD-wallpaper-do-not-speak-alone-face-woman-butterfly-sad.jpg\n",
      "Copied image with face to ../Data/processed/dataset2_processed/train/sad/HD-wallpaper-love-lost-girl-art-cry-drawings-face-hurt-people-sad-sayings-tears-woman.jpg\n"
     ]
    },
    {
     "name": "stderr",
     "output_type": "stream",
     "text": [
      "Processing files in ../Data/processed/dataset2/train/sad:  29%|██▉       | 216/744 [00:27<01:20,  6.58it/s]"
     ]
    },
    {
     "name": "stdout",
     "output_type": "stream",
     "text": [
      "Copied image with face to ../Data/processed/dataset2_processed/train/sad/HD-wallpaper-sad-woman-black-black-and-white-bw-face-female-portrait-red-lips-sad-woman.jpg\n",
      "Copied image with face to ../Data/processed/dataset2_processed/train/sad/hq720.jpg\n",
      "No faces found in image: ../Data/processed/dataset2/train/sad/I-Make-Drawings-For-Sad-People-6578720633794__700.jpg\n"
     ]
    },
    {
     "name": "stderr",
     "output_type": "stream",
     "text": [
      "Processing files in ../Data/processed/dataset2/train/sad:  29%|██▉       | 218/744 [00:27<01:03,  8.31it/s]"
     ]
    },
    {
     "name": "stdout",
     "output_type": "stream",
     "text": [
      "Copied image with face to ../Data/processed/dataset2_processed/train/sad/ice-worker-or-student-standing-with-surprised-face-isolated-on-white-2EC4YC5.jpg\n"
     ]
    },
    {
     "name": "stderr",
     "output_type": "stream",
     "text": [
      "Processing files in ../Data/processed/dataset2/train/sad:  30%|██▉       | 220/744 [00:28<01:08,  7.62it/s]"
     ]
    },
    {
     "name": "stdout",
     "output_type": "stream",
     "text": [
      "Copied image with face to ../Data/processed/dataset2_processed/train/sad/igued-business-worried-dragging-face-down-hands-isolated-black-grey-48015968.jpg\n",
      "Copied image with face to ../Data/processed/dataset2_processed/train/sad/Illustration-of-crying-indian-old-man-4-Large.jpg\n",
      "No faces found in image: ../Data/processed/dataset2/train/sad/il_570xN.3706181722_gicw.jpg\n"
     ]
    },
    {
     "name": "stderr",
     "output_type": "stream",
     "text": [
      "Processing files in ../Data/processed/dataset2/train/sad:  30%|███       | 225/744 [00:28<00:35, 14.55it/s]"
     ]
    },
    {
     "name": "stdout",
     "output_type": "stream",
     "text": [
      "Copied image with face to ../Data/processed/dataset2_processed/train/sad/image-sad-office-girl-asian-260nw-2122701080.jpg\n",
      "No faces found in image: ../Data/processed/dataset2/train/sad/image16.jpeg\n",
      "Copied image with face to ../Data/processed/dataset2_processed/train/sad/image18.jpeg\n",
      "No faces found in image: ../Data/processed/dataset2/train/sad/image21.jpeg\n",
      "Copied image with face to ../Data/processed/dataset2_processed/train/sad/image24.jpeg\n"
     ]
    },
    {
     "name": "stderr",
     "output_type": "stream",
     "text": [
      "Processing files in ../Data/processed/dataset2/train/sad:  31%|███       | 229/744 [00:28<00:36, 14.06it/s]"
     ]
    },
    {
     "name": "stdout",
     "output_type": "stream",
     "text": [
      "Copied image with face to ../Data/processed/dataset2_processed/train/sad/image32.jpeg\n",
      "Copied image with face to ../Data/processed/dataset2_processed/train/sad/image34.jpeg\n",
      "Copied image with face to ../Data/processed/dataset2_processed/train/sad/image37.jpeg\n"
     ]
    },
    {
     "name": "stderr",
     "output_type": "stream",
     "text": [
      "Processing files in ../Data/processed/dataset2/train/sad:  32%|███▏      | 235/744 [00:29<00:27, 18.62it/s]"
     ]
    },
    {
     "name": "stdout",
     "output_type": "stream",
     "text": [
      "Copied image with face to ../Data/processed/dataset2_processed/train/sad/image39.jpeg\n",
      "No faces found in image: ../Data/processed/dataset2/train/sad/image42.jpeg\n",
      "Copied image with face to ../Data/processed/dataset2_processed/train/sad/image50.png\n",
      "No faces found in image: ../Data/processed/dataset2/train/sad/images.jpg\n",
      "Copied image with face to ../Data/processed/dataset2_processed/train/sad/images10.jpg\n",
      "No faces found in image: ../Data/processed/dataset2/train/sad/images100.jpg\n"
     ]
    },
    {
     "name": "stderr",
     "output_type": "stream",
     "text": [
      "Processing files in ../Data/processed/dataset2/train/sad:  32%|███▏      | 241/744 [00:29<00:24, 20.18it/s]"
     ]
    },
    {
     "name": "stdout",
     "output_type": "stream",
     "text": [
      "Copied image with face to ../Data/processed/dataset2_processed/train/sad/images102.jpg\n",
      "No faces found in image: ../Data/processed/dataset2/train/sad/images103.jpg\n",
      "No faces found in image: ../Data/processed/dataset2/train/sad/images108.jpg\n",
      "Copied image with face to ../Data/processed/dataset2_processed/train/sad/images109.jpg\n",
      "Copied image with face to ../Data/processed/dataset2_processed/train/sad/images11.jpg\n",
      "No faces found in image: ../Data/processed/dataset2/train/sad/images110.jpg\n"
     ]
    },
    {
     "name": "stderr",
     "output_type": "stream",
     "text": [
      "Processing files in ../Data/processed/dataset2/train/sad:  33%|███▎      | 247/744 [00:29<00:20, 24.22it/s]"
     ]
    },
    {
     "name": "stdout",
     "output_type": "stream",
     "text": [
      "Copied image with face to ../Data/processed/dataset2_processed/train/sad/images111.jpg\n",
      "No faces found in image: ../Data/processed/dataset2/train/sad/images116.jpg\n",
      "No faces found in image: ../Data/processed/dataset2/train/sad/images117.jpg\n",
      "No faces found in image: ../Data/processed/dataset2/train/sad/images119.jpg\n",
      "Copied image with face to ../Data/processed/dataset2_processed/train/sad/images12.jpg\n",
      "No faces found in image: ../Data/processed/dataset2/train/sad/images121.jpg\n"
     ]
    },
    {
     "name": "stderr",
     "output_type": "stream",
     "text": [
      "Processing files in ../Data/processed/dataset2/train/sad:  34%|███▎      | 250/744 [00:29<00:22, 22.07it/s]"
     ]
    },
    {
     "name": "stdout",
     "output_type": "stream",
     "text": [
      "Copied image with face to ../Data/processed/dataset2_processed/train/sad/images123.jpg\n",
      "Copied image with face to ../Data/processed/dataset2_processed/train/sad/images124.jpg\n",
      "No faces found in image: ../Data/processed/dataset2/train/sad/images125.jpg\n",
      "Copied image with face to ../Data/processed/dataset2_processed/train/sad/images13.jpg\n"
     ]
    },
    {
     "name": "stderr",
     "output_type": "stream",
     "text": [
      "Processing files in ../Data/processed/dataset2/train/sad:  34%|███▍      | 253/744 [00:29<00:26, 18.86it/s]"
     ]
    },
    {
     "name": "stdout",
     "output_type": "stream",
     "text": [
      "Copied image with face to ../Data/processed/dataset2_processed/train/sad/images135.jpg\n",
      "Copied image with face to ../Data/processed/dataset2_processed/train/sad/images137.jpg\n",
      "Copied image with face to ../Data/processed/dataset2_processed/train/sad/images138.jpg\n"
     ]
    },
    {
     "name": "stderr",
     "output_type": "stream",
     "text": [
      "Processing files in ../Data/processed/dataset2/train/sad:  35%|███▌      | 261/744 [00:30<00:20, 23.95it/s]"
     ]
    },
    {
     "name": "stdout",
     "output_type": "stream",
     "text": [
      "Copied image with face to ../Data/processed/dataset2_processed/train/sad/images139.jpg\n",
      "No faces found in image: ../Data/processed/dataset2/train/sad/images14.jpg\n",
      "No faces found in image: ../Data/processed/dataset2/train/sad/images143.jpg\n",
      "No faces found in image: ../Data/processed/dataset2/train/sad/images145.jpg\n",
      "No faces found in image: ../Data/processed/dataset2/train/sad/images146.jpg\n",
      "No faces found in image: ../Data/processed/dataset2/train/sad/images147.jpg\n",
      "Copied image with face to ../Data/processed/dataset2_processed/train/sad/images148.jpg\n"
     ]
    },
    {
     "name": "stderr",
     "output_type": "stream",
     "text": [
      "Processing files in ../Data/processed/dataset2/train/sad:  35%|███▌      | 264/744 [00:30<00:21, 22.18it/s]"
     ]
    },
    {
     "name": "stdout",
     "output_type": "stream",
     "text": [
      "Copied image with face to ../Data/processed/dataset2_processed/train/sad/images149.jpg\n",
      "Copied image with face to ../Data/processed/dataset2_processed/train/sad/images152.jpg\n",
      "No faces found in image: ../Data/processed/dataset2/train/sad/images153.jpg\n",
      "No faces found in image: ../Data/processed/dataset2/train/sad/images154.jpg\n",
      "Copied image with face to ../Data/processed/dataset2_processed/train/sad/images155.jpg\n"
     ]
    },
    {
     "name": "stderr",
     "output_type": "stream",
     "text": [
      "Processing files in ../Data/processed/dataset2/train/sad:  36%|███▋      | 270/744 [00:30<00:23, 20.44it/s]"
     ]
    },
    {
     "name": "stdout",
     "output_type": "stream",
     "text": [
      "Copied image with face to ../Data/processed/dataset2_processed/train/sad/images156.jpg\n",
      "No faces found in image: ../Data/processed/dataset2/train/sad/images159.jpg\n",
      "Copied image with face to ../Data/processed/dataset2_processed/train/sad/images16.jpg\n",
      "Copied image with face to ../Data/processed/dataset2_processed/train/sad/images161.jpg\n",
      "No faces found in image: ../Data/processed/dataset2/train/sad/images162.jpg\n"
     ]
    },
    {
     "name": "stderr",
     "output_type": "stream",
     "text": [
      "Processing files in ../Data/processed/dataset2/train/sad:  37%|███▋      | 273/744 [00:30<00:23, 20.06it/s]"
     ]
    },
    {
     "name": "stdout",
     "output_type": "stream",
     "text": [
      "Copied image with face to ../Data/processed/dataset2_processed/train/sad/images163.jpg\n",
      "Copied image with face to ../Data/processed/dataset2_processed/train/sad/images164.jpg\n",
      "Copied image with face to ../Data/processed/dataset2_processed/train/sad/images165.jpg\n"
     ]
    },
    {
     "name": "stderr",
     "output_type": "stream",
     "text": [
      "Processing files in ../Data/processed/dataset2/train/sad:  38%|███▊      | 279/744 [00:31<00:24, 19.04it/s]"
     ]
    },
    {
     "name": "stdout",
     "output_type": "stream",
     "text": [
      "Copied image with face to ../Data/processed/dataset2_processed/train/sad/images166.jpg\n",
      "No faces found in image: ../Data/processed/dataset2/train/sad/images167.jpg\n",
      "No faces found in image: ../Data/processed/dataset2/train/sad/images169.jpg\n",
      "Copied image with face to ../Data/processed/dataset2_processed/train/sad/images17.jpg\n",
      "Copied image with face to ../Data/processed/dataset2_processed/train/sad/images170.jpg\n"
     ]
    },
    {
     "name": "stderr",
     "output_type": "stream",
     "text": [
      "Processing files in ../Data/processed/dataset2/train/sad:  38%|███▊      | 285/744 [00:31<00:16, 27.38it/s]"
     ]
    },
    {
     "name": "stdout",
     "output_type": "stream",
     "text": [
      "No faces found in image: ../Data/processed/dataset2/train/sad/images171.jpg\n",
      "No faces found in image: ../Data/processed/dataset2/train/sad/images172.jpg\n",
      "No faces found in image: ../Data/processed/dataset2/train/sad/images174.jpg\n",
      "No faces found in image: ../Data/processed/dataset2/train/sad/images177.jpg\n",
      "No faces found in image: ../Data/processed/dataset2/train/sad/images178.jpg\n",
      "No faces found in image: ../Data/processed/dataset2/train/sad/images179.jpg\n",
      "No faces found in image: ../Data/processed/dataset2/train/sad/images18.jpg\n",
      "No faces found in image: ../Data/processed/dataset2/train/sad/images182.jpg\n",
      "No faces found in image: ../Data/processed/dataset2/train/sad/images183.jpg\n",
      "No faces found in image: ../Data/processed/dataset2/train/sad/images186.jpg\n"
     ]
    },
    {
     "name": "stderr",
     "output_type": "stream",
     "text": [
      "Processing files in ../Data/processed/dataset2/train/sad:  40%|███▉      | 294/744 [00:31<00:14, 30.13it/s]"
     ]
    },
    {
     "name": "stdout",
     "output_type": "stream",
     "text": [
      "Copied image with face to ../Data/processed/dataset2_processed/train/sad/images191.jpg\n",
      "Copied image with face to ../Data/processed/dataset2_processed/train/sad/images192.jpg\n",
      "No faces found in image: ../Data/processed/dataset2/train/sad/images193.jpg\n",
      "No faces found in image: ../Data/processed/dataset2/train/sad/images197.jpg\n",
      "No faces found in image: ../Data/processed/dataset2/train/sad/images199.jpg\n",
      "No faces found in image: ../Data/processed/dataset2/train/sad/images2.jpg\n"
     ]
    },
    {
     "name": "stderr",
     "output_type": "stream",
     "text": [
      "Processing files in ../Data/processed/dataset2/train/sad:  41%|████      | 302/744 [00:31<00:14, 30.83it/s]"
     ]
    },
    {
     "name": "stdout",
     "output_type": "stream",
     "text": [
      "Copied image with face to ../Data/processed/dataset2_processed/train/sad/images20.jpg\n",
      "No faces found in image: ../Data/processed/dataset2/train/sad/images200.jpg\n",
      "No faces found in image: ../Data/processed/dataset2/train/sad/images203.jpg\n",
      "No faces found in image: ../Data/processed/dataset2/train/sad/images205.jpg\n",
      "Copied image with face to ../Data/processed/dataset2_processed/train/sad/images206.jpg\n",
      "No faces found in image: ../Data/processed/dataset2/train/sad/images207.jpg\n",
      "No faces found in image: ../Data/processed/dataset2/train/sad/images208.jpg\n"
     ]
    },
    {
     "name": "stderr",
     "output_type": "stream",
     "text": [
      "Processing files in ../Data/processed/dataset2/train/sad:  41%|████      | 306/744 [00:31<00:14, 31.28it/s]"
     ]
    },
    {
     "name": "stdout",
     "output_type": "stream",
     "text": [
      "Copied image with face to ../Data/processed/dataset2_processed/train/sad/images209.jpg\n",
      "No faces found in image: ../Data/processed/dataset2/train/sad/images210.jpg\n",
      "No faces found in image: ../Data/processed/dataset2/train/sad/images211.jpg\n",
      "No faces found in image: ../Data/processed/dataset2/train/sad/images212.jpg\n",
      "No faces found in image: ../Data/processed/dataset2/train/sad/images213.jpg\n",
      "No faces found in image: ../Data/processed/dataset2/train/sad/images216.jpg\n",
      "Copied image with face to ../Data/processed/dataset2_processed/train/sad/images217.jpg\n"
     ]
    },
    {
     "name": "stderr",
     "output_type": "stream",
     "text": [
      "Processing files in ../Data/processed/dataset2/train/sad:  42%|████▏     | 310/744 [00:32<00:15, 27.65it/s]"
     ]
    },
    {
     "name": "stdout",
     "output_type": "stream",
     "text": [
      "Copied image with face to ../Data/processed/dataset2_processed/train/sad/images219.jpg\n",
      "Copied image with face to ../Data/processed/dataset2_processed/train/sad/images22.jpg\n",
      "Copied image with face to ../Data/processed/dataset2_processed/train/sad/images222.jpg\n"
     ]
    },
    {
     "name": "stderr",
     "output_type": "stream",
     "text": [
      "Processing files in ../Data/processed/dataset2/train/sad:  42%|████▏     | 316/744 [00:32<00:18, 23.54it/s]"
     ]
    },
    {
     "name": "stdout",
     "output_type": "stream",
     "text": [
      "Copied image with face to ../Data/processed/dataset2_processed/train/sad/images223.jpg\n",
      "No faces found in image: ../Data/processed/dataset2/train/sad/images227.jpg\n",
      "Copied image with face to ../Data/processed/dataset2_processed/train/sad/images228.jpg\n",
      "No faces found in image: ../Data/processed/dataset2/train/sad/images229.jpg\n",
      "Copied image with face to ../Data/processed/dataset2_processed/train/sad/images230.jpg\n",
      "No faces found in image: ../Data/processed/dataset2/train/sad/images231.jpg\n"
     ]
    },
    {
     "name": "stderr",
     "output_type": "stream",
     "text": [
      "Processing files in ../Data/processed/dataset2/train/sad:  43%|████▎     | 322/744 [00:32<00:18, 22.90it/s]"
     ]
    },
    {
     "name": "stdout",
     "output_type": "stream",
     "text": [
      "Copied image with face to ../Data/processed/dataset2_processed/train/sad/images234.jpg\n",
      "Copied image with face to ../Data/processed/dataset2_processed/train/sad/images235.jpg\n",
      "No faces found in image: ../Data/processed/dataset2/train/sad/images238.jpg\n",
      "No faces found in image: ../Data/processed/dataset2/train/sad/images240.jpg\n",
      "No faces found in image: ../Data/processed/dataset2/train/sad/images243.jpg\n",
      "No faces found in image: ../Data/processed/dataset2/train/sad/images245.jpg\n"
     ]
    },
    {
     "name": "stderr",
     "output_type": "stream",
     "text": [
      "Processing files in ../Data/processed/dataset2/train/sad:  44%|████▍     | 328/744 [00:32<00:18, 22.22it/s]"
     ]
    },
    {
     "name": "stdout",
     "output_type": "stream",
     "text": [
      "Copied image with face to ../Data/processed/dataset2_processed/train/sad/images247.jpg\n",
      "No faces found in image: ../Data/processed/dataset2/train/sad/images248.jpg\n",
      "Copied image with face to ../Data/processed/dataset2_processed/train/sad/images251.jpg\n",
      "Copied image with face to ../Data/processed/dataset2_processed/train/sad/images255.jpg\n"
     ]
    },
    {
     "name": "stderr",
     "output_type": "stream",
     "text": [
      "Processing files in ../Data/processed/dataset2/train/sad:  44%|████▍     | 331/744 [00:33<00:22, 18.59it/s]"
     ]
    },
    {
     "name": "stdout",
     "output_type": "stream",
     "text": [
      "Copied image with face to ../Data/processed/dataset2_processed/train/sad/images256.jpg\n",
      "Copied image with face to ../Data/processed/dataset2_processed/train/sad/images258.jpg\n",
      "Copied image with face to ../Data/processed/dataset2_processed/train/sad/images26.jpg\n"
     ]
    },
    {
     "name": "stderr",
     "output_type": "stream",
     "text": [
      "Processing files in ../Data/processed/dataset2/train/sad:  45%|████▌     | 337/744 [00:33<00:20, 20.07it/s]"
     ]
    },
    {
     "name": "stdout",
     "output_type": "stream",
     "text": [
      "Copied image with face to ../Data/processed/dataset2_processed/train/sad/images263.jpg\n",
      "No faces found in image: ../Data/processed/dataset2/train/sad/images27.jpg\n",
      "No faces found in image: ../Data/processed/dataset2/train/sad/images270.jpg\n",
      "Copied image with face to ../Data/processed/dataset2_processed/train/sad/images272.jpg\n",
      "No faces found in image: ../Data/processed/dataset2/train/sad/images273.jpg\n",
      "Copied image with face to ../Data/processed/dataset2_processed/train/sad/images276.jpg\n"
     ]
    },
    {
     "name": "stderr",
     "output_type": "stream",
     "text": [
      "Processing files in ../Data/processed/dataset2/train/sad:  46%|████▌     | 343/744 [00:33<00:17, 23.54it/s]"
     ]
    },
    {
     "name": "stdout",
     "output_type": "stream",
     "text": [
      "No faces found in image: ../Data/processed/dataset2/train/sad/images28.jpg\n",
      "No faces found in image: ../Data/processed/dataset2/train/sad/images281.jpg\n",
      "Copied image with face to ../Data/processed/dataset2_processed/train/sad/images286.jpg\n",
      "Copied image with face to ../Data/processed/dataset2_processed/train/sad/images288.jpg\n",
      "No faces found in image: ../Data/processed/dataset2/train/sad/images289.jpg\n",
      "No faces found in image: ../Data/processed/dataset2/train/sad/images292.jpg\n"
     ]
    },
    {
     "name": "stderr",
     "output_type": "stream",
     "text": [
      "Processing files in ../Data/processed/dataset2/train/sad:  47%|████▋     | 346/744 [00:33<00:20, 19.32it/s]"
     ]
    },
    {
     "name": "stdout",
     "output_type": "stream",
     "text": [
      "Copied image with face to ../Data/processed/dataset2_processed/train/sad/images293.jpg\n",
      "Copied image with face to ../Data/processed/dataset2_processed/train/sad/images295.jpg\n",
      "Copied image with face to ../Data/processed/dataset2_processed/train/sad/images296.jpg\n",
      "No faces found in image: ../Data/processed/dataset2/train/sad/images298.jpg\n",
      "No faces found in image: ../Data/processed/dataset2/train/sad/images299.jpg\n"
     ]
    },
    {
     "name": "stderr",
     "output_type": "stream",
     "text": [
      "Processing files in ../Data/processed/dataset2/train/sad:  47%|████▋     | 352/744 [00:34<00:14, 27.31it/s]"
     ]
    },
    {
     "name": "stdout",
     "output_type": "stream",
     "text": [
      "No faces found in image: ../Data/processed/dataset2/train/sad/images306.jpg\n",
      "No faces found in image: ../Data/processed/dataset2/train/sad/images31.jpg\n",
      "No faces found in image: ../Data/processed/dataset2/train/sad/images313.jpg\n",
      "No faces found in image: ../Data/processed/dataset2/train/sad/images314.jpg\n",
      "Copied image with face to ../Data/processed/dataset2_processed/train/sad/images315.jpg\n",
      "No faces found in image: ../Data/processed/dataset2/train/sad/images326.jpg\n",
      "No faces found in image: ../Data/processed/dataset2/train/sad/images327.jpg\n"
     ]
    },
    {
     "name": "stderr",
     "output_type": "stream",
     "text": [
      "Processing files in ../Data/processed/dataset2/train/sad:  48%|████▊     | 359/744 [00:34<00:14, 26.01it/s]"
     ]
    },
    {
     "name": "stdout",
     "output_type": "stream",
     "text": [
      "Copied image with face to ../Data/processed/dataset2_processed/train/sad/images329.jpg\n",
      "No faces found in image: ../Data/processed/dataset2/train/sad/images33.jpg\n",
      "No faces found in image: ../Data/processed/dataset2/train/sad/images331.jpg\n",
      "Copied image with face to ../Data/processed/dataset2_processed/train/sad/images332.jpg\n",
      "No faces found in image: ../Data/processed/dataset2/train/sad/images333.jpg\n",
      "No faces found in image: ../Data/processed/dataset2/train/sad/images334.jpg\n"
     ]
    },
    {
     "name": "stderr",
     "output_type": "stream",
     "text": [
      "Processing files in ../Data/processed/dataset2/train/sad:  49%|████▉     | 365/744 [00:34<00:14, 26.10it/s]"
     ]
    },
    {
     "name": "stdout",
     "output_type": "stream",
     "text": [
      "Copied image with face to ../Data/processed/dataset2_processed/train/sad/images336.jpg\n",
      "No faces found in image: ../Data/processed/dataset2/train/sad/images337.jpg\n",
      "Copied image with face to ../Data/processed/dataset2_processed/train/sad/images338.jpg\n",
      "No faces found in image: ../Data/processed/dataset2/train/sad/images346.jpg\n",
      "No faces found in image: ../Data/processed/dataset2/train/sad/images347.jpg\n",
      "No faces found in image: ../Data/processed/dataset2/train/sad/images348.jpg\n"
     ]
    },
    {
     "name": "stderr",
     "output_type": "stream",
     "text": [
      "Processing files in ../Data/processed/dataset2/train/sad:  49%|████▉     | 368/744 [00:34<00:14, 26.21it/s]"
     ]
    },
    {
     "name": "stdout",
     "output_type": "stream",
     "text": [
      "Copied image with face to ../Data/processed/dataset2_processed/train/sad/images35.jpg\n",
      "Copied image with face to ../Data/processed/dataset2_processed/train/sad/images350.jpg\n",
      "Copied image with face to ../Data/processed/dataset2_processed/train/sad/images359.jpg\n"
     ]
    },
    {
     "name": "stderr",
     "output_type": "stream",
     "text": [
      "Processing files in ../Data/processed/dataset2/train/sad:  50%|█████     | 374/744 [00:34<00:16, 21.86it/s]"
     ]
    },
    {
     "name": "stdout",
     "output_type": "stream",
     "text": [
      "Copied image with face to ../Data/processed/dataset2_processed/train/sad/images36.jpg\n",
      "Copied image with face to ../Data/processed/dataset2_processed/train/sad/images363.jpg\n",
      "No faces found in image: ../Data/processed/dataset2/train/sad/images365.jpg\n",
      "No faces found in image: ../Data/processed/dataset2/train/sad/images366.jpg\n",
      "No faces found in image: ../Data/processed/dataset2/train/sad/images367.jpg\n",
      "Copied image with face to ../Data/processed/dataset2_processed/train/sad/images368.jpg\n"
     ]
    },
    {
     "name": "stderr",
     "output_type": "stream",
     "text": [
      "Processing files in ../Data/processed/dataset2/train/sad:  51%|█████     | 377/744 [00:35<00:15, 23.47it/s]"
     ]
    },
    {
     "name": "stdout",
     "output_type": "stream",
     "text": [
      "No faces found in image: ../Data/processed/dataset2/train/sad/images37.jpg\n",
      "Copied image with face to ../Data/processed/dataset2_processed/train/sad/images373.jpg\n",
      "Copied image with face to ../Data/processed/dataset2_processed/train/sad/images379.jpg\n"
     ]
    },
    {
     "name": "stderr",
     "output_type": "stream",
     "text": [
      "Processing files in ../Data/processed/dataset2/train/sad:  51%|█████▏    | 383/744 [00:35<00:16, 21.33it/s]"
     ]
    },
    {
     "name": "stdout",
     "output_type": "stream",
     "text": [
      "Copied image with face to ../Data/processed/dataset2_processed/train/sad/images38.jpg\n",
      "No faces found in image: ../Data/processed/dataset2/train/sad/images383.jpg\n",
      "No faces found in image: ../Data/processed/dataset2/train/sad/images384.jpg\n",
      "Copied image with face to ../Data/processed/dataset2_processed/train/sad/images385.jpg\n",
      "No faces found in image: ../Data/processed/dataset2/train/sad/images386.jpg\n",
      "Copied image with face to ../Data/processed/dataset2_processed/train/sad/images387.jpg\n"
     ]
    },
    {
     "name": "stderr",
     "output_type": "stream",
     "text": [
      "Processing files in ../Data/processed/dataset2/train/sad:  52%|█████▏    | 389/744 [00:35<00:14, 23.82it/s]"
     ]
    },
    {
     "name": "stdout",
     "output_type": "stream",
     "text": [
      "No faces found in image: ../Data/processed/dataset2/train/sad/images389.jpg\n",
      "Copied image with face to ../Data/processed/dataset2_processed/train/sad/images39.jpg\n",
      "No faces found in image: ../Data/processed/dataset2/train/sad/images396.jpg\n",
      "No faces found in image: ../Data/processed/dataset2/train/sad/images397.jpg\n",
      "No faces found in image: ../Data/processed/dataset2/train/sad/images398.jpg\n"
     ]
    },
    {
     "name": "stderr",
     "output_type": "stream",
     "text": [
      "Processing files in ../Data/processed/dataset2/train/sad:  53%|█████▎    | 395/744 [00:35<00:15, 22.84it/s]"
     ]
    },
    {
     "name": "stdout",
     "output_type": "stream",
     "text": [
      "Copied image with face to ../Data/processed/dataset2_processed/train/sad/images4.jpg\n",
      "Copied image with face to ../Data/processed/dataset2_processed/train/sad/images400.jpg\n",
      "No faces found in image: ../Data/processed/dataset2/train/sad/images402.jpg\n",
      "Copied image with face to ../Data/processed/dataset2_processed/train/sad/images41.jpg\n",
      "No faces found in image: ../Data/processed/dataset2/train/sad/images414.jpg\n"
     ]
    },
    {
     "name": "stderr",
     "output_type": "stream",
     "text": [
      "Processing files in ../Data/processed/dataset2/train/sad:  53%|█████▎    | 398/744 [00:36<00:16, 20.94it/s]"
     ]
    },
    {
     "name": "stdout",
     "output_type": "stream",
     "text": [
      "Copied image with face to ../Data/processed/dataset2_processed/train/sad/images415.jpg\n",
      "No faces found in image: ../Data/processed/dataset2/train/sad/images416.jpg\n",
      "Copied image with face to ../Data/processed/dataset2_processed/train/sad/images417.jpg\n",
      "No faces found in image: ../Data/processed/dataset2/train/sad/images418.jpg\n",
      "No faces found in image: ../Data/processed/dataset2/train/sad/images420.jpg\n",
      "Copied image with face to ../Data/processed/dataset2_processed/train/sad/images421.jpg\n"
     ]
    },
    {
     "name": "stderr",
     "output_type": "stream",
     "text": [
      "Processing files in ../Data/processed/dataset2/train/sad:  54%|█████▍    | 404/744 [00:36<00:14, 23.49it/s]"
     ]
    },
    {
     "name": "stdout",
     "output_type": "stream",
     "text": [
      "No faces found in image: ../Data/processed/dataset2/train/sad/images422.jpg\n",
      "No faces found in image: ../Data/processed/dataset2/train/sad/images423.jpg\n",
      "Copied image with face to ../Data/processed/dataset2_processed/train/sad/images424.jpg\n",
      "No faces found in image: ../Data/processed/dataset2/train/sad/images425.jpg\n",
      "No faces found in image: ../Data/processed/dataset2/train/sad/images428.jpg\n",
      "No faces found in image: ../Data/processed/dataset2/train/sad/images43.jpg\n",
      "No faces found in image: ../Data/processed/dataset2/train/sad/images430.jpg\n",
      "No faces found in image: ../Data/processed/dataset2/train/sad/images433.jpg\n"
     ]
    },
    {
     "name": "stderr",
     "output_type": "stream",
     "text": [
      "Processing files in ../Data/processed/dataset2/train/sad:  56%|█████▌    | 414/744 [00:36<00:12, 26.64it/s]"
     ]
    },
    {
     "name": "stdout",
     "output_type": "stream",
     "text": [
      "Copied image with face to ../Data/processed/dataset2_processed/train/sad/images436.jpg\n",
      "Copied image with face to ../Data/processed/dataset2_processed/train/sad/images437.jpg\n",
      "No faces found in image: ../Data/processed/dataset2/train/sad/images438.jpg\n",
      "No faces found in image: ../Data/processed/dataset2/train/sad/images44.jpg\n",
      "Copied image with face to ../Data/processed/dataset2_processed/train/sad/images440.jpg\n",
      "No faces found in image: ../Data/processed/dataset2/train/sad/images441.jpg\n"
     ]
    },
    {
     "name": "stderr",
     "output_type": "stream",
     "text": [
      "Processing files in ../Data/processed/dataset2/train/sad:  57%|█████▋    | 426/744 [00:36<00:08, 39.42it/s]"
     ]
    },
    {
     "name": "stdout",
     "output_type": "stream",
     "text": [
      "No faces found in image: ../Data/processed/dataset2/train/sad/images442.jpg\n",
      "No faces found in image: ../Data/processed/dataset2/train/sad/images443.jpg\n",
      "No faces found in image: ../Data/processed/dataset2/train/sad/images444.jpg\n",
      "No faces found in image: ../Data/processed/dataset2/train/sad/images446.jpg\n",
      "No faces found in image: ../Data/processed/dataset2/train/sad/images451.jpg\n",
      "No faces found in image: ../Data/processed/dataset2/train/sad/images452.jpg\n",
      "No faces found in image: ../Data/processed/dataset2/train/sad/images454.jpg\n",
      "No faces found in image: ../Data/processed/dataset2/train/sad/images455.jpg\n",
      "No faces found in image: ../Data/processed/dataset2/train/sad/images456.jpg\n",
      "No faces found in image: ../Data/processed/dataset2/train/sad/images459.jpg\n",
      "No faces found in image: ../Data/processed/dataset2/train/sad/images465.jpg\n",
      "No faces found in image: ../Data/processed/dataset2/train/sad/images468.jpg\n"
     ]
    },
    {
     "name": "stderr",
     "output_type": "stream",
     "text": [
      "Processing files in ../Data/processed/dataset2/train/sad:  58%|█████▊    | 431/744 [00:37<00:09, 33.30it/s]"
     ]
    },
    {
     "name": "stdout",
     "output_type": "stream",
     "text": [
      "Copied image with face to ../Data/processed/dataset2_processed/train/sad/images47.jpg\n",
      "No faces found in image: ../Data/processed/dataset2/train/sad/images471.jpg\n",
      "Copied image with face to ../Data/processed/dataset2_processed/train/sad/images472.jpg\n",
      "No faces found in image: ../Data/processed/dataset2/train/sad/images477.jpg\n",
      "No faces found in image: ../Data/processed/dataset2/train/sad/images479.jpg\n"
     ]
    },
    {
     "name": "stderr",
     "output_type": "stream",
     "text": [
      "Processing files in ../Data/processed/dataset2/train/sad:  58%|█████▊    | 435/744 [00:37<00:10, 29.62it/s]"
     ]
    },
    {
     "name": "stdout",
     "output_type": "stream",
     "text": [
      "Copied image with face to ../Data/processed/dataset2_processed/train/sad/images480.jpg\n",
      "Copied image with face to ../Data/processed/dataset2_processed/train/sad/images482.jpg\n",
      "No faces found in image: ../Data/processed/dataset2/train/sad/images484.jpg\n",
      "Copied image with face to ../Data/processed/dataset2_processed/train/sad/images486.jpg\n"
     ]
    },
    {
     "name": "stderr",
     "output_type": "stream",
     "text": [
      "Processing files in ../Data/processed/dataset2/train/sad:  59%|█████▉    | 439/744 [00:37<00:13, 22.73it/s]"
     ]
    },
    {
     "name": "stdout",
     "output_type": "stream",
     "text": [
      "Copied image with face to ../Data/processed/dataset2_processed/train/sad/images489.jpg\n",
      "Copied image with face to ../Data/processed/dataset2_processed/train/sad/images491.jpg\n",
      "Copied image with face to ../Data/processed/dataset2_processed/train/sad/images497.jpg\n"
     ]
    },
    {
     "name": "stderr",
     "output_type": "stream",
     "text": [
      "Processing files in ../Data/processed/dataset2/train/sad:  59%|█████▉    | 442/744 [00:37<00:14, 20.16it/s]"
     ]
    },
    {
     "name": "stdout",
     "output_type": "stream",
     "text": [
      "Copied image with face to ../Data/processed/dataset2_processed/train/sad/images50.jpg\n",
      "Copied image with face to ../Data/processed/dataset2_processed/train/sad/images504.jpg\n",
      "Copied image with face to ../Data/processed/dataset2_processed/train/sad/images506.jpg\n",
      "No faces found in image: ../Data/processed/dataset2/train/sad/images507.jpg\n",
      "No faces found in image: ../Data/processed/dataset2/train/sad/images511.jpg\n"
     ]
    },
    {
     "name": "stderr",
     "output_type": "stream",
     "text": [
      "Processing files in ../Data/processed/dataset2/train/sad:  60%|██████    | 448/744 [00:37<00:12, 23.08it/s]"
     ]
    },
    {
     "name": "stdout",
     "output_type": "stream",
     "text": [
      "Copied image with face to ../Data/processed/dataset2_processed/train/sad/images513.jpg\n",
      "Copied image with face to ../Data/processed/dataset2_processed/train/sad/images515.jpg\n",
      "No faces found in image: ../Data/processed/dataset2/train/sad/images517.jpg\n",
      "No faces found in image: ../Data/processed/dataset2/train/sad/images524.jpg\n",
      "Copied image with face to ../Data/processed/dataset2_processed/train/sad/images525.jpg\n",
      "No faces found in image: ../Data/processed/dataset2/train/sad/images526.jpg\n"
     ]
    },
    {
     "name": "stderr",
     "output_type": "stream",
     "text": [
      "Processing files in ../Data/processed/dataset2/train/sad:  61%|██████    | 454/744 [00:38<00:11, 25.26it/s]"
     ]
    },
    {
     "name": "stdout",
     "output_type": "stream",
     "text": [
      "No faces found in image: ../Data/processed/dataset2/train/sad/images528.jpg\n",
      "Copied image with face to ../Data/processed/dataset2_processed/train/sad/images529.jpg\n",
      "No faces found in image: ../Data/processed/dataset2/train/sad/images53.jpg\n",
      "No faces found in image: ../Data/processed/dataset2/train/sad/images530.jpg\n",
      "Copied image with face to ../Data/processed/dataset2_processed/train/sad/images535.jpg\n"
     ]
    },
    {
     "name": "stderr",
     "output_type": "stream",
     "text": [
      "Processing files in ../Data/processed/dataset2/train/sad:  61%|██████▏   | 457/744 [00:38<00:12, 22.48it/s]"
     ]
    },
    {
     "name": "stdout",
     "output_type": "stream",
     "text": [
      "No faces found in image: ../Data/processed/dataset2/train/sad/images536.jpg\n",
      "Copied image with face to ../Data/processed/dataset2_processed/train/sad/images538.jpg\n",
      "No faces found in image: ../Data/processed/dataset2/train/sad/images539.jpg\n",
      "Copied image with face to ../Data/processed/dataset2_processed/train/sad/images541.jpg\n"
     ]
    },
    {
     "name": "stderr",
     "output_type": "stream",
     "text": [
      "Processing files in ../Data/processed/dataset2/train/sad:  62%|██████▏   | 463/744 [00:38<00:12, 22.68it/s]"
     ]
    },
    {
     "name": "stdout",
     "output_type": "stream",
     "text": [
      "Copied image with face to ../Data/processed/dataset2_processed/train/sad/images542.jpg\n",
      "No faces found in image: ../Data/processed/dataset2/train/sad/images543.jpg\n",
      "Copied image with face to ../Data/processed/dataset2_processed/train/sad/images545.jpg\n",
      "No faces found in image: ../Data/processed/dataset2/train/sad/images546.jpg\n",
      "No faces found in image: ../Data/processed/dataset2/train/sad/images553.jpg\n",
      "No faces found in image: ../Data/processed/dataset2/train/sad/images56.jpg\n",
      "No faces found in image: ../Data/processed/dataset2/train/sad/images561.jpg\n",
      "No faces found in image: ../Data/processed/dataset2/train/sad/images562.jpg\n"
     ]
    },
    {
     "name": "stderr",
     "output_type": "stream",
     "text": [
      "Processing files in ../Data/processed/dataset2/train/sad:  63%|██████▎   | 471/744 [00:38<00:11, 24.13it/s]"
     ]
    },
    {
     "name": "stdout",
     "output_type": "stream",
     "text": [
      "Copied image with face to ../Data/processed/dataset2_processed/train/sad/images564.jpg\n",
      "Copied image with face to ../Data/processed/dataset2_processed/train/sad/images565.jpg\n",
      "Copied image with face to ../Data/processed/dataset2_processed/train/sad/images569.jpg\n",
      "No faces found in image: ../Data/processed/dataset2/train/sad/images57.jpg\n"
     ]
    },
    {
     "name": "stderr",
     "output_type": "stream",
     "text": [
      "Processing files in ../Data/processed/dataset2/train/sad:  64%|██████▎   | 474/744 [00:39<00:12, 22.44it/s]"
     ]
    },
    {
     "name": "stdout",
     "output_type": "stream",
     "text": [
      "Copied image with face to ../Data/processed/dataset2_processed/train/sad/images574.jpg\n",
      "No faces found in image: ../Data/processed/dataset2/train/sad/images579.jpg\n",
      "Copied image with face to ../Data/processed/dataset2_processed/train/sad/images58.jpg\n",
      "Copied image with face to ../Data/processed/dataset2_processed/train/sad/images582.jpg\n",
      "No faces found in image: ../Data/processed/dataset2/train/sad/images584.jpg\n"
     ]
    },
    {
     "name": "stderr",
     "output_type": "stream",
     "text": [
      "Processing files in ../Data/processed/dataset2/train/sad:  65%|██████▍   | 480/744 [00:39<00:11, 22.36it/s]"
     ]
    },
    {
     "name": "stdout",
     "output_type": "stream",
     "text": [
      "Copied image with face to ../Data/processed/dataset2_processed/train/sad/images585.jpg\n",
      "Copied image with face to ../Data/processed/dataset2_processed/train/sad/images587.jpg\n",
      "No faces found in image: ../Data/processed/dataset2/train/sad/images589.jpg\n",
      "No faces found in image: ../Data/processed/dataset2/train/sad/images59.jpg\n",
      "Copied image with face to ../Data/processed/dataset2_processed/train/sad/images597.jpg\n"
     ]
    },
    {
     "name": "stderr",
     "output_type": "stream",
     "text": [
      "Processing files in ../Data/processed/dataset2/train/sad:  65%|██████▍   | 483/744 [00:39<00:11, 22.93it/s]"
     ]
    },
    {
     "name": "stdout",
     "output_type": "stream",
     "text": [
      "No faces found in image: ../Data/processed/dataset2/train/sad/images598.jpg\n",
      "No faces found in image: ../Data/processed/dataset2/train/sad/images599.jpg\n",
      "Copied image with face to ../Data/processed/dataset2_processed/train/sad/images6.jpg\n",
      "Copied image with face to ../Data/processed/dataset2_processed/train/sad/images60.jpg\n"
     ]
    },
    {
     "name": "stderr",
     "output_type": "stream",
     "text": [
      "Processing files in ../Data/processed/dataset2/train/sad:  66%|██████▌   | 489/744 [00:39<00:11, 21.45it/s]"
     ]
    },
    {
     "name": "stdout",
     "output_type": "stream",
     "text": [
      "Copied image with face to ../Data/processed/dataset2_processed/train/sad/images600.jpg\n",
      "No faces found in image: ../Data/processed/dataset2/train/sad/images602.jpg\n",
      "Copied image with face to ../Data/processed/dataset2_processed/train/sad/images603.jpg\n",
      "No faces found in image: ../Data/processed/dataset2/train/sad/images609.jpg\n",
      "Copied image with face to ../Data/processed/dataset2_processed/train/sad/images612.jpg\n"
     ]
    },
    {
     "name": "stderr",
     "output_type": "stream",
     "text": [
      "Processing files in ../Data/processed/dataset2/train/sad:  66%|██████▌   | 492/744 [00:39<00:13, 18.48it/s]"
     ]
    },
    {
     "name": "stdout",
     "output_type": "stream",
     "text": [
      "Copied image with face to ../Data/processed/dataset2_processed/train/sad/images614.jpg\n",
      "Copied image with face to ../Data/processed/dataset2_processed/train/sad/images616.jpg\n",
      "No faces found in image: ../Data/processed/dataset2/train/sad/images621.jpg\n",
      "Copied image with face to ../Data/processed/dataset2_processed/train/sad/images622.jpg\n"
     ]
    },
    {
     "name": "stderr",
     "output_type": "stream",
     "text": [
      "Processing files in ../Data/processed/dataset2/train/sad:  67%|██████▋   | 498/744 [00:40<00:12, 20.42it/s]"
     ]
    },
    {
     "name": "stdout",
     "output_type": "stream",
     "text": [
      "Copied image with face to ../Data/processed/dataset2_processed/train/sad/images623.jpg\n",
      "No faces found in image: ../Data/processed/dataset2/train/sad/images626.jpg\n",
      "Copied image with face to ../Data/processed/dataset2_processed/train/sad/images631.jpg\n",
      "No faces found in image: ../Data/processed/dataset2/train/sad/images634.jpg\n",
      "Copied image with face to ../Data/processed/dataset2_processed/train/sad/images64.jpg\n"
     ]
    },
    {
     "name": "stderr",
     "output_type": "stream",
     "text": [
      "Processing files in ../Data/processed/dataset2/train/sad:  67%|██████▋   | 501/744 [00:40<00:13, 18.02it/s]"
     ]
    },
    {
     "name": "stdout",
     "output_type": "stream",
     "text": [
      "Copied image with face to ../Data/processed/dataset2_processed/train/sad/images642.jpg\n",
      "Copied image with face to ../Data/processed/dataset2_processed/train/sad/images646.jpg\n",
      "No faces found in image: ../Data/processed/dataset2/train/sad/images647.jpg\n",
      "No faces found in image: ../Data/processed/dataset2/train/sad/images65.jpg\n",
      "No faces found in image: ../Data/processed/dataset2/train/sad/images651.jpg\n",
      "No faces found in image: ../Data/processed/dataset2/train/sad/images653.jpg\n"
     ]
    },
    {
     "name": "stderr",
     "output_type": "stream",
     "text": [
      "Processing files in ../Data/processed/dataset2/train/sad:  68%|██████▊   | 509/744 [00:40<00:10, 21.38it/s]"
     ]
    },
    {
     "name": "stdout",
     "output_type": "stream",
     "text": [
      "Copied image with face to ../Data/processed/dataset2_processed/train/sad/images656.jpg\n",
      "Copied image with face to ../Data/processed/dataset2_processed/train/sad/images660.jpg\n",
      "Copied image with face to ../Data/processed/dataset2_processed/train/sad/images661.jpg\n",
      "No faces found in image: ../Data/processed/dataset2/train/sad/images668.jpg\n",
      "No faces found in image: ../Data/processed/dataset2/train/sad/images669.jpg\n",
      "No faces found in image: ../Data/processed/dataset2/train/sad/images670.jpg\n"
     ]
    },
    {
     "name": "stderr",
     "output_type": "stream",
     "text": [
      "Processing files in ../Data/processed/dataset2/train/sad:  69%|██████▉   | 515/744 [00:41<00:10, 21.36it/s]"
     ]
    },
    {
     "name": "stdout",
     "output_type": "stream",
     "text": [
      "Copied image with face to ../Data/processed/dataset2_processed/train/sad/images672.jpg\n",
      "No faces found in image: ../Data/processed/dataset2/train/sad/images677.jpg\n",
      "Copied image with face to ../Data/processed/dataset2_processed/train/sad/images678.jpg\n",
      "Copied image with face to ../Data/processed/dataset2_processed/train/sad/images684.jpg\n"
     ]
    },
    {
     "name": "stderr",
     "output_type": "stream",
     "text": [
      "Processing files in ../Data/processed/dataset2/train/sad:  70%|██████▉   | 518/744 [00:41<00:12, 18.28it/s]"
     ]
    },
    {
     "name": "stdout",
     "output_type": "stream",
     "text": [
      "Copied image with face to ../Data/processed/dataset2_processed/train/sad/images69.jpg\n",
      "Copied image with face to ../Data/processed/dataset2_processed/train/sad/images7.jpg\n",
      "Copied image with face to ../Data/processed/dataset2_processed/train/sad/images71.jpg\n"
     ]
    },
    {
     "name": "stderr",
     "output_type": "stream",
     "text": [
      "Processing files in ../Data/processed/dataset2/train/sad:  70%|██████▉   | 520/744 [00:41<00:13, 16.98it/s]"
     ]
    },
    {
     "name": "stdout",
     "output_type": "stream",
     "text": [
      "Copied image with face to ../Data/processed/dataset2_processed/train/sad/images716.jpg\n",
      "Copied image with face to ../Data/processed/dataset2_processed/train/sad/images72.jpg\n",
      "Copied image with face to ../Data/processed/dataset2_processed/train/sad/images720.jpg\n"
     ]
    },
    {
     "name": "stderr",
     "output_type": "stream",
     "text": [
      "Processing files in ../Data/processed/dataset2/train/sad:  70%|███████   | 524/744 [00:41<00:14, 15.26it/s]"
     ]
    },
    {
     "name": "stdout",
     "output_type": "stream",
     "text": [
      "Copied image with face to ../Data/processed/dataset2_processed/train/sad/images722.jpg\n",
      "Copied image with face to ../Data/processed/dataset2_processed/train/sad/images727.jpg\n",
      "Copied image with face to ../Data/processed/dataset2_processed/train/sad/images738.jpg\n",
      "No faces found in image: ../Data/processed/dataset2/train/sad/images74.jpg\n"
     ]
    },
    {
     "name": "stderr",
     "output_type": "stream",
     "text": [
      "Processing files in ../Data/processed/dataset2/train/sad:  71%|███████   | 527/744 [00:41<00:13, 16.16it/s]"
     ]
    },
    {
     "name": "stdout",
     "output_type": "stream",
     "text": [
      "Copied image with face to ../Data/processed/dataset2_processed/train/sad/images744.jpg\n",
      "Copied image with face to ../Data/processed/dataset2_processed/train/sad/images748.jpg\n",
      "Copied image with face to ../Data/processed/dataset2_processed/train/sad/images750.jpg\n"
     ]
    },
    {
     "name": "stderr",
     "output_type": "stream",
     "text": [
      "Processing files in ../Data/processed/dataset2/train/sad:  72%|███████▏  | 532/744 [00:42<00:11, 18.05it/s]"
     ]
    },
    {
     "name": "stdout",
     "output_type": "stream",
     "text": [
      "Copied image with face to ../Data/processed/dataset2_processed/train/sad/images752.jpg\n",
      "Copied image with face to ../Data/processed/dataset2_processed/train/sad/images76.jpg\n",
      "No faces found in image: ../Data/processed/dataset2/train/sad/images760.jpg\n",
      "No faces found in image: ../Data/processed/dataset2/train/sad/images763.jpg\n",
      "No faces found in image: ../Data/processed/dataset2/train/sad/images765.jpg\n",
      "No faces found in image: ../Data/processed/dataset2/train/sad/images766.jpg\n",
      "No faces found in image: ../Data/processed/dataset2/train/sad/images769.jpg\n",
      "No faces found in image: ../Data/processed/dataset2/train/sad/images77.jpg\n"
     ]
    },
    {
     "name": "stderr",
     "output_type": "stream",
     "text": [
      "Processing files in ../Data/processed/dataset2/train/sad:  73%|███████▎  | 542/744 [00:42<00:07, 26.19it/s]"
     ]
    },
    {
     "name": "stdout",
     "output_type": "stream",
     "text": [
      "Copied image with face to ../Data/processed/dataset2_processed/train/sad/images773.jpg\n",
      "No faces found in image: ../Data/processed/dataset2/train/sad/images78.jpg\n",
      "No faces found in image: ../Data/processed/dataset2/train/sad/images781.jpg\n",
      "No faces found in image: ../Data/processed/dataset2/train/sad/images790.jpg\n",
      "No faces found in image: ../Data/processed/dataset2/train/sad/images80.jpg\n",
      "Copied image with face to ../Data/processed/dataset2_processed/train/sad/images807.jpg\n",
      "No faces found in image: ../Data/processed/dataset2/train/sad/images81.jpg\n"
     ]
    },
    {
     "name": "stderr",
     "output_type": "stream",
     "text": [
      "Processing files in ../Data/processed/dataset2/train/sad:  74%|███████▎  | 548/744 [00:42<00:07, 24.52it/s]"
     ]
    },
    {
     "name": "stdout",
     "output_type": "stream",
     "text": [
      "Copied image with face to ../Data/processed/dataset2_processed/train/sad/images812.jpg\n",
      "Copied image with face to ../Data/processed/dataset2_processed/train/sad/images815.jpg\n",
      "Copied image with face to ../Data/processed/dataset2_processed/train/sad/images817.jpg\n",
      "No faces found in image: ../Data/processed/dataset2/train/sad/images818.jpg\n",
      "No faces found in image: ../Data/processed/dataset2/train/sad/images825.jpg\n"
     ]
    },
    {
     "name": "stderr",
     "output_type": "stream",
     "text": [
      "Processing files in ../Data/processed/dataset2/train/sad:  74%|███████▍  | 551/744 [00:42<00:08, 22.67it/s]"
     ]
    },
    {
     "name": "stdout",
     "output_type": "stream",
     "text": [
      "Copied image with face to ../Data/processed/dataset2_processed/train/sad/images829.jpg\n",
      "No faces found in image: ../Data/processed/dataset2/train/sad/images830.jpg\n",
      "Copied image with face to ../Data/processed/dataset2_processed/train/sad/images84.jpg\n",
      "Copied image with face to ../Data/processed/dataset2_processed/train/sad/images840.jpg\n"
     ]
    },
    {
     "name": "stderr",
     "output_type": "stream",
     "text": [
      "Processing files in ../Data/processed/dataset2/train/sad:  74%|███████▍  | 554/744 [00:43<00:09, 19.09it/s]"
     ]
    },
    {
     "name": "stdout",
     "output_type": "stream",
     "text": [
      "Copied image with face to ../Data/processed/dataset2_processed/train/sad/images842.jpg\n",
      "Copied image with face to ../Data/processed/dataset2_processed/train/sad/images844.jpg\n",
      "Copied image with face to ../Data/processed/dataset2_processed/train/sad/images847.jpg\n"
     ]
    },
    {
     "name": "stderr",
     "output_type": "stream",
     "text": [
      "Processing files in ../Data/processed/dataset2/train/sad:  75%|███████▌  | 561/744 [00:43<00:08, 22.02it/s]"
     ]
    },
    {
     "name": "stdout",
     "output_type": "stream",
     "text": [
      "Copied image with face to ../Data/processed/dataset2_processed/train/sad/images852.jpg\n",
      "No faces found in image: ../Data/processed/dataset2/train/sad/images86.jpg\n",
      "No faces found in image: ../Data/processed/dataset2/train/sad/images88.jpg\n",
      "No faces found in image: ../Data/processed/dataset2/train/sad/images89.jpg\n",
      "No faces found in image: ../Data/processed/dataset2/train/sad/images9.jpg\n",
      "Copied image with face to ../Data/processed/dataset2_processed/train/sad/images92.jpg\n",
      "No faces found in image: ../Data/processed/dataset2/train/sad/images93.jpg\n"
     ]
    },
    {
     "name": "stderr",
     "output_type": "stream",
     "text": [
      "Processing files in ../Data/processed/dataset2/train/sad:  76%|███████▌  | 564/744 [00:43<00:07, 23.15it/s]"
     ]
    },
    {
     "name": "stdout",
     "output_type": "stream",
     "text": [
      "Copied image with face to ../Data/processed/dataset2_processed/train/sad/images97.jpg\n",
      "No faces found in image: ../Data/processed/dataset2/train/sad/images98.jpg\n",
      "No faces found in image: ../Data/processed/dataset2/train/sad/india-crying_1700415263014_1700415272795.jpg\n",
      "Copied image with face to ../Data/processed/dataset2_processed/train/sad/indian-actress-yami-gautam-crying-bqagsf3t66iv2jhg.jpg\n"
     ]
    },
    {
     "name": "stderr",
     "output_type": "stream",
     "text": [
      "Processing files in ../Data/processed/dataset2/train/sad:  76%|███████▌  | 567/744 [00:43<00:09, 18.67it/s]"
     ]
    },
    {
     "name": "stdout",
     "output_type": "stream",
     "text": [
      "Copied image with face to ../Data/processed/dataset2_processed/train/sad/indian-man-cries-sad-portrait-260nw-51223369.jpg\n",
      "Copied image with face to ../Data/processed/dataset2_processed/train/sad/indian-old-man-crying-like-baby_466689-95622.jpg\n",
      "No faces found in image: ../Data/processed/dataset2/train/sad/indian-rupee-cartoon-illustration-with-sad-face-vector.jpg\n"
     ]
    },
    {
     "name": "stderr",
     "output_type": "stream",
     "text": [
      "Processing files in ../Data/processed/dataset2/train/sad:  77%|███████▋  | 570/744 [00:44<00:12, 14.02it/s]"
     ]
    },
    {
     "name": "stdout",
     "output_type": "stream",
     "text": [
      "Copied image with face to ../Data/processed/dataset2_processed/train/sad/indian-woman-face-ko286bs4dm97rgs6.jpg\n",
      "Copied image with face to ../Data/processed/dataset2_processed/train/sad/indian-woman-is-sad-on-a-minimalist-neutral-background-ai-generative-photo.jpeg\n"
     ]
    },
    {
     "name": "stderr",
     "output_type": "stream",
     "text": [
      "Processing files in ../Data/processed/dataset2/train/sad:  77%|███████▋  | 572/744 [00:44<00:14, 11.65it/s]"
     ]
    },
    {
     "name": "stdout",
     "output_type": "stream",
     "text": [
      "No faces found in image: ../Data/processed/dataset2/train/sad/ing-emotions-sense-portrait-photography-human-positions-human-action-1005066.jpg\n",
      "Copied image with face to ../Data/processed/dataset2_processed/train/sad/ing-the-rain-and-drops-flow-down-the-glass-face-of-a-sad-girl-close-up-photo.jpg\n"
     ]
    },
    {
     "name": "stderr",
     "output_type": "stream",
     "text": [
      "Processing files in ../Data/processed/dataset2/train/sad:  77%|███████▋  | 574/744 [00:44<00:19,  8.70it/s]"
     ]
    },
    {
     "name": "stdout",
     "output_type": "stream",
     "text": [
      "Copied image with face to ../Data/processed/dataset2_processed/train/sad/k-tears-streaming-down-his-face-looks-lost-alone-head-hands-crying-283876278.jpg\n",
      "Copied image with face to ../Data/processed/dataset2_processed/train/sad/lbmFnZV9naXJsX2NyeV83NjczNmNjZi03YTRhLTQxMDctOTY5NS02OWI5ODI0ZjY1NDBfMS5qcGc.jpg\n"
     ]
    },
    {
     "name": "stderr",
     "output_type": "stream",
     "text": [
      "Processing files in ../Data/processed/dataset2/train/sad:  77%|███████▋  | 576/744 [00:44<00:18,  8.94it/s]"
     ]
    },
    {
     "name": "stdout",
     "output_type": "stream",
     "text": [
      "Copied image with face to ../Data/processed/dataset2_processed/train/sad/lbmFnZV9naXJsX2NyeV9lZjcxNTczZS1hYmUyLTQyOWQtYjY5NC0wZDA1YmEyZDk2MmFfMS5qcGc.jpg\n",
      "Copied image with face to ../Data/processed/dataset2_processed/train/sad/little-indian-boy-child-with-black-isolated-low-key-background-india-2GYRGXG.jpg\n"
     ]
    },
    {
     "name": "stderr",
     "output_type": "stream",
     "text": [
      "Processing files in ../Data/processed/dataset2/train/sad:  78%|███████▊  | 578/744 [00:45<00:19,  8.43it/s]"
     ]
    },
    {
     "name": "stdout",
     "output_type": "stream",
     "text": [
      "Copied image with face to ../Data/processed/dataset2_processed/train/sad/llustration-of-indian-aunty-sad-face-isolated-on-white-background-1521807173.jpg\n",
      "No faces found in image: ../Data/processed/dataset2/train/sad/llustration-of-indian-uncle-sad-face-isolated-on-white-background-1523979203.jpg\n"
     ]
    },
    {
     "name": "stderr",
     "output_type": "stream",
     "text": [
      "Processing files in ../Data/processed/dataset2/train/sad:  78%|███████▊  | 582/744 [00:45<00:19,  8.36it/s]"
     ]
    },
    {
     "name": "stdout",
     "output_type": "stream",
     "text": [
      "Copied image with face to ../Data/processed/dataset2_processed/train/sad/lone-sad-face-post-note-sitting-pain-grief-feeling-desperate-yellow-45726438.jpg\n",
      "Copied image with face to ../Data/processed/dataset2_processed/train/sad/lonely-depressed-person-sitting-near-brick-wall_181624-30778.jpg\n",
      "No faces found in image: ../Data/processed/dataset2/train/sad/lovepik-man-suffering-in-the-dark-sad-man-picture_501703654.jpg\n"
     ]
    },
    {
     "name": "stderr",
     "output_type": "stream",
     "text": [
      "Processing files in ../Data/processed/dataset2/train/sad:  78%|███████▊  | 583/744 [00:45<00:20,  7.85it/s]"
     ]
    },
    {
     "name": "stdout",
     "output_type": "stream",
     "text": [
      "Copied image with face to ../Data/processed/dataset2_processed/train/sad/lovepik-old-people-sad-png-image_401390676_wh1200.png\n",
      "No faces found in image: ../Data/processed/dataset2/train/sad/lovepik-sad-girl-element-png-image_401044207_wh1200.png\n"
     ]
    },
    {
     "name": "stderr",
     "output_type": "stream",
     "text": [
      "Processing files in ../Data/processed/dataset2/train/sad:  79%|███████▊  | 585/744 [00:46<00:19,  8.11it/s]"
     ]
    },
    {
     "name": "stdout",
     "output_type": "stream",
     "text": [
      "No faces found in image: ../Data/processed/dataset2/train/sad/lovepik-sad-sad-woman-png-image_401955160_wh1200.png\n",
      "No faces found in image: ../Data/processed/dataset2/train/sad/make-peace-poster-sad-ukrainian-260nw-2163858849.jpg\n",
      "No faces found in image: ../Data/processed/dataset2/train/sad/male-face-portrait-of-sad-bearded-man-outline-vector-45202101.jpg\n",
      "No faces found in image: ../Data/processed/dataset2/train/sad/man-1465525_640.jpg\n"
     ]
    },
    {
     "name": "stderr",
     "output_type": "stream",
     "text": [
      "Processing files in ../Data/processed/dataset2/train/sad:  79%|███████▉  | 589/744 [00:46<00:14, 10.43it/s]"
     ]
    },
    {
     "name": "stdout",
     "output_type": "stream",
     "text": [
      "Copied image with face to ../Data/processed/dataset2_processed/train/sad/man-8004816_1280.jpg\n",
      "Copied image with face to ../Data/processed/dataset2_processed/train/sad/man-915230_1280.jpg\n"
     ]
    },
    {
     "name": "stderr",
     "output_type": "stream",
     "text": [
      "Processing files in ../Data/processed/dataset2/train/sad:  80%|███████▉  | 593/744 [00:46<00:15,  9.84it/s]"
     ]
    },
    {
     "name": "stdout",
     "output_type": "stream",
     "text": [
      "Copied image with face to ../Data/processed/dataset2_processed/train/sad/man-making-sad-face-J0KA6G.jpg\n",
      "No faces found in image: ../Data/processed/dataset2/train/sad/man-tears-tear-look.jpg\n",
      "Copied image with face to ../Data/processed/dataset2_processed/train/sad/maxresdefault.jpg\n"
     ]
    },
    {
     "name": "stderr",
     "output_type": "stream",
     "text": [
      "Processing files in ../Data/processed/dataset2/train/sad:  80%|███████▉  | 595/744 [00:47<00:14, 10.49it/s]"
     ]
    },
    {
     "name": "stdout",
     "output_type": "stream",
     "text": [
      "No faces found in image: ../Data/processed/dataset2/train/sad/maxresdefault2.jpg\n",
      "No faces found in image: ../Data/processed/dataset2/train/sad/maxresdefault3.jpg\n"
     ]
    },
    {
     "name": "stderr",
     "output_type": "stream",
     "text": [
      "Processing files in ../Data/processed/dataset2/train/sad:  80%|████████  | 597/744 [00:47<00:18,  7.80it/s]"
     ]
    },
    {
     "name": "stdout",
     "output_type": "stream",
     "text": [
      "Copied image with face to ../Data/processed/dataset2_processed/train/sad/men-women-having-headache-multiethnic-human-face-expression-emotion-92268921.jpg\n",
      "Copied image with face to ../Data/processed/dataset2_processed/train/sad/n-and-depression-with-sad-and-exhausted-face-looking-miserable-and-me-W1FJKP.jpg\n"
     ]
    },
    {
     "name": "stderr",
     "output_type": "stream",
     "text": [
      "Processing files in ../Data/processed/dataset2/train/sad:  80%|████████  | 598/744 [00:47<00:18,  8.02it/s]"
     ]
    },
    {
     "name": "stdout",
     "output_type": "stream",
     "text": [
      "Copied image with face to ../Data/processed/dataset2_processed/train/sad/n-lose-weight-and-overweight-fat-people-diet-unhealthy-unhappy-concept-photo.jpg\n",
      "No faces found in image: ../Data/processed/dataset2/train/sad/n-rendering-frustrated-upset-man-sitting-white-people-man-character-53250684.jpg\n"
     ]
    },
    {
     "name": "stderr",
     "output_type": "stream",
     "text": [
      "Processing files in ../Data/processed/dataset2/train/sad:  81%|████████  | 601/744 [00:48<00:21,  6.72it/s]"
     ]
    },
    {
     "name": "stdout",
     "output_type": "stream",
     "text": [
      "No faces found in image: ../Data/processed/dataset2/train/sad/n-shoulders-worried-upset-stressed-monochrome-photography-facial-hair-778474.jpg\n",
      "Copied image with face to ../Data/processed/dataset2_processed/train/sad/ntrast-emotions-portrait-young-beautiful-expressing-different-high-211308606.jpg\n"
     ]
    },
    {
     "name": "stderr",
     "output_type": "stream",
     "text": [
      "Processing files in ../Data/processed/dataset2/train/sad:  81%|████████  | 602/744 [00:48<00:22,  6.42it/s]"
     ]
    },
    {
     "name": "stdout",
     "output_type": "stream",
     "text": [
      "No faces found in image: ../Data/processed/dataset2/train/sad/of-male-indian-cricket-sport-fan-with-painted-indian-flag-on-face-1425010256.jpg\n",
      "Copied image with face to ../Data/processed/dataset2_processed/train/sad/of-man-holding-a-card-with-sad-face-people-emotions-and-lifestyle-1305072355.jpg\n",
      "Copied image with face to ../Data/processed/dataset2_processed/train/sad/oman-pensive-face-looking-away-longing-thinking-of-problems-alone-1606120177.jpg\n",
      "No faces found in image: ../Data/processed/dataset2/train/sad/on-mode-emotion-on-white-background-sad-crying-standing-and-in-eye-photo.JPG.jpg\n",
      "Copied image with face to ../Data/processed/dataset2_processed/train/sad/on-poor-hungry-hunger-jobless-b-w-homelessness-monochrome-photography-710812.jpg\n",
      "Copied image with face to ../Data/processed/dataset2_processed/train/sad/one-dark-room-sad-woman-close-her-face-cry-sad-woman-sitting-alone-174830116.jpg\n",
      "Copied image with face to ../Data/processed/dataset2_processed/train/sad/oodie-crying-clothing-mouth-with-hand-feeling-depressed-crushed_176420-10896.jpg\n",
      "No faces found in image: ../Data/processed/dataset2/train/sad/orrow-and-emotional-pain-in-people-human-emotions-face-expressions-an-RGKX1F.jpg\n",
      "Copied image with face to ../Data/processed/dataset2_processed/train/sad/orrow-and-emotional-pain-in-people-human-emotions-face-expressions-an-W1FEJE.jpg\n",
      "No faces found in image: ../Data/processed/dataset2/train/sad/oung-indian-woman-hide-face-in-hands-suffer-from-mental-stress-life-problems.jpg\n",
      "Copied image with face to ../Data/processed/dataset2_processed/train/sad/p066ssgd.jpg\n",
      "Copied image with face to ../Data/processed/dataset2_processed/train/sad/people-1398598376zDo.jpg\n",
      "No faces found in image: ../Data/processed/dataset2/train/sad/people-2430065_1280.jpg\n",
      "Copied image with face to ../Data/processed/dataset2_processed/train/sad/people-s-facial-emotion-expression-happy-sad-shocked-scared-angry-2256797843.jpg\n"
     ]
    },
    {
     "name": "stderr",
     "output_type": "stream",
     "text": [
      "Processing files in ../Data/processed/dataset2/train/sad:  83%|████████▎ | 616/744 [00:48<00:07, 17.66it/s]"
     ]
    },
    {
     "name": "stdout",
     "output_type": "stream",
     "text": [
      "Copied image with face to ../Data/processed/dataset2_processed/train/sad/pexels-photo-13396575.jpeg\n",
      "Copied image with face to ../Data/processed/dataset2_processed/train/sad/pexels-photo-14105480.jpeg\n"
     ]
    },
    {
     "name": "stderr",
     "output_type": "stream",
     "text": [
      "Processing files in ../Data/processed/dataset2/train/sad:  83%|████████▎ | 618/744 [00:49<00:15,  8.24it/s]"
     ]
    },
    {
     "name": "stdout",
     "output_type": "stream",
     "text": [
      "No faces found in image: ../Data/processed/dataset2/train/sad/pexels-photo-207129.jpeg\n",
      "Copied image with face to ../Data/processed/dataset2_processed/train/sad/pexels-photo-3769730.jpeg\n"
     ]
    },
    {
     "name": "stderr",
     "output_type": "stream",
     "text": [
      "Processing files in ../Data/processed/dataset2/train/sad:  84%|████████▎ | 623/744 [00:52<00:28,  4.20it/s]"
     ]
    },
    {
     "name": "stdout",
     "output_type": "stream",
     "text": [
      "Copied image with face to ../Data/processed/dataset2_processed/train/sad/pexels-photo-3905727.jpeg\n",
      "No faces found in image: ../Data/processed/dataset2/train/sad/photo-portrait-loneliness-alone-depression-sadness-people_763111-88610.jpg\n",
      "No faces found in image: ../Data/processed/dataset2/train/sad/png-clipart-face-sadness-drawing-s-of-sad-people-food-face.png\n",
      "No faces found in image: ../Data/processed/dataset2/train/sad/png-clipart-face-sadness-smiley-emoticon-sad-emoji-people-desktop-wallpaper.png\n",
      "No faces found in image: ../Data/processed/dataset2/train/sad/png-clipart-sad-man-face-monochrome.png\n"
     ]
    },
    {
     "name": "stderr",
     "output_type": "stream",
     "text": [
      "Processing files in ../Data/processed/dataset2/train/sad:  84%|████████▍ | 627/744 [00:52<00:20,  5.69it/s]"
     ]
    },
    {
     "name": "stdout",
     "output_type": "stream",
     "text": [
      "No faces found in image: ../Data/processed/dataset2/train/sad/png-transparent-cartoon-sad-man-comics-face-people.png\n",
      "No faces found in image: ../Data/processed/dataset2/train/sad/png-transparent-face-sadness-smiley-sad-face-people-desktop-wallpaper-emoticon.png\n",
      "No faces found in image: ../Data/processed/dataset2/train/sad/png-transparent-portrait-graphy-portrait-graphy-sadness-woman-photography-people-adult.png\n"
     ]
    },
    {
     "name": "stderr",
     "output_type": "stream",
     "text": [
      "Processing files in ../Data/processed/dataset2/train/sad:  85%|████████▍ | 629/744 [00:52<00:17,  6.49it/s]"
     ]
    },
    {
     "name": "stdout",
     "output_type": "stream",
     "text": [
      "No faces found in image: ../Data/processed/dataset2/train/sad/png-transparent-sadness-face-computer-icons-man-crying-face-face-text-people.png\n",
      "No faces found in image: ../Data/processed/dataset2/train/sad/pngtree-cute-sad-face-png-image_13081250.png\n",
      "No faces found in image: ../Data/processed/dataset2/train/sad/pngtree-sad-child-with-tears-on-his-face-picture-image_2459462.jpg\n"
     ]
    },
    {
     "name": "stderr",
     "output_type": "stream",
     "text": [
      "Processing files in ../Data/processed/dataset2/train/sad:  85%|████████▌ | 633/744 [00:53<00:13,  8.18it/s]"
     ]
    },
    {
     "name": "stdout",
     "output_type": "stream",
     "text": [
      "No faces found in image: ../Data/processed/dataset2/train/sad/pngtree-sad-face-girl-png-image_8545045.png\n",
      "No faces found in image: ../Data/processed/dataset2/train/sad/pngtree-sad-girl-face-drawing-vector-png-image_9182514.png\n",
      "No faces found in image: ../Data/processed/dataset2/train/sad/pngtree-sad-man-expression-people-face-vector-png-image_37170820.png\n"
     ]
    },
    {
     "name": "stderr",
     "output_type": "stream",
     "text": [
      "Processing files in ../Data/processed/dataset2/train/sad:  85%|████████▌ | 635/744 [00:53<00:13,  8.16it/s]"
     ]
    },
    {
     "name": "stdout",
     "output_type": "stream",
     "text": [
      "No faces found in image: ../Data/processed/dataset2/train/sad/pngtree-sad-man-face-person-doodle-picture-image_7814376.png\n",
      "Copied image with face to ../Data/processed/dataset2_processed/train/sad/pngtree-sad-man-is-holding-his-face-and-is-holding-his-head-picture-image_3160446.jpg\n"
     ]
    },
    {
     "name": "stderr",
     "output_type": "stream",
     "text": [
      "Processing files in ../Data/processed/dataset2/train/sad:  86%|████████▌ | 637/744 [00:53<00:12,  8.35it/s]"
     ]
    },
    {
     "name": "stdout",
     "output_type": "stream",
     "text": [
      "No faces found in image: ../Data/processed/dataset2/train/sad/pngtree-sad-woman-with-tears-over-her-face-picture-image_2474407.jpg\n",
      "Copied image with face to ../Data/processed/dataset2_processed/train/sad/pngtree-woman-is-crying-in-the-rain-picture-image_2478872.jpg\n"
     ]
    },
    {
     "name": "stderr",
     "output_type": "stream",
     "text": [
      "Processing files in ../Data/processed/dataset2/train/sad:  86%|████████▌ | 639/744 [00:54<00:14,  7.23it/s]"
     ]
    },
    {
     "name": "stdout",
     "output_type": "stream",
     "text": [
      "Copied image with face to ../Data/processed/dataset2_processed/train/sad/pngtree-young-woman-with-a-sad-face-picture-image_2770999.jpg\n",
      "Copied image with face to ../Data/processed/dataset2_processed/train/sad/portrait-clean-shaved-young-south-indian-man-sad-face-expression-191299765.jpg\n"
     ]
    },
    {
     "name": "stderr",
     "output_type": "stream",
     "text": [
      "Processing files in ../Data/processed/dataset2/train/sad:  86%|████████▋ | 643/744 [00:54<00:10, 10.00it/s]"
     ]
    },
    {
     "name": "stdout",
     "output_type": "stream",
     "text": [
      "Copied image with face to ../Data/processed/dataset2_processed/train/sad/portrait-crying-baby-boy-260nw-1099780016.jpg\n",
      "Copied image with face to ../Data/processed/dataset2_processed/train/sad/portrait-crying-baby-boy-600nw-1099780019.jpg\n",
      "Copied image with face to ../Data/processed/dataset2_processed/train/sad/portrait-cute-indian-child-crying-600w-117486892.jpg\n",
      "No faces found in image: ../Data/processed/dataset2/train/sad/portrait-lonely-sad-woman_23-2151263207.jpg\n"
     ]
    },
    {
     "name": "stderr",
     "output_type": "stream",
     "text": [
      "Processing files in ../Data/processed/dataset2/train/sad:  87%|████████▋ | 645/744 [00:54<00:09, 10.29it/s]"
     ]
    },
    {
     "name": "stdout",
     "output_type": "stream",
     "text": [
      "No faces found in image: ../Data/processed/dataset2/train/sad/portrait-of-a-sad-indian-senior-womanhaving-wrinkles-on-her-face-2FA4JD6.jpg\n",
      "Copied image with face to ../Data/processed/dataset2_processed/train/sad/portrait-of-young-adult-crying-indian-woman-in-t-shirt-2GJWD01.jpg\n"
     ]
    },
    {
     "name": "stderr",
     "output_type": "stream",
     "text": [
      "Processing files in ../Data/processed/dataset2/train/sad:  87%|████████▋ | 647/744 [00:54<00:08, 10.94it/s]"
     ]
    },
    {
     "name": "stdout",
     "output_type": "stream",
     "text": [
      "Copied image with face to ../Data/processed/dataset2_processed/train/sad/portrait-sad-man-3519925.jpg\n",
      "No faces found in image: ../Data/processed/dataset2/train/sad/portrait-sad-man_23-2150943364.jpg\n",
      "Copied image with face to ../Data/processed/dataset2_processed/train/sad/redhead-middle-aged-woman-making-sad-face-looking-camera-reluctant-197905947.jpg\n"
     ]
    },
    {
     "name": "stderr",
     "output_type": "stream",
     "text": [
      "Processing files in ../Data/processed/dataset2/train/sad:  87%|████████▋ | 649/744 [00:54<00:09,  9.96it/s]"
     ]
    },
    {
     "name": "stdout",
     "output_type": "stream",
     "text": [
      "Copied image with face to ../Data/processed/dataset2_processed/train/sad/relationship-near-window-with-raindrops-female-received-bad-news_122732-2977.jpg\n",
      "Copied image with face to ../Data/processed/dataset2_processed/train/sad/ricket-sport-fan-with-painted-indian-flag-on-face-isolated-background-TDG7EG.jpg\n"
     ]
    },
    {
     "name": "stderr",
     "output_type": "stream",
     "text": [
      "Processing files in ../Data/processed/dataset2/train/sad:  88%|████████▊ | 653/744 [00:55<00:08, 10.34it/s]"
     ]
    },
    {
     "name": "stdout",
     "output_type": "stream",
     "text": [
      "Copied image with face to ../Data/processed/dataset2_processed/train/sad/Ritika-Sajdeh-Break-Down-After-India-Lost-World-Cup-2023-Photos-Social-Media.jpg\n",
      "Copied image with face to ../Data/processed/dataset2_processed/train/sad/Rohit-Sharma-crictoday-.jpg\n",
      "No faces found in image: ../Data/processed/dataset2/train/sad/round-sad-expression-covering-face-hands-crying-depression-concept-317943733.jpg\n"
     ]
    },
    {
     "name": "stderr",
     "output_type": "stream",
     "text": [
      "Processing files in ../Data/processed/dataset2/train/sad:  88%|████████▊ | 655/744 [00:55<00:08,  9.99it/s]"
     ]
    },
    {
     "name": "stdout",
     "output_type": "stream",
     "text": [
      "Copied image with face to ../Data/processed/dataset2_processed/train/sad/round-sad-expression-covering-face-hands-crying-depression-concept-3179437332.jpg\n",
      "Copied image with face to ../Data/processed/dataset2_processed/train/sad/sad-3543631_1280.jpg\n",
      "No faces found in image: ../Data/processed/dataset2/train/sad/sad-cartoon-face-negative-people-emotion-icon-vector-15173761.jpg\n",
      "No faces found in image: ../Data/processed/dataset2/train/sad/sad-cartoon-face-negative-people-emotion-icon-vector-15173883.jpg\n"
     ]
    },
    {
     "name": "stderr",
     "output_type": "stream",
     "text": [
      "Processing files in ../Data/processed/dataset2/train/sad:  88%|████████▊ | 658/744 [00:55<00:06, 12.58it/s]"
     ]
    },
    {
     "name": "stdout",
     "output_type": "stream",
     "text": [
      "No faces found in image: ../Data/processed/dataset2/train/sad/sad-crying-emoji-emoticon-icon-cartoon-character-TDAYBR.jpg\n",
      "Copied image with face to ../Data/processed/dataset2_processed/train/sad/sad-face-little-asian-girl-people-emotion-concept-60533544.jpg\n"
     ]
    },
    {
     "name": "stderr",
     "output_type": "stream",
     "text": [
      "Processing files in ../Data/processed/dataset2/train/sad:  89%|████████▊ | 660/744 [00:56<00:11,  7.04it/s]"
     ]
    },
    {
     "name": "stdout",
     "output_type": "stream",
     "text": [
      "Copied image with face to ../Data/processed/dataset2_processed/train/sad/sad-face-one-head-singing-stress-moment-moment-of-sadness-facial-hair-688611.jpg\n",
      "Copied image with face to ../Data/processed/dataset2_processed/train/sad/sad-face-pictures-1200-x-1697-5po6v8vsk4ux6c1o.jpg\n"
     ]
    },
    {
     "name": "stderr",
     "output_type": "stream",
     "text": [
      "Processing files in ../Data/processed/dataset2/train/sad:  89%|████████▉ | 663/744 [00:57<00:16,  4.92it/s]"
     ]
    },
    {
     "name": "stdout",
     "output_type": "stream",
     "text": [
      "Copied image with face to ../Data/processed/dataset2_processed/train/sad/sad-face.jpg\n",
      "Copied image with face to ../Data/processed/dataset2_processed/train/sad/sad-girl-cartoon-drawing-e6blk772u2ghfxw2.jpg\n"
     ]
    },
    {
     "name": "stderr",
     "output_type": "stream",
     "text": [
      "Processing files in ../Data/processed/dataset2/train/sad:  89%|████████▉ | 665/744 [00:57<00:12,  6.35it/s]"
     ]
    },
    {
     "name": "stdout",
     "output_type": "stream",
     "text": [
      "No faces found in image: ../Data/processed/dataset2/train/sad/sad-girl-covering-face-gcz8v2weob1h3d70.jpg\n",
      "No faces found in image: ../Data/processed/dataset2/train/sad/sad-girl-crying-with-face-expression-vector-43884807.jpg\n",
      "No faces found in image: ../Data/processed/dataset2/train/sad/Sad-Girl-Face-Drawing-Beautiful-Image.jpg\n"
     ]
    },
    {
     "name": "stderr",
     "output_type": "stream",
     "text": [
      "Processing files in ../Data/processed/dataset2/train/sad:  90%|████████▉ | 667/744 [00:57<00:10,  7.11it/s]"
     ]
    },
    {
     "name": "stdout",
     "output_type": "stream",
     "text": [
      "Copied image with face to ../Data/processed/dataset2_processed/train/sad/sad-girl-face-vector.jpg\n",
      "Copied image with face to ../Data/processed/dataset2_processed/train/sad/sad-girl-face-young-woman-cute-upset-89283642.jpg\n"
     ]
    },
    {
     "name": "stderr",
     "output_type": "stream",
     "text": [
      "Processing files in ../Data/processed/dataset2/train/sad:  90%|█████████ | 671/744 [00:57<00:08,  8.23it/s]"
     ]
    },
    {
     "name": "stdout",
     "output_type": "stream",
     "text": [
      "Copied image with face to ../Data/processed/dataset2_processed/train/sad/sad-girl-in-hoodie-with-face-hidden-sitting-alone-on-a-wall-in-despair-EF7BXA.jpg\n",
      "No faces found in image: ../Data/processed/dataset2/train/sad/sad-girl-sitting-alone-on-playground-covering-her-face-JFEF00928.jpg\n",
      "No faces found in image: ../Data/processed/dataset2/train/sad/sad-girl-with-face-expression-vector-43852223.jpg\n"
     ]
    },
    {
     "name": "stderr",
     "output_type": "stream",
     "text": [
      "Processing files in ../Data/processed/dataset2/train/sad:  90%|█████████ | 673/744 [00:58<00:09,  7.78it/s]"
     ]
    },
    {
     "name": "stdout",
     "output_type": "stream",
     "text": [
      "Copied image with face to ../Data/processed/dataset2_processed/train/sad/sad-group-people-problems-17033671.jpg\n",
      "Copied image with face to ../Data/processed/dataset2_processed/train/sad/sad-indian-girl-child-S1T21P.jpg\n"
     ]
    },
    {
     "name": "stderr",
     "output_type": "stream",
     "text": [
      "Processing files in ../Data/processed/dataset2/train/sad:  91%|█████████ | 675/744 [00:58<00:07,  9.02it/s]"
     ]
    },
    {
     "name": "stdout",
     "output_type": "stream",
     "text": [
      "Copied image with face to ../Data/processed/dataset2_processed/train/sad/sad-lonely-girl-portrait-urban-street-black-teenager-city-169987253.jpg\n",
      "No faces found in image: ../Data/processed/dataset2/train/sad/sad-lonely-pensive-old-senior-woman-12781694.jpg\n",
      "No faces found in image: ../Data/processed/dataset2/train/sad/sad-looking-person-with-sad-face-his-head_1083198-4218.jpg\n"
     ]
    },
    {
     "name": "stderr",
     "output_type": "stream",
     "text": [
      "Processing files in ../Data/processed/dataset2/train/sad:  91%|█████████ | 677/744 [00:58<00:07,  9.24it/s]"
     ]
    },
    {
     "name": "stdout",
     "output_type": "stream",
     "text": [
      "Copied image with face to ../Data/processed/dataset2_processed/train/sad/sad-man-1239005.jpg\n",
      "Copied image with face to ../Data/processed/dataset2_processed/train/sad/sad-man-crying-3647691.jpg\n"
     ]
    },
    {
     "name": "stderr",
     "output_type": "stream",
     "text": [
      "Processing files in ../Data/processed/dataset2/train/sad:  91%|█████████▏| 679/744 [00:58<00:07,  8.72it/s]"
     ]
    },
    {
     "name": "stdout",
     "output_type": "stream",
     "text": [
      "Copied image with face to ../Data/processed/dataset2_processed/train/sad/sad-man-face-image-portrait-photo.jpg\n",
      "Copied image with face to ../Data/processed/dataset2_processed/train/sad/sad-man-flat-icon-vector-12545950.jpg\n"
     ]
    },
    {
     "name": "stderr",
     "output_type": "stream",
     "text": [
      "Processing files in ../Data/processed/dataset2/train/sad:  92%|█████████▏| 683/744 [00:59<00:06,  9.54it/s]"
     ]
    },
    {
     "name": "stdout",
     "output_type": "stream",
     "text": [
      "Copied image with face to ../Data/processed/dataset2_processed/train/sad/sad-man-huge-face-desperate-37978606.jpg\n",
      "No faces found in image: ../Data/processed/dataset2/train/sad/sad-man-in-hood-cover-face-with-hands-isolated-in-black-2DYXJJW.jpg\n",
      "No faces found in image: ../Data/processed/dataset2/train/sad/sad-man-in-the-shadows.jpg\n"
     ]
    },
    {
     "name": "stderr",
     "output_type": "stream",
     "text": [
      "Processing files in ../Data/processed/dataset2/train/sad:  92%|█████████▏| 685/744 [00:59<00:06,  8.98it/s]"
     ]
    },
    {
     "name": "stdout",
     "output_type": "stream",
     "text": [
      "No faces found in image: ../Data/processed/dataset2/train/sad/Sad-Man-Painting-70524951-1.png\n",
      "Copied image with face to ../Data/processed/dataset2_processed/train/sad/sad-man-pictures-kjxgtb0t0ijlimlj.jpg\n"
     ]
    },
    {
     "name": "stderr",
     "output_type": "stream",
     "text": [
      "Processing files in ../Data/processed/dataset2/train/sad:  92%|█████████▏| 687/744 [00:59<00:06,  8.55it/s]"
     ]
    },
    {
     "name": "stdout",
     "output_type": "stream",
     "text": [
      "Copied image with face to ../Data/processed/dataset2_processed/train/sad/sad-man-sketch-vector-41286959.jpg\n",
      "Copied image with face to ../Data/processed/dataset2_processed/train/sad/sad-man-with-ash-and-dirt-on-face-VEGF05026.jpg\n"
     ]
    },
    {
     "name": "stderr",
     "output_type": "stream",
     "text": [
      "Processing files in ../Data/processed/dataset2/train/sad:  93%|█████████▎| 691/744 [01:00<00:04, 11.43it/s]"
     ]
    },
    {
     "name": "stdout",
     "output_type": "stream",
     "text": [
      "Copied image with face to ../Data/processed/dataset2_processed/train/sad/sad-people-hold-fake-face-mask-free-vector.jpg\n",
      "No faces found in image: ../Data/processed/dataset2/train/sad/sad-people-hold-fake-face-masks-with-smiles-free-vector.jpg\n",
      "No faces found in image: ../Data/processed/dataset2/train/sad/sad-person-pictures-1244-x-700-d5qlcdhnuu8jd0og.jpg\n",
      "No faces found in image: ../Data/processed/dataset2/train/sad/sad-person-pictures-1920-x-1200-qq00l14kkjed5hew.jpg\n"
     ]
    },
    {
     "name": "stderr",
     "output_type": "stream",
     "text": [
      "Processing files in ../Data/processed/dataset2/train/sad:  93%|█████████▎| 693/744 [01:00<00:06,  8.09it/s]"
     ]
    },
    {
     "name": "stdout",
     "output_type": "stream",
     "text": [
      "Copied image with face to ../Data/processed/dataset2_processed/train/sad/sad-person-pictures-1920-x-1270-5jatnx06kaizb3sc.jpg\n",
      "No faces found in image: ../Data/processed/dataset2/train/sad/sad-person-pictures-2560-x-1707-a8ginomrbkhyh3ri.jpg\n"
     ]
    },
    {
     "name": "stderr",
     "output_type": "stream",
     "text": [
      "Processing files in ../Data/processed/dataset2/train/sad:  93%|█████████▎| 695/744 [01:00<00:05,  9.33it/s]"
     ]
    },
    {
     "name": "stdout",
     "output_type": "stream",
     "text": [
      "No faces found in image: ../Data/processed/dataset2/train/sad/sad-person-pictures-2bnso9uiwlhrikrx.jpg\n",
      "No faces found in image: ../Data/processed/dataset2/train/sad/sad-pic-for-girl.jpg\n",
      "No faces found in image: ../Data/processed/dataset2/train/sad/sad-pictures-2dxdhaurz63m9e7x.jpg\n"
     ]
    },
    {
     "name": "stderr",
     "output_type": "stream",
     "text": [
      "Processing files in ../Data/processed/dataset2/train/sad:  94%|█████████▍| 699/744 [01:01<00:04,  9.49it/s]"
     ]
    },
    {
     "name": "stdout",
     "output_type": "stream",
     "text": [
      "Copied image with face to ../Data/processed/dataset2_processed/train/sad/sad-unhappy-man-face-crying-people-emotional-expressions-78651321.jpg\n",
      "No faces found in image: ../Data/processed/dataset2/train/sad/sad-woman-close-her-face-and-cry-sad-woman-sitting-alone-in-a-dark-room-2BBXPYA.jpg\n",
      "Copied image with face to ../Data/processed/dataset2_processed/train/sad/sad-woman-crying_812426-328516.jpg\n",
      "No faces found in image: ../Data/processed/dataset2/train/sad/sad-woman-crying_812426-330531.jpg\n"
     ]
    },
    {
     "name": "stderr",
     "output_type": "stream",
     "text": [
      "Processing files in ../Data/processed/dataset2/train/sad:  94%|█████████▍| 703/744 [01:01<00:03, 10.73it/s]"
     ]
    },
    {
     "name": "stdout",
     "output_type": "stream",
     "text": [
      "Copied image with face to ../Data/processed/dataset2_processed/train/sad/sad-young-woman-teardrop-stickers-600nw-2207989077.jpg\n",
      "Copied image with face to ../Data/processed/dataset2_processed/train/sad/sadness-girl-face-vector-8808905.jpg\n",
      "No faces found in image: ../Data/processed/dataset2/train/sad/Sad_Girl_Face-Girl_Photo_Wallpaper_1920x1200.jpg\n"
     ]
    },
    {
     "name": "stderr",
     "output_type": "stream",
     "text": [
      "Processing files in ../Data/processed/dataset2/train/sad:  95%|█████████▍| 705/744 [01:01<00:03, 11.82it/s]"
     ]
    },
    {
     "name": "stdout",
     "output_type": "stream",
     "text": [
      "No faces found in image: ../Data/processed/dataset2/train/sad/set-sad-emoticons-face-of-people-fear-shock-vector-14906136.jpg\n",
      "Copied image with face to ../Data/processed/dataset2_processed/train/sad/sick-frustrated-sad-young-indian-600nw-1606120144.jpg\n",
      "No faces found in image: ../Data/processed/dataset2/train/sad/side-view-man-washing-his-face_23-2149687768.jpg\n",
      "No faces found in image: ../Data/processed/dataset2/train/sad/sketch-man-male-sad-face-vector-14142650.jpg\n"
     ]
    },
    {
     "name": "stderr",
     "output_type": "stream",
     "text": [
      "Processing files in ../Data/processed/dataset2/train/sad:  95%|█████████▌| 710/744 [01:01<00:02, 14.09it/s]"
     ]
    },
    {
     "name": "stdout",
     "output_type": "stream",
     "text": [
      "Copied image with face to ../Data/processed/dataset2_processed/train/sad/solated-on-white-background-line-icons-emoticons-happy-and-unhappy-391280212.jpg\n",
      "No faces found in image: ../Data/processed/dataset2/train/sad/South-indian-man-illustration-with-sad-face-28-large.jpg\n",
      "No faces found in image: ../Data/processed/dataset2/train/sad/South-indian-woman-illustration-with-sad-face-27-large.jpg\n"
     ]
    },
    {
     "name": "stderr",
     "output_type": "stream",
     "text": [
      "Processing files in ../Data/processed/dataset2/train/sad:  96%|█████████▌| 712/744 [01:02<00:02, 11.13it/s]"
     ]
    },
    {
     "name": "stdout",
     "output_type": "stream",
     "text": [
      "No faces found in image: ../Data/processed/dataset2/train/sad/stock-photo-a-sad-girl-in-a-face-mask-looks-out-the-window-from-home-1757815778.jpg\n",
      "No faces found in image: ../Data/processed/dataset2/train/sad/stock-photo-half-face-portrait-of-sad-girl-49302442.jpg\n"
     ]
    },
    {
     "name": "stderr",
     "output_type": "stream",
     "text": [
      "Processing files in ../Data/processed/dataset2/train/sad:  96%|█████████▌| 714/744 [01:02<00:03,  9.15it/s]"
     ]
    },
    {
     "name": "stdout",
     "output_type": "stream",
     "text": [
      "Copied image with face to ../Data/processed/dataset2_processed/train/sad/stock-photo-many-sad-faces-from-our-group-of-six-people-51922987.jpg\n",
      "Copied image with face to ../Data/processed/dataset2_processed/train/sad/stock-photo-sad-and-depressed-young-indian-girl-crying-face-expression-2306852485.jpg\n",
      "No faces found in image: ../Data/processed/dataset2/train/sad/stock-photo-sad-face-of-young-guy-man-cry-with-tears-black-and-white-photo-85539628.jpg\n"
     ]
    },
    {
     "name": "stderr",
     "output_type": "stream",
     "text": [
      "Processing files in ../Data/processed/dataset2/train/sad:  96%|█████████▌| 716/744 [01:02<00:03,  8.17it/s]"
     ]
    },
    {
     "name": "stdout",
     "output_type": "stream",
     "text": [
      "Copied image with face to ../Data/processed/dataset2_processed/train/sad/stock-photo-set-of-diversity-people-sad-face-expression-emotion-studio-collage-657494353.jpg\n"
     ]
    },
    {
     "name": "stderr",
     "output_type": "stream",
     "text": [
      "Processing files in ../Data/processed/dataset2/train/sad:  97%|█████████▋| 718/744 [01:03<00:03,  7.07it/s]"
     ]
    },
    {
     "name": "stdout",
     "output_type": "stream",
     "text": [
      "Copied image with face to ../Data/processed/dataset2_processed/train/sad/stock-photo-set-of-diversity-people-sad-face-expression-emotion-studio-collage-714162892.jpg\n",
      "Copied image with face to ../Data/processed/dataset2_processed/train/sad/stock-vector-student-girl-with-sad-face-cartoon-character-illustration-2211992413.jpg\n"
     ]
    },
    {
     "name": "stderr",
     "output_type": "stream",
     "text": [
      "Processing files in ../Data/processed/dataset2/train/sad:  97%|█████████▋| 720/744 [01:03<00:03,  7.66it/s]"
     ]
    },
    {
     "name": "stdout",
     "output_type": "stream",
     "text": [
      "No faces found in image: ../Data/processed/dataset2/train/sad/stration-isolated-on-white-for-avatar-stickers-print-and-design-post-2FKYJP3.jpg\n",
      "No faces found in image: ../Data/processed/dataset2/train/sad/s_with_his_face_down_while_there_is_war_around_him_and_soliders_are_upscaled.jpg\n"
     ]
    },
    {
     "name": "stderr",
     "output_type": "stream",
     "text": [
      "Processing files in ../Data/processed/dataset2/train/sad:  97%|█████████▋| 722/744 [01:03<00:02,  7.69it/s]"
     ]
    },
    {
     "name": "stdout",
     "output_type": "stream",
     "text": [
      "Copied image with face to ../Data/processed/dataset2_processed/train/sad/t-female-people-with-sadness-people-and-mental-burnout-problems-life-2R1PEPE.jpg\n",
      "Copied image with face to ../Data/processed/dataset2_processed/train/sad/tbroken-depression-get-the-bad-news-to-suffer-broken-heart-get-upset-2HG00W6.jpg\n",
      "No faces found in image: ../Data/processed/dataset2/train/sad/tears-mohammed-baqer.jpg\n"
     ]
    },
    {
     "name": "stderr",
     "output_type": "stream",
     "text": [
      "Processing files in ../Data/processed/dataset2/train/sad:  98%|█████████▊| 726/744 [01:03<00:01,  9.40it/s]"
     ]
    },
    {
     "name": "stdout",
     "output_type": "stream",
     "text": [
      "Copied image with face to ../Data/processed/dataset2_processed/train/sad/the-sad-man-and-face-closeup-R5HNH7.jpg\n",
      "No faces found in image: ../Data/processed/dataset2/train/sad/toddler-face-for-avatar-or-stickers-cute-boy-portrait-with-brown-eyes-vector.jpg\n",
      "No faces found in image: ../Data/processed/dataset2/train/sad/tyle-illustration-man-in-a-sad-face-feeling-guilty-crying-stock-image-vector.jpg\n"
     ]
    },
    {
     "name": "stderr",
     "output_type": "stream",
     "text": [
      "Processing files in ../Data/processed/dataset2/train/sad:  98%|█████████▊| 728/744 [01:04<00:01,  8.18it/s]"
     ]
    },
    {
     "name": "stdout",
     "output_type": "stream",
     "text": [
      "Copied image with face to ../Data/processed/dataset2_processed/train/sad/ul-girl-with-sad-green-eyes-and-frowning-face-teenager-in-a-sad-mood-2DAK3CJ.jpg\n",
      "Copied image with face to ../Data/processed/dataset2_processed/train/sad/ul-girl-with-sad-green-eyes-and-frowning-face-teenager-in-a-sad-mood-2DAK3CK.jpg\n"
     ]
    },
    {
     "name": "stderr",
     "output_type": "stream",
     "text": [
      "Processing files in ../Data/processed/dataset2/train/sad:  98%|█████████▊| 730/744 [01:04<00:01,  7.83it/s]"
     ]
    },
    {
     "name": "stdout",
     "output_type": "stream",
     "text": [
      "Copied image with face to ../Data/processed/dataset2_processed/train/sad/WhatsApp_Image_2020-05-16_at_2.10_.59_PM_.jpg\n",
      "Copied image with face to ../Data/processed/dataset2_processed/train/sad/white-background-black-white-photo-free-sad-man-hands-face-sadness-104504856.jpg\n"
     ]
    },
    {
     "name": "stderr",
     "output_type": "stream",
     "text": [
      "Processing files in ../Data/processed/dataset2/train/sad:  99%|█████████▊| 733/744 [01:04<00:01,  9.09it/s]"
     ]
    },
    {
     "name": "stdout",
     "output_type": "stream",
     "text": [
      "Copied image with face to ../Data/processed/dataset2_processed/train/sad/woman-7203790_1280.jpg\n",
      "No faces found in image: ../Data/processed/dataset2/train/sad/woman-covering-her-face-with-her-hand-depression-KGXHPG.jpg\n",
      "No faces found in image: ../Data/processed/dataset2/train/sad/woman-crying-7253309.jpg\n"
     ]
    },
    {
     "name": "stderr",
     "output_type": "stream",
     "text": [
      "Processing files in ../Data/processed/dataset2/train/sad:  99%|█████████▉| 736/744 [01:05<00:00,  8.85it/s]"
     ]
    },
    {
     "name": "stdout",
     "output_type": "stream",
     "text": [
      "Copied image with face to ../Data/processed/dataset2_processed/train/sad/woman-expressing-different-emotions-different-moods-of-same-woman-1920614591.jpg\n",
      "Copied image with face to ../Data/processed/dataset2_processed/train/sad/worried-boy-red-hoodie_1308-171483.jpg\n",
      "No faces found in image: ../Data/processed/dataset2/train/sad/wp10523756.jpg\n"
     ]
    },
    {
     "name": "stderr",
     "output_type": "stream",
     "text": [
      "Processing files in ../Data/processed/dataset2/train/sad:  99%|█████████▉| 739/744 [01:06<00:01,  3.99it/s]"
     ]
    },
    {
     "name": "stdout",
     "output_type": "stream",
     "text": [
      "Copied image with face to ../Data/processed/dataset2_processed/train/sad/y-faces-reflective-look-to-watch-looks-shocking-peasant-crops-clergy-1363334.jpg\n",
      "No faces found in image: ../Data/processed/dataset2/train/sad/yellow-sad-face-negative-people-emotion-icon-HW074A.jpg\n",
      "No faces found in image: ../Data/processed/dataset2/train/sad/yellow-sad-face-shocked-negative-people-emotion-icon-flat-vector-illustration-88606157.jpg\n"
     ]
    },
    {
     "name": "stderr",
     "output_type": "stream",
     "text": [
      "Processing files in ../Data/processed/dataset2/train/sad:  99%|█████████▉| 740/744 [01:06<00:00,  4.44it/s]"
     ]
    },
    {
     "name": "stdout",
     "output_type": "stream",
     "text": [
      "Copied image with face to ../Data/processed/dataset2_processed/train/sad/young-asian-man-disguise-with-happy-face-mask-sad-man-pretending-to-be-happy.jpg\n",
      "No faces found in image: ../Data/processed/dataset2/train/sad/young-hispanic-woman-crying-6833542.jpg\n",
      "No faces found in image: ../Data/processed/dataset2/train/sad/young-woman-crying-on-background-600nw-1192798243.jpg\n"
     ]
    },
    {
     "name": "stderr",
     "output_type": "stream",
     "text": [
      "Processing files in ../Data/processed/dataset2/train/sad: 100%|██████████| 744/744 [01:06<00:00, 11.11it/s]\n"
     ]
    },
    {
     "name": "stdout",
     "output_type": "stream",
     "text": [
      "Copied image with face to ../Data/processed/dataset2_processed/train/sad/ZXJfb2Zfc2FkX29sZF9ob19lNWM0MGNhMS1iZDRlLTQ5ZjctYjRhOC0wNzQxYjM1Y2UxODAucG5n.png\n",
      "Copied image with face to ../Data/processed/dataset2_processed/train/sad/_4397acc2-c2d3-11e6-913d-826c0833a15d.jpg\n",
      "Total images processed: 1296\n",
      "Total images with faces: 744\n",
      "Processing Dataset 2 - Testing Set...\n",
      "No files found in directory: ../Data/processed/dataset2/test/\n"
     ]
    },
    {
     "name": "stderr",
     "output_type": "stream",
     "text": [
      "Processing files in ../Data/processed/dataset2/test/happy:   2%|▏         | 3/138 [00:00<00:14,  9.37it/s]"
     ]
    },
    {
     "name": "stdout",
     "output_type": "stream",
     "text": [
      "Copied image with face to ../Data/processed/dataset2_processed/test/happy/058b9d8b-f81f-42d2-80da-1a70d9998913_f89557ad.jpg\n",
      "No faces found in image: ../Data/processed/dataset2/test/happy/1.jpg\n",
      "Copied image with face to ../Data/processed/dataset2_processed/test/happy/1000_F_165246984_Ihe5LVattiq8zEPivcPqrtM85x7noWJw.jpg\n"
     ]
    },
    {
     "name": "stderr",
     "output_type": "stream",
     "text": [
      "Processing files in ../Data/processed/dataset2/test/happy:   4%|▎         | 5/138 [00:00<00:13, 10.17it/s]"
     ]
    },
    {
     "name": "stdout",
     "output_type": "stream",
     "text": [
      "No faces found in image: ../Data/processed/dataset2/test/happy/1f9d1-1f3fb-1f91d-1f9d1-1f3fb.png\n",
      "Copied image with face to ../Data/processed/dataset2_processed/test/happy/35438_hd.jpg\n"
     ]
    },
    {
     "name": "stderr",
     "output_type": "stream",
     "text": [
      "Processing files in ../Data/processed/dataset2/test/happy:   5%|▌         | 7/138 [00:00<00:17,  7.65it/s]"
     ]
    },
    {
     "name": "stdout",
     "output_type": "stream",
     "text": [
      "Copied image with face to ../Data/processed/dataset2_processed/test/happy/7-principles-of-successful-and-happy-people.png\n",
      "Copied image with face to ../Data/processed/dataset2_processed/test/happy/cheerful-children-jumping-together-on-260nw-2495517943.jpg\n",
      "No faces found in image: ../Data/processed/dataset2/test/happy/compassion.jpg\n"
     ]
    },
    {
     "name": "stderr",
     "output_type": "stream",
     "text": [
      "Processing files in ../Data/processed/dataset2/test/happy:   7%|▋         | 10/138 [00:01<00:17,  7.24it/s]"
     ]
    },
    {
     "name": "stdout",
     "output_type": "stream",
     "text": [
      "Copied image with face to ../Data/processed/dataset2_processed/test/happy/friends-happy-190821-1490x838.jpg\n",
      "Copied image with face to ../Data/processed/dataset2_processed/test/happy/GS7AsyyWsAACNld.jpg\n"
     ]
    },
    {
     "name": "stderr",
     "output_type": "stream",
     "text": [
      "Processing files in ../Data/processed/dataset2/test/happy:   9%|▊         | 12/138 [00:01<00:15,  7.90it/s]"
     ]
    },
    {
     "name": "stdout",
     "output_type": "stream",
     "text": [
      "Copied image with face to ../Data/processed/dataset2_processed/test/happy/happy-people-4316529-3613847.png\n",
      "Copied image with face to ../Data/processed/dataset2_processed/test/happy/happy-people2.png\n"
     ]
    },
    {
     "name": "stderr",
     "output_type": "stream",
     "text": [
      "Processing files in ../Data/processed/dataset2/test/happy:  11%|█         | 15/138 [00:01<00:16,  7.59it/s]"
     ]
    },
    {
     "name": "stdout",
     "output_type": "stream",
     "text": [
      "Copied image with face to ../Data/processed/dataset2_processed/test/happy/happy-smiley-face-balloons-against-colorful-cotton-royalty-free-image-1677446093.jpg\n",
      "No faces found in image: ../Data/processed/dataset2/test/happy/happy-woman-in-nature-at-sunset.jpg\n",
      "Copied image with face to ../Data/processed/dataset2_processed/test/happy/hq7202.jpg\n"
     ]
    },
    {
     "name": "stderr",
     "output_type": "stream",
     "text": [
      "Processing files in ../Data/processed/dataset2/test/happy:  13%|█▎        | 18/138 [00:02<00:13,  9.01it/s]"
     ]
    },
    {
     "name": "stdout",
     "output_type": "stream",
     "text": [
      "Copied image with face to ../Data/processed/dataset2_processed/test/happy/hq7203.jpg\n",
      "No faces found in image: ../Data/processed/dataset2/test/happy/hqdefault.jpg\n",
      "No faces found in image: ../Data/processed/dataset2/test/happy/ile-picture-with-bonding-people-relationship-and-funny-face-with-for-2XH8Y6X.jpg\n"
     ]
    },
    {
     "name": "stderr",
     "output_type": "stream",
     "text": [
      "Processing files in ../Data/processed/dataset2/test/happy:  15%|█▌        | 21/138 [00:02<00:10, 11.36it/s]"
     ]
    },
    {
     "name": "stdout",
     "output_type": "stream",
     "text": [
      "Copied image with face to ../Data/processed/dataset2_processed/test/happy/image32.jpeg\n",
      "No faces found in image: ../Data/processed/dataset2/test/happy/image36.jpeg\n",
      "Copied image with face to ../Data/processed/dataset2_processed/test/happy/image37.jpeg\n",
      "Copied image with face to ../Data/processed/dataset2_processed/test/happy/image40.jpeg\n"
     ]
    },
    {
     "name": "stderr",
     "output_type": "stream",
     "text": [
      "Processing files in ../Data/processed/dataset2/test/happy:  18%|█▊        | 25/138 [00:02<00:08, 12.95it/s]"
     ]
    },
    {
     "name": "stdout",
     "output_type": "stream",
     "text": [
      "Copied image with face to ../Data/processed/dataset2_processed/test/happy/image7.jpeg\n",
      "No faces found in image: ../Data/processed/dataset2/test/happy/images102.jpg\n",
      "Copied image with face to ../Data/processed/dataset2_processed/test/happy/images104.jpg\n",
      "Copied image with face to ../Data/processed/dataset2_processed/test/happy/images116.jpg\n"
     ]
    },
    {
     "name": "stderr",
     "output_type": "stream",
     "text": [
      "Processing files in ../Data/processed/dataset2/test/happy:  21%|██        | 29/138 [00:02<00:07, 13.98it/s]"
     ]
    },
    {
     "name": "stdout",
     "output_type": "stream",
     "text": [
      "Copied image with face to ../Data/processed/dataset2_processed/test/happy/images117.jpg\n",
      "Copied image with face to ../Data/processed/dataset2_processed/test/happy/images118.jpg\n",
      "No faces found in image: ../Data/processed/dataset2/test/happy/images123.jpg\n",
      "No faces found in image: ../Data/processed/dataset2/test/happy/images143.jpg\n"
     ]
    },
    {
     "name": "stderr",
     "output_type": "stream",
     "text": [
      "Processing files in ../Data/processed/dataset2/test/happy:  24%|██▍       | 33/138 [00:03<00:06, 16.01it/s]"
     ]
    },
    {
     "name": "stdout",
     "output_type": "stream",
     "text": [
      "Copied image with face to ../Data/processed/dataset2_processed/test/happy/images145.jpg\n",
      "Copied image with face to ../Data/processed/dataset2_processed/test/happy/images149.jpg\n",
      "No faces found in image: ../Data/processed/dataset2/test/happy/images160.jpg\n",
      "No faces found in image: ../Data/processed/dataset2/test/happy/images173.jpg\n",
      "No faces found in image: ../Data/processed/dataset2/test/happy/images18.jpg\n"
     ]
    },
    {
     "name": "stderr",
     "output_type": "stream",
     "text": [
      "Processing files in ../Data/processed/dataset2/test/happy:  28%|██▊       | 39/138 [00:03<00:04, 20.88it/s]"
     ]
    },
    {
     "name": "stdout",
     "output_type": "stream",
     "text": [
      "Copied image with face to ../Data/processed/dataset2_processed/test/happy/images180.jpg\n",
      "No faces found in image: ../Data/processed/dataset2/test/happy/images182.jpg\n",
      "Copied image with face to ../Data/processed/dataset2_processed/test/happy/images186.jpg\n",
      "No faces found in image: ../Data/processed/dataset2/test/happy/images187.jpg\n",
      "Copied image with face to ../Data/processed/dataset2_processed/test/happy/images188.jpg\n",
      "No faces found in image: ../Data/processed/dataset2/test/happy/images2.jpg\n"
     ]
    },
    {
     "name": "stderr",
     "output_type": "stream",
     "text": [
      "Processing files in ../Data/processed/dataset2/test/happy:  33%|███▎      | 45/138 [00:03<00:05, 17.82it/s]"
     ]
    },
    {
     "name": "stdout",
     "output_type": "stream",
     "text": [
      "Copied image with face to ../Data/processed/dataset2_processed/test/happy/images20.jpg\n",
      "Copied image with face to ../Data/processed/dataset2_processed/test/happy/images21.jpg\n",
      "Copied image with face to ../Data/processed/dataset2_processed/test/happy/images212.jpg\n",
      "Copied image with face to ../Data/processed/dataset2_processed/test/happy/images215.jpg\n"
     ]
    },
    {
     "name": "stderr",
     "output_type": "stream",
     "text": [
      "Processing files in ../Data/processed/dataset2/test/happy:  36%|███▌      | 49/138 [00:04<00:05, 17.23it/s]"
     ]
    },
    {
     "name": "stdout",
     "output_type": "stream",
     "text": [
      "Copied image with face to ../Data/processed/dataset2_processed/test/happy/images218.jpg\n",
      "Copied image with face to ../Data/processed/dataset2_processed/test/happy/images250.jpg\n",
      "No faces found in image: ../Data/processed/dataset2/test/happy/images253.jpg\n",
      "Copied image with face to ../Data/processed/dataset2_processed/test/happy/images295.jpg\n"
     ]
    },
    {
     "name": "stderr",
     "output_type": "stream",
     "text": [
      "Processing files in ../Data/processed/dataset2/test/happy:  38%|███▊      | 52/138 [00:04<00:04, 17.59it/s]"
     ]
    },
    {
     "name": "stdout",
     "output_type": "stream",
     "text": [
      "Copied image with face to ../Data/processed/dataset2_processed/test/happy/images297.jpg\n",
      "No faces found in image: ../Data/processed/dataset2/test/happy/images312.jpg\n",
      "Copied image with face to ../Data/processed/dataset2_processed/test/happy/images323.jpg\n",
      "Copied image with face to ../Data/processed/dataset2_processed/test/happy/images328.jpg\n"
     ]
    },
    {
     "name": "stderr",
     "output_type": "stream",
     "text": [
      "Processing files in ../Data/processed/dataset2/test/happy:  41%|████▏     | 57/138 [00:04<00:04, 19.12it/s]"
     ]
    },
    {
     "name": "stdout",
     "output_type": "stream",
     "text": [
      "Copied image with face to ../Data/processed/dataset2_processed/test/happy/images339.jpg\n",
      "Copied image with face to ../Data/processed/dataset2_processed/test/happy/images347.jpg\n",
      "No faces found in image: ../Data/processed/dataset2/test/happy/images35.jpg\n",
      "No faces found in image: ../Data/processed/dataset2/test/happy/images356.jpg\n",
      "No faces found in image: ../Data/processed/dataset2/test/happy/images358.jpg\n",
      "Copied image with face to ../Data/processed/dataset2_processed/test/happy/images382.jpg\n"
     ]
    },
    {
     "name": "stderr",
     "output_type": "stream",
     "text": [
      "Processing files in ../Data/processed/dataset2/test/happy:  46%|████▌     | 63/138 [00:04<00:03, 21.05it/s]"
     ]
    },
    {
     "name": "stdout",
     "output_type": "stream",
     "text": [
      "Copied image with face to ../Data/processed/dataset2_processed/test/happy/images383.jpg\n",
      "Copied image with face to ../Data/processed/dataset2_processed/test/happy/images384.jpg\n",
      "No faces found in image: ../Data/processed/dataset2/test/happy/images386.jpg\n",
      "No faces found in image: ../Data/processed/dataset2/test/happy/images389.jpg\n",
      "Copied image with face to ../Data/processed/dataset2_processed/test/happy/images39.jpg\n"
     ]
    },
    {
     "name": "stderr",
     "output_type": "stream",
     "text": [
      "Processing files in ../Data/processed/dataset2/test/happy:  51%|█████     | 70/138 [00:05<00:03, 22.45it/s]"
     ]
    },
    {
     "name": "stdout",
     "output_type": "stream",
     "text": [
      "No faces found in image: ../Data/processed/dataset2/test/happy/images398.jpg\n",
      "No faces found in image: ../Data/processed/dataset2/test/happy/images415.jpg\n",
      "Copied image with face to ../Data/processed/dataset2_processed/test/happy/images419.jpg\n",
      "No faces found in image: ../Data/processed/dataset2/test/happy/images424.jpg\n",
      "No faces found in image: ../Data/processed/dataset2/test/happy/images428.jpg\n",
      "Copied image with face to ../Data/processed/dataset2_processed/test/happy/images435.jpg\n"
     ]
    },
    {
     "name": "stderr",
     "output_type": "stream",
     "text": [
      "Processing files in ../Data/processed/dataset2/test/happy:  53%|█████▎    | 73/138 [00:05<00:02, 22.81it/s]"
     ]
    },
    {
     "name": "stdout",
     "output_type": "stream",
     "text": [
      "No faces found in image: ../Data/processed/dataset2/test/happy/images437.jpg\n",
      "No faces found in image: ../Data/processed/dataset2/test/happy/images447.jpg\n",
      "Copied image with face to ../Data/processed/dataset2_processed/test/happy/images454.jpg\n",
      "Copied image with face to ../Data/processed/dataset2_processed/test/happy/images462.jpg\n"
     ]
    },
    {
     "name": "stderr",
     "output_type": "stream",
     "text": [
      "Processing files in ../Data/processed/dataset2/test/happy:  55%|█████▌    | 76/138 [00:05<00:02, 20.74it/s]"
     ]
    },
    {
     "name": "stdout",
     "output_type": "stream",
     "text": [
      "Copied image with face to ../Data/processed/dataset2_processed/test/happy/images473.jpg\n",
      "No faces found in image: ../Data/processed/dataset2/test/happy/images481.jpg\n",
      "Copied image with face to ../Data/processed/dataset2_processed/test/happy/images487.jpg\n",
      "Copied image with face to ../Data/processed/dataset2_processed/test/happy/images492.jpg\n"
     ]
    },
    {
     "name": "stderr",
     "output_type": "stream",
     "text": [
      "Processing files in ../Data/processed/dataset2/test/happy:  59%|█████▊    | 81/138 [00:05<00:03, 17.39it/s]"
     ]
    },
    {
     "name": "stdout",
     "output_type": "stream",
     "text": [
      "Copied image with face to ../Data/processed/dataset2_processed/test/happy/images497.jpg\n",
      "No faces found in image: ../Data/processed/dataset2/test/happy/images50.jpg\n",
      "Copied image with face to ../Data/processed/dataset2_processed/test/happy/images504.jpg\n",
      "No faces found in image: ../Data/processed/dataset2/test/happy/images505.jpg\n"
     ]
    },
    {
     "name": "stderr",
     "output_type": "stream",
     "text": [
      "Processing files in ../Data/processed/dataset2/test/happy:  62%|██████▏   | 86/138 [00:05<00:02, 18.17it/s]"
     ]
    },
    {
     "name": "stdout",
     "output_type": "stream",
     "text": [
      "Copied image with face to ../Data/processed/dataset2_processed/test/happy/images507.jpg\n",
      "Copied image with face to ../Data/processed/dataset2_processed/test/happy/images512.jpg\n",
      "No faces found in image: ../Data/processed/dataset2/test/happy/images54.jpg\n",
      "Copied image with face to ../Data/processed/dataset2_processed/test/happy/images547.jpg\n",
      "No faces found in image: ../Data/processed/dataset2/test/happy/images550.jpg\n"
     ]
    },
    {
     "name": "stderr",
     "output_type": "stream",
     "text": [
      "Processing files in ../Data/processed/dataset2/test/happy:  64%|██████▍   | 89/138 [00:06<00:02, 18.03it/s]"
     ]
    },
    {
     "name": "stdout",
     "output_type": "stream",
     "text": [
      "Copied image with face to ../Data/processed/dataset2_processed/test/happy/images555.jpg\n",
      "Copied image with face to ../Data/processed/dataset2_processed/test/happy/images560.jpg\n",
      "No faces found in image: ../Data/processed/dataset2/test/happy/images564.jpg\n",
      "No faces found in image: ../Data/processed/dataset2/test/happy/images58.jpg\n",
      "No faces found in image: ../Data/processed/dataset2/test/happy/images587.jpg\n",
      "No faces found in image: ../Data/processed/dataset2/test/happy/images599.jpg\n"
     ]
    },
    {
     "name": "stderr",
     "output_type": "stream",
     "text": [
      "Processing files in ../Data/processed/dataset2/test/happy:  70%|███████   | 97/138 [00:06<00:01, 24.42it/s]"
     ]
    },
    {
     "name": "stdout",
     "output_type": "stream",
     "text": [
      "Copied image with face to ../Data/processed/dataset2_processed/test/happy/images6.jpg\n",
      "No faces found in image: ../Data/processed/dataset2/test/happy/images603.jpg\n",
      "No faces found in image: ../Data/processed/dataset2/test/happy/images616.jpg\n",
      "Copied image with face to ../Data/processed/dataset2_processed/test/happy/images618.jpg\n",
      "Copied image with face to ../Data/processed/dataset2_processed/test/happy/images641.jpg\n",
      "No faces found in image: ../Data/processed/dataset2/test/happy/images645.jpg\n"
     ]
    },
    {
     "name": "stderr",
     "output_type": "stream",
     "text": [
      "Processing files in ../Data/processed/dataset2/test/happy:  75%|███████▍  | 103/138 [00:06<00:01, 23.49it/s]"
     ]
    },
    {
     "name": "stdout",
     "output_type": "stream",
     "text": [
      "Copied image with face to ../Data/processed/dataset2_processed/test/happy/images648.jpg\n",
      "Copied image with face to ../Data/processed/dataset2_processed/test/happy/images651.jpg\n",
      "No faces found in image: ../Data/processed/dataset2/test/happy/images674.jpg\n",
      "No faces found in image: ../Data/processed/dataset2/test/happy/images688.jpg\n",
      "No faces found in image: ../Data/processed/dataset2/test/happy/images689.jpg\n"
     ]
    },
    {
     "name": "stderr",
     "output_type": "stream",
     "text": [
      "Processing files in ../Data/processed/dataset2/test/happy:  77%|███████▋  | 106/138 [00:06<00:01, 21.55it/s]"
     ]
    },
    {
     "name": "stdout",
     "output_type": "stream",
     "text": [
      "Copied image with face to ../Data/processed/dataset2_processed/test/happy/images695.jpg\n",
      "Copied image with face to ../Data/processed/dataset2_processed/test/happy/images719.jpg\n",
      "Copied image with face to ../Data/processed/dataset2_processed/test/happy/images725.jpg\n",
      "No faces found in image: ../Data/processed/dataset2/test/happy/images73.jpg\n"
     ]
    },
    {
     "name": "stderr",
     "output_type": "stream",
     "text": [
      "Processing files in ../Data/processed/dataset2/test/happy:  81%|████████  | 112/138 [00:07<00:01, 18.50it/s]"
     ]
    },
    {
     "name": "stdout",
     "output_type": "stream",
     "text": [
      "Copied image with face to ../Data/processed/dataset2_processed/test/happy/images736.jpg\n",
      "Copied image with face to ../Data/processed/dataset2_processed/test/happy/images739.jpg\n",
      "Copied image with face to ../Data/processed/dataset2_processed/test/happy/images741.jpg\n",
      "Copied image with face to ../Data/processed/dataset2_processed/test/happy/images746.jpg\n"
     ]
    },
    {
     "name": "stderr",
     "output_type": "stream",
     "text": [
      "Processing files in ../Data/processed/dataset2/test/happy:  83%|████████▎ | 114/138 [00:07<00:01, 18.04it/s]"
     ]
    },
    {
     "name": "stdout",
     "output_type": "stream",
     "text": [
      "Copied image with face to ../Data/processed/dataset2_processed/test/happy/images749.jpg\n",
      "Copied image with face to ../Data/processed/dataset2_processed/test/happy/images758.jpg\n",
      "Copied image with face to ../Data/processed/dataset2_processed/test/happy/images760.jpg\n"
     ]
    },
    {
     "name": "stderr",
     "output_type": "stream",
     "text": [
      "Processing files in ../Data/processed/dataset2/test/happy:  86%|████████▌ | 119/138 [00:07<00:01, 17.51it/s]"
     ]
    },
    {
     "name": "stdout",
     "output_type": "stream",
     "text": [
      "Copied image with face to ../Data/processed/dataset2_processed/test/happy/images78.jpg\n",
      "Copied image with face to ../Data/processed/dataset2_processed/test/happy/images794.jpg\n",
      "No faces found in image: ../Data/processed/dataset2/test/happy/images797.jpg\n",
      "Copied image with face to ../Data/processed/dataset2_processed/test/happy/images80.jpg\n",
      "No faces found in image: ../Data/processed/dataset2/test/happy/images83.jpg\n",
      "No faces found in image: ../Data/processed/dataset2/test/happy/images84.jpg\n"
     ]
    },
    {
     "name": "stderr",
     "output_type": "stream",
     "text": [
      "Processing files in ../Data/processed/dataset2/test/happy:  90%|████████▉ | 124/138 [00:08<00:01, 10.60it/s]"
     ]
    },
    {
     "name": "stdout",
     "output_type": "stream",
     "text": [
      "Copied image with face to ../Data/processed/dataset2_processed/test/happy/ior-female-looking-camera-close-up-face-headshot-portrait-happy-people-photo.jpg\n",
      "Copied image with face to ../Data/processed/dataset2_processed/test/happy/maxresdefault.jpg\n",
      "Copied image with face to ../Data/processed/dataset2_processed/test/happy/nm-how-happiness-affects-health-tnail.jpg\n"
     ]
    },
    {
     "name": "stderr",
     "output_type": "stream",
     "text": [
      "Processing files in ../Data/processed/dataset2/test/happy:  91%|█████████▏| 126/138 [00:08<00:01,  8.88it/s]"
     ]
    },
    {
     "name": "stdout",
     "output_type": "stream",
     "text": [
      "Copied image with face to ../Data/processed/dataset2_processed/test/happy/photo-1723056416872-caaac2ada2af.jpg\n",
      "Copied image with face to ../Data/processed/dataset2_processed/test/happy/png-transparent-happiness-love-happy-people-love-child-hand-thumbnail.png\n",
      "Copied image with face to ../Data/processed/dataset2_processed/test/happy/portrait-smiling-young-friends-walking-260nw-1392193913.jpg\n"
     ]
    },
    {
     "name": "stderr",
     "output_type": "stream",
     "text": [
      "Processing files in ../Data/processed/dataset2/test/happy:  93%|█████████▎| 128/138 [00:08<00:01,  9.76it/s]"
     ]
    },
    {
     "name": "stdout",
     "output_type": "stream",
     "text": [
      "Copied image with face to ../Data/processed/dataset2_processed/test/happy/portrait-young-father-carrying-his-260nw-736997836.jpg\n",
      "Copied image with face to ../Data/processed/dataset2_processed/test/happy/premium_photo-1664889357884-e2e45207aa1e.jpg\n"
     ]
    },
    {
     "name": "stderr",
     "output_type": "stream",
     "text": [
      "Processing files in ../Data/processed/dataset2/test/happy:  94%|█████████▍| 130/138 [00:10<00:02,  2.71it/s]"
     ]
    },
    {
     "name": "stdout",
     "output_type": "stream",
     "text": [
      "Copied image with face to ../Data/processed/dataset2_processed/test/happy/smile.woman_.jpg\n",
      "Copied image with face to ../Data/processed/dataset2_processed/test/happy/Sonu1.jpg\n"
     ]
    },
    {
     "name": "stderr",
     "output_type": "stream",
     "text": [
      "Processing files in ../Data/processed/dataset2/test/happy:  96%|█████████▌| 132/138 [00:11<00:01,  3.34it/s]"
     ]
    },
    {
     "name": "stdout",
     "output_type": "stream",
     "text": [
      "Copied image with face to ../Data/processed/dataset2_processed/test/happy/ss-people-on-stairs-with-teamwork-partnership-and-solidarity-face-2495352983.jpg\n",
      "Copied image with face to ../Data/processed/dataset2_processed/test/happy/Tinubu-and-Labour.jpeg\n",
      "Copied image with face to ../Data/processed/dataset2_processed/test/happy/very-happy-people.jpg\n",
      "Copied image with face to ../Data/processed/dataset2_processed/test/happy/VJdvLa-download-happy-blackman-png.png\n",
      "Copied image with face to ../Data/processed/dataset2_processed/test/happy/web_images_may23_655x368_px1.jpg\n",
      "Copied image with face to ../Data/processed/dataset2_processed/test/happy/x68mb7tvgigd1.jpeg\n"
     ]
    },
    {
     "name": "stderr",
     "output_type": "stream",
     "text": [
      "Processing files in ../Data/processed/dataset2/test/happy: 100%|██████████| 138/138 [00:09<00:00, 13.94it/s]\n"
     ]
    },
    {
     "name": "stdout",
     "output_type": "stream",
     "text": [
      "No faces found in image: ../Data/processed/dataset2/test/happy/_happy_jumping_on_beach-40815.jpg\n"
     ]
    },
    {
     "name": "stderr",
     "output_type": "stream",
     "text": [
      "Processing files in ../Data/processed/dataset2/test/sad:   1%|          | 2/187 [00:00<00:12, 14.53it/s]"
     ]
    },
    {
     "name": "stdout",
     "output_type": "stream",
     "text": [
      "Copied image with face to ../Data/processed/dataset2_processed/test/sad/1000_F_162101486_iuXN2WbhFL87BBUcoAwvaQdrm2wDJgUs.jpg\n",
      "No faces found in image: ../Data/processed/dataset2/test/sad/1000_F_171043002_o3vfBsFXFMNiZ6H7WCFXPDayaDaNlcgP.jpg\n",
      "Copied image with face to ../Data/processed/dataset2_processed/test/sad/1000_F_227210691_gGHIfGAlxEfmX4Wsls5c4FAsZmQnUKE0.jpg\n"
     ]
    },
    {
     "name": "stderr",
     "output_type": "stream",
     "text": [
      "Processing files in ../Data/processed/dataset2/test/sad:   3%|▎         | 6/187 [00:00<00:15, 12.00it/s]"
     ]
    },
    {
     "name": "stdout",
     "output_type": "stream",
     "text": [
      "No faces found in image: ../Data/processed/dataset2/test/sad/1000_F_278643813_HLQyPhQq6IXi06XmwKJuvNp60srpLDwS.jpg\n",
      "No faces found in image: ../Data/processed/dataset2/test/sad/1000_F_369048949_YbzYQHLHPJGyG8IwmUoiHG53OiGNh3V5.jpg\n",
      "Copied image with face to ../Data/processed/dataset2_processed/test/sad/1000_F_431947254_ktH50M1zip1mToL8pCgQ5FhCZ2BOPkiz.jpg\n"
     ]
    },
    {
     "name": "stderr",
     "output_type": "stream",
     "text": [
      "Processing files in ../Data/processed/dataset2/test/sad:   4%|▍         | 8/187 [00:00<00:17, 10.29it/s]"
     ]
    },
    {
     "name": "stdout",
     "output_type": "stream",
     "text": [
      "Copied image with face to ../Data/processed/dataset2_processed/test/sad/13803317-Portrait-of-sad-man-facing-depression-with-hands-covering-his-face.jpg\n",
      "Copied image with face to ../Data/processed/dataset2_processed/test/sad/13828336-a-sad-man-s-face.jpg\n"
     ]
    },
    {
     "name": "stderr",
     "output_type": "stream",
     "text": [
      "Processing files in ../Data/processed/dataset2/test/sad:   5%|▌         | 10/187 [00:00<00:16, 10.46it/s]"
     ]
    },
    {
     "name": "stdout",
     "output_type": "stream",
     "text": [
      "Copied image with face to ../Data/processed/dataset2_processed/test/sad/14-144416_clip-royalty-free-girl-svg-sad-girl-face.png\n",
      "Copied image with face to ../Data/processed/dataset2_processed/test/sad/1a719da577927ae5695aff33e0a403bc.jpg\n",
      "No faces found in image: ../Data/processed/dataset2/test/sad/245886079.jpg\n"
     ]
    },
    {
     "name": "stderr",
     "output_type": "stream",
     "text": [
      "Processing files in ../Data/processed/dataset2/test/sad:   6%|▋         | 12/187 [00:01<00:20,  8.71it/s]"
     ]
    },
    {
     "name": "stdout",
     "output_type": "stream",
     "text": [
      "Copied image with face to ../Data/processed/dataset2_processed/test/sad/281714557.jpg\n"
     ]
    },
    {
     "name": "stderr",
     "output_type": "stream",
     "text": [
      "Processing files in ../Data/processed/dataset2/test/sad:   7%|▋         | 14/187 [00:01<00:26,  6.55it/s]"
     ]
    },
    {
     "name": "stdout",
     "output_type": "stream",
     "text": [
      "Copied image with face to ../Data/processed/dataset2_processed/test/sad/281719624.jpg\n",
      "Copied image with face to ../Data/processed/dataset2_processed/test/sad/284949013.jpg\n"
     ]
    },
    {
     "name": "stderr",
     "output_type": "stream",
     "text": [
      "Processing files in ../Data/processed/dataset2/test/sad:   8%|▊         | 15/187 [00:01<00:27,  6.36it/s]"
     ]
    },
    {
     "name": "stdout",
     "output_type": "stream",
     "text": [
      "Copied image with face to ../Data/processed/dataset2_processed/test/sad/334381609.jpg\n",
      "No faces found in image: ../Data/processed/dataset2/test/sad/350354419.jpg\n"
     ]
    },
    {
     "name": "stderr",
     "output_type": "stream",
     "text": [
      "Processing files in ../Data/processed/dataset2/test/sad:  10%|█         | 19/187 [00:02<00:18,  9.12it/s]"
     ]
    },
    {
     "name": "stdout",
     "output_type": "stream",
     "text": [
      "Copied image with face to ../Data/processed/dataset2_processed/test/sad/357084080.jpg\n",
      "No faces found in image: ../Data/processed/dataset2/test/sad/360_F_601507482_RbV0Vk2KSg72LkjkSZBJNpmxu6Y4Hdzw.jpg\n",
      "Copied image with face to ../Data/processed/dataset2_processed/test/sad/366555176.jpg\n"
     ]
    },
    {
     "name": "stderr",
     "output_type": "stream",
     "text": [
      "Processing files in ../Data/processed/dataset2/test/sad:  11%|█         | 21/187 [00:02<00:20,  7.94it/s]"
     ]
    },
    {
     "name": "stdout",
     "output_type": "stream",
     "text": [
      "Copied image with face to ../Data/processed/dataset2_processed/test/sad/371345800.jpg\n",
      "Copied image with face to ../Data/processed/dataset2_processed/test/sad/3b6498a9c50250c2649baa41c243857d.jpg\n"
     ]
    },
    {
     "name": "stderr",
     "output_type": "stream",
     "text": [
      "Processing files in ../Data/processed/dataset2/test/sad:  12%|█▏        | 23/187 [00:02<00:21,  7.49it/s]"
     ]
    },
    {
     "name": "stdout",
     "output_type": "stream",
     "text": [
      "Copied image with face to ../Data/processed/dataset2_processed/test/sad/63fd483cff034b2987e34339c5772c00.jpeg\n",
      "Copied image with face to ../Data/processed/dataset2_processed/test/sad/6d8f3fe9ec0af96b7f8107ccc745d637.jpg\n"
     ]
    },
    {
     "name": "stderr",
     "output_type": "stream",
     "text": [
      "Processing files in ../Data/processed/dataset2/test/sad:  13%|█▎        | 25/187 [00:02<00:18,  8.99it/s]"
     ]
    },
    {
     "name": "stdout",
     "output_type": "stream",
     "text": [
      "No faces found in image: ../Data/processed/dataset2/test/sad/81128905-yellow-cartoon-face-sad-upset-emoji-people-emotion-icon-flat-vector-illustration.jpg\n",
      "Copied image with face to ../Data/processed/dataset2_processed/test/sad/90331414-girl-with-sad-face.jpg\n"
     ]
    },
    {
     "name": "stderr",
     "output_type": "stream",
     "text": [
      "Processing files in ../Data/processed/dataset2/test/sad:  14%|█▍        | 27/187 [00:03<00:19,  8.01it/s]"
     ]
    },
    {
     "name": "stdout",
     "output_type": "stream",
     "text": [
      "Copied image with face to ../Data/processed/dataset2_processed/test/sad/959134-gorgerous-sad-face-wallpapers-1920x1280.jpg\n",
      "Copied image with face to ../Data/processed/dataset2_processed/test/sad/a-close-up-portrait-of-a-baby-girl-with-a-sad-face-S05H40.jpg\n"
     ]
    },
    {
     "name": "stderr",
     "output_type": "stream",
     "text": [
      "Processing files in ../Data/processed/dataset2/test/sad:  15%|█▍        | 28/187 [00:03<00:19,  8.23it/s]"
     ]
    },
    {
     "name": "stdout",
     "output_type": "stream",
     "text": [
      "No faces found in image: ../Data/processed/dataset2/test/sad/a-sad-man-face-crestfallen-on-black-isolated-on-a-black-background-199414679.jpg\n"
     ]
    },
    {
     "name": "stderr",
     "output_type": "stream",
     "text": [
      "Processing files in ../Data/processed/dataset2/test/sad:  17%|█▋        | 31/187 [00:03<00:19,  8.14it/s]"
     ]
    },
    {
     "name": "stdout",
     "output_type": "stream",
     "text": [
      "Copied image with face to ../Data/processed/dataset2_processed/test/sad/a-unidentified-sad-face-portrait-young-child-young-girl-rural-part-122973656.jpg\n",
      "No faces found in image: ../Data/processed/dataset2/test/sad/ai-generated-8507190_1280.png\n",
      "No faces found in image: ../Data/processed/dataset2/test/sad/an-woman-suffering-from-headache-migraine-touching-face-head-with-2184679453.jpg\n",
      "No faces found in image: ../Data/processed/dataset2/test/sad/ardrop-face-drama-depression-concept-upset-despair-his-slow-motion-318375627.jpg\n"
     ]
    },
    {
     "name": "stderr",
     "output_type": "stream",
     "text": [
      "Processing files in ../Data/processed/dataset2/test/sad:  19%|█▊        | 35/187 [00:04<00:14, 10.30it/s]"
     ]
    },
    {
     "name": "stdout",
     "output_type": "stream",
     "text": [
      "Copied image with face to ../Data/processed/dataset2_processed/test/sad/beautiful-girl-sad-green-eyes-frowning-face-little-sad-girl-crying-201892427.jpg\n",
      "Copied image with face to ../Data/processed/dataset2_processed/test/sad/cartoon-face-sad-negative-people-emotion-icon-vector-15011380.jpg\n",
      "No faces found in image: ../Data/processed/dataset2/test/sad/Cartoon-illustration-of-indian-boy-with-crying-face-3-Large.jpg\n",
      "Copied image with face to ../Data/processed/dataset2_processed/test/sad/close-up-of-sad-man-covering-face-with-hand-photo.jpg\n"
     ]
    },
    {
     "name": "stderr",
     "output_type": "stream",
     "text": [
      "Processing files in ../Data/processed/dataset2/test/sad:  20%|█▉        | 37/187 [00:04<00:24,  6.17it/s]"
     ]
    },
    {
     "name": "stdout",
     "output_type": "stream",
     "text": [
      "Copied image with face to ../Data/processed/dataset2_processed/test/sad/close-up-of-sad-man-covering-face-with-hand-photo2.jpg\n"
     ]
    },
    {
     "name": "stderr",
     "output_type": "stream",
     "text": [
      "Processing files in ../Data/processed/dataset2/test/sad:  21%|██        | 39/187 [00:05<00:25,  5.82it/s]"
     ]
    },
    {
     "name": "stdout",
     "output_type": "stream",
     "text": [
      "Copied image with face to ../Data/processed/dataset2_processed/test/sad/close-up-of-sad-man-covering-face-with-hand-photo3.jpg\n",
      "Copied image with face to ../Data/processed/dataset2_processed/test/sad/couplecrying.jpg\n"
     ]
    },
    {
     "name": "stderr",
     "output_type": "stream",
     "text": [
      "Processing files in ../Data/processed/dataset2/test/sad:  22%|██▏       | 41/187 [00:05<00:22,  6.45it/s]"
     ]
    },
    {
     "name": "stdout",
     "output_type": "stream",
     "text": [
      "Copied image with face to ../Data/processed/dataset2_processed/test/sad/crying-poverty-8678953.jpg\n",
      "No faces found in image: ../Data/processed/dataset2/test/sad/de09e4660c0525ec4330ed69c345a1d2.jpg\n"
     ]
    },
    {
     "name": "stderr",
     "output_type": "stream",
     "text": [
      "Processing files in ../Data/processed/dataset2/test/sad:  23%|██▎       | 43/187 [00:05<00:20,  7.01it/s]"
     ]
    },
    {
     "name": "stdout",
     "output_type": "stream",
     "text": [
      "No faces found in image: ../Data/processed/dataset2/test/sad/depositphotos_137767660-stock-photo-lonely-sad-girl-crying-and.jpg\n",
      "Copied image with face to ../Data/processed/dataset2_processed/test/sad/depositphotos_494036574-stock-photo-vertical-shot-indian-young-male.jpg\n",
      "No faces found in image: ../Data/processed/dataset2/test/sad/desktop-wallpaper-lonely-sad-girl-for-android-women-sad-face.jpg\n"
     ]
    },
    {
     "name": "stderr",
     "output_type": "stream",
     "text": [
      "Processing files in ../Data/processed/dataset2/test/sad:  25%|██▌       | 47/187 [00:05<00:16,  8.55it/s]"
     ]
    },
    {
     "name": "stdout",
     "output_type": "stream",
     "text": [
      "Copied image with face to ../Data/processed/dataset2_processed/test/sad/dian-woman-in-pain-cope-with-headache-eye-strain-emotional-mental-1606120144.jpg\n",
      "Copied image with face to ../Data/processed/dataset2_processed/test/sad/e-effect-corona-virus-home-lock-down-kids-feel-sad-helpless-little-181144872.jpg\n",
      "No faces found in image: ../Data/processed/dataset2/test/sad/elancholic-portrait-copy-space-side-view-people-expressions-abstract-2FGK49R.jpg\n"
     ]
    },
    {
     "name": "stderr",
     "output_type": "stream",
     "text": [
      "Processing files in ../Data/processed/dataset2/test/sad:  26%|██▌       | 49/187 [00:06<00:17,  7.98it/s]"
     ]
    },
    {
     "name": "stdout",
     "output_type": "stream",
     "text": [
      "Copied image with face to ../Data/processed/dataset2_processed/test/sad/ery-upset-for-who-knows-what-he-is-just-crying-and-making-big-baby-sad-faces.jpg\n",
      "Copied image with face to ../Data/processed/dataset2_processed/test/sad/essions-young-adult-man-pain-depression-sad-exhausted-face-looking-152139535.jpg\n"
     ]
    },
    {
     "name": "stderr",
     "output_type": "stream",
     "text": [
      "Processing files in ../Data/processed/dataset2/test/sad:  27%|██▋       | 51/187 [00:06<00:13, 10.04it/s]"
     ]
    },
    {
     "name": "stdout",
     "output_type": "stream",
     "text": [
      "No faces found in image: ../Data/processed/dataset2/test/sad/eye-shading-head-girl.jpg\n",
      "No faces found in image: ../Data/processed/dataset2/test/sad/face-25508_1280.png\n"
     ]
    },
    {
     "name": "stderr",
     "output_type": "stream",
     "text": [
      "Processing files in ../Data/processed/dataset2/test/sad:  29%|██▉       | 55/187 [00:06<00:11, 11.35it/s]"
     ]
    },
    {
     "name": "stdout",
     "output_type": "stream",
     "text": [
      "Copied image with face to ../Data/processed/dataset2_processed/test/sad/face-isolated-white-background-facial-expression-indian-girl-child-224191896.jpg\n",
      "No faces found in image: ../Data/processed/dataset2/test/sad/face-sad-man-expression-cartoon-icon-vector-10106753.jpg\n",
      "No faces found in image: ../Data/processed/dataset2/test/sad/fe0bff2.jpg\n",
      "No faces found in image: ../Data/processed/dataset2/test/sad/guy-2617866_1280.jpg\n"
     ]
    },
    {
     "name": "stderr",
     "output_type": "stream",
     "text": [
      "Processing files in ../Data/processed/dataset2/test/sad:  32%|███▏      | 60/187 [00:07<00:08, 14.54it/s]"
     ]
    },
    {
     "name": "stdout",
     "output_type": "stream",
     "text": [
      "No faces found in image: ../Data/processed/dataset2/test/sad/HD-wallpaper-hide-face-girl-sad-hide-face-girl.jpg\n",
      "Copied image with face to ../Data/processed/dataset2_processed/test/sad/image22.jpeg\n",
      "No faces found in image: ../Data/processed/dataset2/test/sad/image26.jpeg\n",
      "Copied image with face to ../Data/processed/dataset2_processed/test/sad/image33.jpeg\n",
      "No faces found in image: ../Data/processed/dataset2/test/sad/images104.jpg\n"
     ]
    },
    {
     "name": "stderr",
     "output_type": "stream",
     "text": [
      "Processing files in ../Data/processed/dataset2/test/sad:  33%|███▎      | 62/187 [00:07<00:08, 14.30it/s]"
     ]
    },
    {
     "name": "stdout",
     "output_type": "stream",
     "text": [
      "Copied image with face to ../Data/processed/dataset2_processed/test/sad/images105.jpg\n",
      "Copied image with face to ../Data/processed/dataset2_processed/test/sad/images112.jpg\n",
      "No faces found in image: ../Data/processed/dataset2/test/sad/images113.jpg\n",
      "No faces found in image: ../Data/processed/dataset2/test/sad/images122.jpg\n",
      "No faces found in image: ../Data/processed/dataset2/test/sad/images127.jpg\n",
      "No faces found in image: ../Data/processed/dataset2/test/sad/images134.jpg\n"
     ]
    },
    {
     "name": "stderr",
     "output_type": "stream",
     "text": [
      "Processing files in ../Data/processed/dataset2/test/sad:  37%|███▋      | 70/187 [00:07<00:05, 22.77it/s]"
     ]
    },
    {
     "name": "stdout",
     "output_type": "stream",
     "text": [
      "Copied image with face to ../Data/processed/dataset2_processed/test/sad/images136.jpg\n",
      "No faces found in image: ../Data/processed/dataset2/test/sad/images157.jpg\n",
      "No faces found in image: ../Data/processed/dataset2/test/sad/images160.jpg\n",
      "Copied image with face to ../Data/processed/dataset2_processed/test/sad/images180.jpg\n",
      "Copied image with face to ../Data/processed/dataset2_processed/test/sad/images185.jpg\n",
      "No faces found in image: ../Data/processed/dataset2/test/sad/images189.jpg\n"
     ]
    },
    {
     "name": "stderr",
     "output_type": "stream",
     "text": [
      "Processing files in ../Data/processed/dataset2/test/sad:  41%|████      | 76/187 [00:07<00:04, 25.75it/s]"
     ]
    },
    {
     "name": "stdout",
     "output_type": "stream",
     "text": [
      "No faces found in image: ../Data/processed/dataset2/test/sad/images190.jpg\n",
      "Copied image with face to ../Data/processed/dataset2_processed/test/sad/images196.jpg\n",
      "No faces found in image: ../Data/processed/dataset2/test/sad/images220.jpg\n",
      "No faces found in image: ../Data/processed/dataset2/test/sad/images224.jpg\n",
      "No faces found in image: ../Data/processed/dataset2/test/sad/images226.jpg\n",
      "No faces found in image: ../Data/processed/dataset2/test/sad/images246.jpg\n",
      "No faces found in image: ../Data/processed/dataset2/test/sad/images250.jpg\n",
      "No faces found in image: ../Data/processed/dataset2/test/sad/images254.jpg\n"
     ]
    },
    {
     "name": "stderr",
     "output_type": "stream",
     "text": [
      "Processing files in ../Data/processed/dataset2/test/sad:  43%|████▎     | 81/187 [00:07<00:03, 28.86it/s]"
     ]
    },
    {
     "name": "stdout",
     "output_type": "stream",
     "text": [
      "Copied image with face to ../Data/processed/dataset2_processed/test/sad/images264.jpg\n",
      "Copied image with face to ../Data/processed/dataset2_processed/test/sad/images269.jpg\n",
      "Copied image with face to ../Data/processed/dataset2_processed/test/sad/images283.jpg\n"
     ]
    },
    {
     "name": "stderr",
     "output_type": "stream",
     "text": [
      "Processing files in ../Data/processed/dataset2/test/sad:  47%|████▋     | 87/187 [00:08<00:04, 24.43it/s]"
     ]
    },
    {
     "name": "stdout",
     "output_type": "stream",
     "text": [
      "Copied image with face to ../Data/processed/dataset2_processed/test/sad/images284.jpg\n",
      "No faces found in image: ../Data/processed/dataset2/test/sad/images308.jpg\n",
      "Copied image with face to ../Data/processed/dataset2_processed/test/sad/images312.jpg\n",
      "No faces found in image: ../Data/processed/dataset2/test/sad/images317.jpg\n",
      "No faces found in image: ../Data/processed/dataset2/test/sad/images32.jpg\n",
      "Copied image with face to ../Data/processed/dataset2_processed/test/sad/images341.jpg\n",
      "No faces found in image: ../Data/processed/dataset2/test/sad/images382.jpg\n"
     ]
    },
    {
     "name": "stderr",
     "output_type": "stream",
     "text": [
      "Processing files in ../Data/processed/dataset2/test/sad:  50%|█████     | 94/187 [00:08<00:03, 27.24it/s]"
     ]
    },
    {
     "name": "stdout",
     "output_type": "stream",
     "text": [
      "No faces found in image: ../Data/processed/dataset2/test/sad/images390.jpg\n",
      "No faces found in image: ../Data/processed/dataset2/test/sad/images391.jpg\n",
      "Copied image with face to ../Data/processed/dataset2_processed/test/sad/images392.jpg\n",
      "No faces found in image: ../Data/processed/dataset2/test/sad/images395.jpg\n",
      "Copied image with face to ../Data/processed/dataset2_processed/test/sad/images399.jpg\n"
     ]
    },
    {
     "name": "stderr",
     "output_type": "stream",
     "text": [
      "Processing files in ../Data/processed/dataset2/test/sad:  53%|█████▎    | 100/187 [00:08<00:03, 23.13it/s]"
     ]
    },
    {
     "name": "stdout",
     "output_type": "stream",
     "text": [
      "No faces found in image: ../Data/processed/dataset2/test/sad/images401.jpg\n",
      "No faces found in image: ../Data/processed/dataset2/test/sad/images404.jpg\n",
      "No faces found in image: ../Data/processed/dataset2/test/sad/images445.jpg\n",
      "Copied image with face to ../Data/processed/dataset2_processed/test/sad/images449.jpg\n",
      "Copied image with face to ../Data/processed/dataset2_processed/test/sad/images45.jpg\n"
     ]
    },
    {
     "name": "stderr",
     "output_type": "stream",
     "text": [
      "Processing files in ../Data/processed/dataset2/test/sad:  57%|█████▋    | 106/187 [00:08<00:03, 22.81it/s]"
     ]
    },
    {
     "name": "stdout",
     "output_type": "stream",
     "text": [
      "Copied image with face to ../Data/processed/dataset2_processed/test/sad/images457.jpg\n",
      "No faces found in image: ../Data/processed/dataset2/test/sad/images463.jpg\n",
      "Copied image with face to ../Data/processed/dataset2_processed/test/sad/images474.jpg\n",
      "No faces found in image: ../Data/processed/dataset2/test/sad/images483.jpg\n",
      "No faces found in image: ../Data/processed/dataset2/test/sad/images493.jpg\n",
      "Copied image with face to ../Data/processed/dataset2_processed/test/sad/images494.jpg\n"
     ]
    },
    {
     "name": "stderr",
     "output_type": "stream",
     "text": [
      "Processing files in ../Data/processed/dataset2/test/sad:  58%|█████▊    | 109/187 [00:08<00:03, 24.02it/s]"
     ]
    },
    {
     "name": "stdout",
     "output_type": "stream",
     "text": [
      "No faces found in image: ../Data/processed/dataset2/test/sad/images502.jpg\n",
      "No faces found in image: ../Data/processed/dataset2/test/sad/images519.jpg\n",
      "Copied image with face to ../Data/processed/dataset2_processed/test/sad/images52.jpg\n",
      "Copied image with face to ../Data/processed/dataset2_processed/test/sad/images534.jpg\n",
      "No faces found in image: ../Data/processed/dataset2/test/sad/images552.jpg\n"
     ]
    },
    {
     "name": "stderr",
     "output_type": "stream",
     "text": [
      "Processing files in ../Data/processed/dataset2/test/sad:  61%|██████▏   | 115/187 [00:09<00:03, 23.56it/s]"
     ]
    },
    {
     "name": "stdout",
     "output_type": "stream",
     "text": [
      "Copied image with face to ../Data/processed/dataset2_processed/test/sad/images554.jpg\n",
      "No faces found in image: ../Data/processed/dataset2/test/sad/images558.jpg\n",
      "No faces found in image: ../Data/processed/dataset2/test/sad/images578.jpg\n",
      "Copied image with face to ../Data/processed/dataset2_processed/test/sad/images581.jpg\n",
      "Copied image with face to ../Data/processed/dataset2_processed/test/sad/images590.jpg\n"
     ]
    },
    {
     "name": "stderr",
     "output_type": "stream",
     "text": [
      "Processing files in ../Data/processed/dataset2/test/sad:  63%|██████▎   | 118/187 [00:09<00:03, 19.71it/s]"
     ]
    },
    {
     "name": "stdout",
     "output_type": "stream",
     "text": [
      "Copied image with face to ../Data/processed/dataset2_processed/test/sad/images593.jpg\n",
      "Copied image with face to ../Data/processed/dataset2_processed/test/sad/images61.jpg\n",
      "No faces found in image: ../Data/processed/dataset2/test/sad/images617.jpg\n",
      "Copied image with face to ../Data/processed/dataset2_processed/test/sad/images629.jpg\n",
      "No faces found in image: ../Data/processed/dataset2/test/sad/images66.jpg\n"
     ]
    },
    {
     "name": "stderr",
     "output_type": "stream",
     "text": [
      "Processing files in ../Data/processed/dataset2/test/sad:  65%|██████▌   | 122/187 [00:09<00:03, 21.13it/s]"
     ]
    },
    {
     "name": "stdout",
     "output_type": "stream",
     "text": [
      "Copied image with face to ../Data/processed/dataset2_processed/test/sad/images665.jpg\n",
      "Copied image with face to ../Data/processed/dataset2_processed/test/sad/images666.jpg\n",
      "Copied image with face to ../Data/processed/dataset2_processed/test/sad/images67.jpg\n"
     ]
    },
    {
     "name": "stderr",
     "output_type": "stream",
     "text": [
      "Processing files in ../Data/processed/dataset2/test/sad:  68%|██████▊   | 128/187 [00:09<00:03, 18.48it/s]"
     ]
    },
    {
     "name": "stdout",
     "output_type": "stream",
     "text": [
      "Copied image with face to ../Data/processed/dataset2_processed/test/sad/images693.jpg\n",
      "No faces found in image: ../Data/processed/dataset2/test/sad/images70.jpg\n",
      "Copied image with face to ../Data/processed/dataset2_processed/test/sad/images73.jpg\n",
      "Copied image with face to ../Data/processed/dataset2_processed/test/sad/images732.jpg\n"
     ]
    },
    {
     "name": "stderr",
     "output_type": "stream",
     "text": [
      "Processing files in ../Data/processed/dataset2/test/sad:  70%|██████▉   | 130/187 [00:10<00:03, 16.94it/s]"
     ]
    },
    {
     "name": "stdout",
     "output_type": "stream",
     "text": [
      "Copied image with face to ../Data/processed/dataset2_processed/test/sad/images754.jpg\n",
      "Copied image with face to ../Data/processed/dataset2_processed/test/sad/images772.jpg\n",
      "Copied image with face to ../Data/processed/dataset2_processed/test/sad/images784.jpg\n"
     ]
    },
    {
     "name": "stderr",
     "output_type": "stream",
     "text": [
      "Processing files in ../Data/processed/dataset2/test/sad:  72%|███████▏  | 134/187 [00:10<00:03, 15.50it/s]"
     ]
    },
    {
     "name": "stdout",
     "output_type": "stream",
     "text": [
      "Copied image with face to ../Data/processed/dataset2_processed/test/sad/images785.jpg\n",
      "Copied image with face to ../Data/processed/dataset2_processed/test/sad/images841.jpg\n",
      "Copied image with face to ../Data/processed/dataset2_processed/test/sad/images849.jpg\n"
     ]
    },
    {
     "name": "stderr",
     "output_type": "stream",
     "text": [
      "Processing files in ../Data/processed/dataset2/test/sad:  74%|███████▍  | 139/187 [00:10<00:02, 17.85it/s]"
     ]
    },
    {
     "name": "stdout",
     "output_type": "stream",
     "text": [
      "Copied image with face to ../Data/processed/dataset2_processed/test/sad/images85.jpg\n",
      "Copied image with face to ../Data/processed/dataset2_processed/test/sad/images87.jpg\n",
      "Copied image with face to ../Data/processed/dataset2_processed/test/sad/images94.jpg\n",
      "No faces found in image: ../Data/processed/dataset2/test/sad/images96.jpg\n",
      "No faces found in image: ../Data/processed/dataset2/test/sad/images99.jpg\n"
     ]
    },
    {
     "name": "stderr",
     "output_type": "stream",
     "text": [
      "Processing files in ../Data/processed/dataset2/test/sad:  75%|███████▌  | 141/187 [00:10<00:02, 15.54it/s]"
     ]
    },
    {
     "name": "stdout",
     "output_type": "stream",
     "text": [
      "Copied image with face to ../Data/processed/dataset2_processed/test/sad/Image_cover_1200x768.jpeg\n",
      "No faces found in image: ../Data/processed/dataset2/test/sad/Indian-muslim-boy-illustration-is-crying-15-Large.jpg\n",
      "Copied image with face to ../Data/processed/dataset2_processed/test/sad/indianmexican-woman-crying-studio-portrait-260nw-1222267804.jpg\n"
     ]
    },
    {
     "name": "stderr",
     "output_type": "stream",
     "text": [
      "Processing files in ../Data/processed/dataset2/test/sad:  76%|███████▋  | 143/187 [00:11<00:03, 14.62it/s]"
     ]
    },
    {
     "name": "stdout",
     "output_type": "stream",
     "text": [
      "Copied image with face to ../Data/processed/dataset2_processed/test/sad/ing-face-with-hands-while-crying-depression-concept-red-background_448865-24.jpg\n",
      "No faces found in image: ../Data/processed/dataset2/test/sad/isfied-with-a-mask-close-up-photo-man-doesnt-want-to-care-of-his-face-T79JW4.jpg\n"
     ]
    },
    {
     "name": "stderr",
     "output_type": "stream",
     "text": [
      "Processing files in ../Data/processed/dataset2/test/sad:  79%|███████▊  | 147/187 [00:11<00:03, 12.03it/s]"
     ]
    },
    {
     "name": "stdout",
     "output_type": "stream",
     "text": [
      "Copied image with face to ../Data/processed/dataset2_processed/test/sad/lovepik-old-people-sad-png-image_401390668_wh1200.png\n",
      "No faces found in image: ../Data/processed/dataset2/test/sad/lovepik-sad-girl-sitting-on-the-ground-picture_501527795.jpg\n",
      "Copied image with face to ../Data/processed/dataset2_processed/test/sad/man-angry-man-people-dark.jpg\n"
     ]
    },
    {
     "name": "stderr",
     "output_type": "stream",
     "text": [
      "Processing files in ../Data/processed/dataset2/test/sad:  81%|████████  | 151/187 [00:11<00:03, 11.69it/s]"
     ]
    },
    {
     "name": "stdout",
     "output_type": "stream",
     "text": [
      "Copied image with face to ../Data/processed/dataset2_processed/test/sad/man-hides-his-face-in-kolkata-india-FJ1P7P.jpg\n",
      "No faces found in image: ../Data/processed/dataset2/test/sad/maxresdefault4.jpg\n",
      "Copied image with face to ../Data/processed/dataset2_processed/test/sad/ndian-man-in-yellow-t-shirt-crying-loud-on-red-background-open-mouth-2rtcfm4.jpg\n",
      "No faces found in image: ../Data/processed/dataset2/test/sad/ng-face-with-hands-while-crying-depression-concept-red-background_448865-407.jpg\n",
      "Copied image with face to ../Data/processed/dataset2_processed/test/sad/of-male-indian-cricket-sport-fan-with-painted-indian-flag-on-face-1425010286.jpg\n"
     ]
    },
    {
     "name": "stderr",
     "output_type": "stream",
     "text": [
      "Processing files in ../Data/processed/dataset2/test/sad:  82%|████████▏ | 153/187 [00:13<00:10,  3.14it/s]"
     ]
    },
    {
     "name": "stdout",
     "output_type": "stream",
     "text": [
      "Copied image with face to ../Data/processed/dataset2_processed/test/sad/pexels-photo-10090774.jpeg\n"
     ]
    },
    {
     "name": "stderr",
     "output_type": "stream",
     "text": [
      "Processing files in ../Data/processed/dataset2/test/sad:  83%|████████▎ | 156/187 [00:14<00:07,  3.99it/s]"
     ]
    },
    {
     "name": "stdout",
     "output_type": "stream",
     "text": [
      "No faces found in image: ../Data/processed/dataset2/test/sad/pexels-photo-670720.jpeg\n",
      "No faces found in image: ../Data/processed/dataset2/test/sad/png-transparent-indian-woman-sad-upset-lonely-emotion-woman-feelings-expression-alone-loneliness.png\n",
      "No faces found in image: ../Data/processed/dataset2/test/sad/png-transparent-sadness-face-smiley-face-face-people-smiley.png\n",
      "Copied image with face to ../Data/processed/dataset2_processed/test/sad/pngtree-asian-man-portrait-face-sad-people-photo-picture-image_7331024.jpg\n"
     ]
    },
    {
     "name": "stderr",
     "output_type": "stream",
     "text": [
      "Processing files in ../Data/processed/dataset2/test/sad:  84%|████████▍ | 158/187 [00:14<00:07,  4.12it/s]"
     ]
    },
    {
     "name": "stdout",
     "output_type": "stream",
     "text": [
      "Copied image with face to ../Data/processed/dataset2_processed/test/sad/pngtree-isolated-yellow-sad-and-unhappy-face-icon-concept-photo-png-image_14238649.png\n",
      "No faces found in image: ../Data/processed/dataset2/test/sad/portrait-depressed-woman-crying_23-2150761422.jpg\n",
      "No faces found in image: ../Data/processed/dataset2/test/sad/portrait-sad-people-young-40909457.jpg\n"
     ]
    },
    {
     "name": "stderr",
     "output_type": "stream",
     "text": [
      "Processing files in ../Data/processed/dataset2/test/sad:  86%|████████▌ | 161/187 [00:14<00:04,  5.76it/s]"
     ]
    },
    {
     "name": "stdout",
     "output_type": "stream",
     "text": [
      "Copied image with face to ../Data/processed/dataset2_processed/test/sad/portrait-young-man-lonely-boring-sad-people-B2GTFD.jpg\n"
     ]
    },
    {
     "name": "stderr",
     "output_type": "stream",
     "text": [
      "Processing files in ../Data/processed/dataset2/test/sad:  87%|████████▋ | 163/187 [00:15<00:05,  4.06it/s]"
     ]
    },
    {
     "name": "stdout",
     "output_type": "stream",
     "text": [
      "Copied image with face to ../Data/processed/dataset2_processed/test/sad/ream-laughter-emotion-born-small-child-live-new-portrait-photography-1093632.jpg\n",
      "Copied image with face to ../Data/processed/dataset2_processed/test/sad/rohit-sharma-crying-virat-kohli-2024-06-a349437f4e4682864cb3c23760ff974a.jpg\n"
     ]
    },
    {
     "name": "stderr",
     "output_type": "stream",
     "text": [
      "Processing files in ../Data/processed/dataset2/test/sad:  88%|████████▊ | 165/187 [00:15<00:04,  4.85it/s]"
     ]
    },
    {
     "name": "stdout",
     "output_type": "stream",
     "text": [
      "No faces found in image: ../Data/processed/dataset2/test/sad/rops-flow-down-the-glass-face-of-a-sad-girl-close-up-ai-generated-free-photo.jpg\n",
      "Copied image with face to ../Data/processed/dataset2_processed/test/sad/sad-boy-crying-in-field-on-sunny-day-ANAF02278.jpg\n",
      "No faces found in image: ../Data/processed/dataset2/test/sad/sad-desperate-grieving-crying-woman-260nw-1639121464.jpg\n"
     ]
    },
    {
     "name": "stderr",
     "output_type": "stream",
     "text": [
      "Processing files in ../Data/processed/dataset2/test/sad:  90%|████████▉ | 168/187 [00:16<00:02,  6.36it/s]"
     ]
    },
    {
     "name": "stdout",
     "output_type": "stream",
     "text": [
      "Copied image with face to ../Data/processed/dataset2_processed/test/sad/sad-face-pictures-1920-x-1080-s3se61fgdr80r29r.jpg\n",
      "No faces found in image: ../Data/processed/dataset2/test/sad/sad-girl-crouching-in-front-of-wooden-wall-hiding-her-face-JFEF00937.jpg\n",
      "No faces found in image: ../Data/processed/dataset2/test/sad/sad-people-vector-26812552.jpg\n",
      "No faces found in image: ../Data/processed/dataset2/test/sad/sad-serious-illness-womandepressed-emotion-260nw-1810793920.jpg\n"
     ]
    },
    {
     "name": "stderr",
     "output_type": "stream",
     "text": [
      "Processing files in ../Data/processed/dataset2/test/sad:  93%|█████████▎| 173/187 [00:16<00:01,  9.73it/s]"
     ]
    },
    {
     "name": "stdout",
     "output_type": "stream",
     "text": [
      "Copied image with face to ../Data/processed/dataset2_processed/test/sad/sad-wise-woman-at-window.jpg\n",
      "Copied image with face to ../Data/processed/dataset2_processed/test/sad/sad-young-indian-female-crying-260nw-2306852491.jpg\n",
      "Copied image with face to ../Data/processed/dataset2_processed/test/sad/sad-young-indian-man-over-blue-background-RDM1TE.jpg\n"
     ]
    },
    {
     "name": "stderr",
     "output_type": "stream",
     "text": [
      "Processing files in ../Data/processed/dataset2/test/sad:  94%|█████████▎| 175/187 [00:16<00:01,  8.99it/s]"
     ]
    },
    {
     "name": "stdout",
     "output_type": "stream",
     "text": [
      "Copied image with face to ../Data/processed/dataset2_processed/test/sad/sadness.jpg\n",
      "No faces found in image: ../Data/processed/dataset2/test/sad/sad_depression_girl_face_hd_depression-HD.jpg\n"
     ]
    },
    {
     "name": "stderr",
     "output_type": "stream",
     "text": [
      "Processing files in ../Data/processed/dataset2/test/sad:  95%|█████████▍| 177/187 [00:17<00:01,  8.02it/s]"
     ]
    },
    {
     "name": "stdout",
     "output_type": "stream",
     "text": [
      "Copied image with face to ../Data/processed/dataset2_processed/test/sad/sad_face_of_blue_eyes_anime_girl_with_red_scarf_hd_anime_girl-1920x1080.jpg\n",
      "No faces found in image: ../Data/processed/dataset2/test/sad/sad_man_is_covering_face_with_hands_standing_in_blur_bokeh_background_hd_sad-HD.jpg\n"
     ]
    },
    {
     "name": "stderr",
     "output_type": "stream",
     "text": [
      "Processing files in ../Data/processed/dataset2/test/sad:  96%|█████████▌| 179/187 [00:17<00:01,  7.84it/s]"
     ]
    },
    {
     "name": "stdout",
     "output_type": "stream",
     "text": [
      "Copied image with face to ../Data/processed/dataset2_processed/test/sad/shouting-woman-with-unhappy-depressed-crying-face-in-big-grief-black-EHT2X6.jpg\n",
      "Copied image with face to ../Data/processed/dataset2_processed/test/sad/side-view-of-sad-girl-standing-against-gray-background-ER8WH9.jpg\n"
     ]
    },
    {
     "name": "stderr",
     "output_type": "stream",
     "text": [
      "Processing files in ../Data/processed/dataset2/test/sad:  97%|█████████▋| 182/187 [00:17<00:00,  9.29it/s]"
     ]
    },
    {
     "name": "stdout",
     "output_type": "stream",
     "text": [
      "Copied image with face to ../Data/processed/dataset2_processed/test/sad/stock-photo-a-little-girl-with-a-sad-face-drawing-of-a-unhappy-frown-sad-people-1818418286.jpg\n",
      "No faces found in image: ../Data/processed/dataset2/test/sad/tear-7348539_640.jpg\n",
      "No faces found in image: ../Data/processed/dataset2/test/sad/tears.jpg\n"
     ]
    },
    {
     "name": "stderr",
     "output_type": "stream",
     "text": [
      "Processing files in ../Data/processed/dataset2/test/sad:  98%|█████████▊| 184/187 [00:18<00:00,  6.83it/s]"
     ]
    },
    {
     "name": "stdout",
     "output_type": "stream",
     "text": [
      "Copied image with face to ../Data/processed/dataset2_processed/test/sad/V1hk2P9DXAOwBEw11sR8WXX3eSKNwik3Qlq3FiELKdKV6aSldR-1500x1500.jpg\n",
      "Copied image with face to ../Data/processed/dataset2_processed/test/sad/woman-1867127_1280.jpg\n",
      "No faces found in image: ../Data/processed/dataset2/test/sad/woman-face-profile-tears-her-600nw-1525456064.jpg\n"
     ]
    },
    {
     "name": "stderr",
     "output_type": "stream",
     "text": [
      "Processing files in ../Data/processed/dataset2/test/sad: 100%|██████████| 187/187 [00:18<00:00, 10.16it/s]"
     ]
    },
    {
     "name": "stdout",
     "output_type": "stream",
     "text": [
      "Copied image with face to ../Data/processed/dataset2_processed/test/sad/X3RvdWNoaW5nX2ZhY2Vfc18yZjE1MWM5YS0yY2RlLTRlNzgtOWI3Zi1iY2NlMWYzZjIyM2QucG5n.png\n",
      "No faces found in image: ../Data/processed/dataset2/test/sad/yellow-sad-face-negative-people-emotion-icon-vector-14659016.jpg\n",
      "Total images processed: 325\n",
      "Total images with faces: 194\n"
     ]
    },
    {
     "name": "stderr",
     "output_type": "stream",
     "text": [
      "\n"
     ]
    }
   ],
   "source": [
    "# Import necessary libraries\n",
    "import cv2\n",
    "import os\n",
    "from tqdm import tqdm\n",
    "from PIL import Image\n",
    "import shutil\n",
    "from tensorflow.keras.preprocessing.image import ImageDataGenerator\n",
    "\n",
    "# Define paths\n",
    "# Input directories\n",
    "train_dataset2_dir = '../Data/processed/dataset2/train/'\n",
    "test_dataset2_dir = '../Data/processed/dataset2/test/'\n",
    "\n",
    "# Output directories\n",
    "processed_train_dataset2_dir = '../Data/processed/dataset2_processed/train/'\n",
    "processed_test_dataset2_dir = '../Data/processed/dataset2_processed/test/'\n",
    "\n",
    "\n",
    "\n",
    "# Ensure output directories exist\n",
    "os.makedirs(processed_train_dataset2_dir, exist_ok=True)\n",
    "os.makedirs(processed_test_dataset2_dir, exist_ok=True)\n",
    "\n",
    "print(f\"Training Input Directory: {train_dataset2_dir}\")\n",
    "print(f\"Training Output Directory: {processed_train_dataset2_dir}\")\n",
    "print(f\"Testing Input Directory: {test_dataset2_dir}\")\n",
    "print(f\"Testing Output Directory: {processed_test_dataset2_dir}\")\n",
    "\n",
    "\n",
    "def filter_images_with_faces(input_dir, output_dir):\n",
    "    face_cascade = cv2.CascadeClassifier(\n",
    "        cv2.data.haarcascades + 'haarcascade_frontalface_default.xml')\n",
    "    \n",
    "    if face_cascade.empty():\n",
    "        print(\"Error loading Haar Cascade XML file.\")\n",
    "        return\n",
    "    \n",
    "    total_images = 0\n",
    "    images_with_faces = 0\n",
    "    \n",
    "    for root, dirs, files in os.walk(input_dir):\n",
    "        # Only process files if they exist\n",
    "        if not files:\n",
    "            print(f\"No files found in directory: {root}\")\n",
    "            continue  # Proceed to the next directory\n",
    "        \n",
    "        for file in tqdm(files, desc=f\"Processing files in {root}\"):\n",
    "            img_path = os.path.join(root, file)\n",
    "            \n",
    "            # Check if file is an image\n",
    "            if file.lower().endswith(('.jpg', '.jpeg', '.png', '.bmp', '.tiff')):\n",
    "                total_images += 1\n",
    "                img = cv2.imread(img_path)\n",
    "                if img is None:\n",
    "                    print(f\"Warning: Image {img_path} could not be read.\")\n",
    "                    continue  # Proceed to the next image\n",
    "                \n",
    "                gray = cv2.cvtColor(img, cv2.COLOR_BGR2GRAY)\n",
    "                faces = face_cascade.detectMultiScale(\n",
    "                    gray, scaleFactor=1.1, minNeighbors=5)\n",
    "                \n",
    "                if len(faces) == 0:\n",
    "                    # No faces detected; skip this image\n",
    "                    print(f\"No faces found in image: {img_path}\")\n",
    "                    continue  # Not copying this image\n",
    "                else:\n",
    "                    # Face(s) detected; copy the original image to the output directory\n",
    "                    relative_path = os.path.relpath(root, input_dir)\n",
    "                    output_folder = os.path.join(output_dir, relative_path)\n",
    "                    os.makedirs(output_folder, exist_ok=True)\n",
    "                    output_path = os.path.join(output_folder, file)\n",
    "                    shutil.copy2(img_path, output_path)\n",
    "                    images_with_faces += 1\n",
    "                    print(f\"Copied image with face to {output_path}\")\n",
    "            else:\n",
    "                print(f\"Skipping non-image file: {img_path}\")\n",
    "        \n",
    "    print(f\"Total images processed: {total_images}\")\n",
    "    print(f\"Total images with faces: {images_with_faces}\")\n",
    "\n",
    "\n",
    "\n",
    "\n",
    "# Function for resizing images\n",
    "def resize_images(input_dir, output_dir, size=(224, 224)):\n",
    "    for root, dirs, files in os.walk(input_dir):\n",
    "        for file in tqdm(files):\n",
    "            if file.endswith(('jpg', 'jpeg', 'png')):\n",
    "                img_path = os.path.join(root, file)\n",
    "                img = Image.open(img_path)\n",
    "                img = img.resize(size)\n",
    "                output_path = os.path.join(\n",
    "                    output_dir, os.path.relpath(img_path, input_dir))\n",
    "                os.makedirs(os.path.dirname(output_path), exist_ok=True)\n",
    "                img.save(output_path)\n",
    "\n",
    "# Process the training set\n",
    "print(\"Processing Dataset 2 - Training Set...\")\n",
    "filter_images_with_faces(train_dataset2_dir, processed_train_dataset2_dir)\n",
    "\n",
    "# Process the test set\n",
    "print(\"Processing Dataset 2 - Testing Set...\")\n",
    "filter_images_with_faces(test_dataset2_dir, processed_test_dataset2_dir)\n",
    "\n",
    "# Data augmentation can be done during training using ImageDataGenerator"
   ]
  }
 ],
 "metadata": {
  "kernelspec": {
   "display_name": "tf",
   "language": "python",
   "name": "python3"
  },
  "language_info": {
   "codemirror_mode": {
    "name": "ipython",
    "version": 3
   },
   "file_extension": ".py",
   "mimetype": "text/x-python",
   "name": "python",
   "nbconvert_exporter": "python",
   "pygments_lexer": "ipython3",
   "version": "3.9.21"
  }
 },
 "nbformat": 4,
 "nbformat_minor": 2
}
